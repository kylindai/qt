{
 "cells": [
  {
   "cell_type": "code",
   "execution_count": 1,
   "id": "e70f0d7e",
   "metadata": {},
   "outputs": [],
   "source": [
    "import requests\n",
    "from bs4 import BeautifulSoup"
   ]
  },
  {
   "cell_type": "code",
   "execution_count": 19,
   "id": "9465480d",
   "metadata": {},
   "outputs": [
    {
     "name": "stdout",
     "output_type": "stream",
     "text": [
      "----------------------------------------------------------------------------------------------------\n",
      "File name: FilingSummary.xml\n",
      "File paht: https://www.sec.gov/Archives/edgar/data/1102934/000110293421000052/FilingSummary.xml\n"
     ]
    }
   ],
   "source": [
    "base_url = r'https://www.sec.gov'\n",
    "\n",
    "# 10_K file name\n",
    "# file_name_10_K = 'https://www.sec.gov/Archives/edgar/data/1102934/0001102934-21-000052.txt'\n",
    "file_name_10_k = 'https://www.sec.gov/Archives/edgar/data/897723/0000897723-21-000028.txt'\n",
    "# documents_url = r'https://www.sec.gov/Archives/edgar/data/1102934/000110293421000052/index.json'\n",
    "documents_url = file_name_10_K.replace('-', '').replace('.txt', '/index.json')\n",
    "\n",
    "headers = {'User-Agent': 'miaowa.pro'}\n",
    "\n",
    "content = requests.get(documents_url, headers=headers).json()\n",
    "\n",
    "for file in content['directory']['item']:\n",
    "    \n",
    "    if file['name'] == 'FilingSummary.xml':\n",
    "        \n",
    "        xml_summary = base_url + content['directory']['name'] + '/' + file['name']\n",
    "        \n",
    "        print('-' * 100)\n",
    "        print('File name:', file['name'])\n",
    "        print('File paht:', xml_summary)"
   ]
  },
  {
   "cell_type": "markdown",
   "id": "98e6fc71",
   "metadata": {},
   "source": [
    "```xml\n",
    "<MyReports>\n",
    "  <Report instance=\"ccmp-20210930.htm\">\n",
    "    <IsDefault>false</IsDefault>\n",
    "    <HasEmbeddedReports>false</HasEmbeddedReports>\n",
    "    <HtmlFileName>R3.htm</HtmlFileName>\n",
    "    <LongName>100020003 - Statement - CONSOLIDATED STATEMENTS OF COMPREHENSIVE (LOSS) INCOME</LongName>\n",
    "    <ReportType>Sheet</ReportType>\n",
    "    <Role>http://cabotcmp.com/role/CONSOLIDATEDSTATEMENTSOFCOMPREHENSIVELOSSINCOME</Role>\n",
    "    <ShortName>CONSOLIDATED STATEMENTS OF COMPREHENSIVE (LOSS) INCOME</ShortName>\n",
    "    <MenuCategory>Statements</MenuCategory>\n",
    "    <Position>3</Position>\n",
    "  </Report>\n",
    "</MyReports>\n",
    "```"
   ]
  },
  {
   "cell_type": "code",
   "execution_count": 20,
   "id": "99896372",
   "metadata": {},
   "outputs": [
    {
     "data": {
      "text/plain": [
       "[{'SHORT_NAME': 'CONSOLIDATED STATEMENTS OF (LOSS) INCOME',\n",
       "  'LONG_NAME': '100010002 - Statement - CONSOLIDATED STATEMENTS OF (LOSS) INCOME',\n",
       "  'POSITION': '2',\n",
       "  'CATEGORY': 'Statements',\n",
       "  'URL': 'https://www.sec.gov/Archives/edgar/data/1102934/000110293421000052/R2.htm'},\n",
       " {'SHORT_NAME': 'CONSOLIDATED STATEMENTS OF COMPREHENSIVE (LOSS) INCOME',\n",
       "  'LONG_NAME': '100020003 - Statement - CONSOLIDATED STATEMENTS OF COMPREHENSIVE (LOSS) INCOME',\n",
       "  'POSITION': '3',\n",
       "  'CATEGORY': 'Statements',\n",
       "  'URL': 'https://www.sec.gov/Archives/edgar/data/1102934/000110293421000052/R3.htm'},\n",
       " {'SHORT_NAME': 'CONSOLIDATED BALANCE SHEETS',\n",
       "  'LONG_NAME': '100030004 - Statement - CONSOLIDATED BALANCE SHEETS',\n",
       "  'POSITION': '4',\n",
       "  'CATEGORY': 'Statements',\n",
       "  'URL': 'https://www.sec.gov/Archives/edgar/data/1102934/000110293421000052/R4.htm'},\n",
       " {'SHORT_NAME': 'CONSOLIDATED BALANCE SHEETS (Parenthetical)',\n",
       "  'LONG_NAME': '100040005 - Statement - CONSOLIDATED BALANCE SHEETS (Parenthetical)',\n",
       "  'POSITION': '5',\n",
       "  'CATEGORY': 'Statements',\n",
       "  'URL': 'https://www.sec.gov/Archives/edgar/data/1102934/000110293421000052/R5.htm'},\n",
       " {'SHORT_NAME': 'CONSOLIDATED STATEMENTS OF CASH FLOWS',\n",
       "  'LONG_NAME': '100050006 - Statement - CONSOLIDATED STATEMENTS OF CASH FLOWS',\n",
       "  'POSITION': '6',\n",
       "  'CATEGORY': 'Statements',\n",
       "  'URL': 'https://www.sec.gov/Archives/edgar/data/1102934/000110293421000052/R6.htm'},\n",
       " {'SHORT_NAME': \"CONSOLIDATED STATEMENT OF CHANGES IN STOCKHOLDERS' EQUITY\",\n",
       "  'LONG_NAME': \"100060007 - Statement - CONSOLIDATED STATEMENT OF CHANGES IN STOCKHOLDERS' EQUITY\",\n",
       "  'POSITION': '7',\n",
       "  'CATEGORY': 'Statements',\n",
       "  'URL': 'https://www.sec.gov/Archives/edgar/data/1102934/000110293421000052/R7.htm'},\n",
       " {'SHORT_NAME': \"CONSOLIDATED STATEMENT OF CHANGES IN STOCKHOLDER'S EQUITY (Parenthetical)\",\n",
       "  'LONG_NAME': \"100070008 - Statement - CONSOLIDATED STATEMENT OF CHANGES IN STOCKHOLDER'S EQUITY (Parenthetical)\",\n",
       "  'POSITION': '8',\n",
       "  'CATEGORY': 'Statements',\n",
       "  'URL': 'https://www.sec.gov/Archives/edgar/data/1102934/000110293421000052/R8.htm'}]"
      ]
     },
     "execution_count": 20,
     "metadata": {},
     "output_type": "execute_result"
    }
   ],
   "source": [
    "base_url = xml_summary.replace('FilingSummary.xml', '')\n",
    "\n",
    "content = requests.get(xml_summary, headers=headers).content\n",
    "soup = BeautifulSoup(content, 'lxml')\n",
    "\n",
    "reports = soup.find('myreports')\n",
    "# print(reports)\n",
    "\n",
    "master_reports = []\n",
    "\n",
    "for report in reports.find_all('report')[:-1]:\n",
    "    \n",
    "    report_dict = {}\n",
    "    report_dict['SHORT_NAME'] = report.shortname.text\n",
    "    report_dict['LONG_NAME'] = report.longname.text\n",
    "    report_dict['POSITION'] = report.position.text\n",
    "    report_dict['CATEGORY'] = report.menucategory.text\n",
    "    report_dict['URL'] = base_url + report.htmlfilename.text\n",
    "    \n",
    "    if report_dict['CATEGORY'] == 'Statements':\n",
    "        master_reports.append(report_dict)\n",
    "    \n",
    "master_reports\n",
    "    "
   ]
  },
  {
   "cell_type": "code",
   "execution_count": 27,
   "id": "e405916f",
   "metadata": {},
   "outputs": [
    {
     "name": "stdout",
     "output_type": "stream",
     "text": [
      "----------------------------------------------------------------------------------------------------\n",
      "CONSOLIDATED STATEMENTS OF (LOSS) INCOME\n",
      "https://www.sec.gov/Archives/edgar/data/1102934/000110293421000052/R2.htm\n",
      "----------------------------------------------------------------------------------------------------\n",
      "CONSOLIDATED STATEMENTS OF COMPREHENSIVE (LOSS) INCOME\n",
      "https://www.sec.gov/Archives/edgar/data/1102934/000110293421000052/R3.htm\n",
      "----------------------------------------------------------------------------------------------------\n",
      "CONSOLIDATED BALANCE SHEETS\n",
      "https://www.sec.gov/Archives/edgar/data/1102934/000110293421000052/R4.htm\n",
      "----------------------------------------------------------------------------------------------------\n",
      "CONSOLIDATED BALANCE SHEETS (Parenthetical)\n",
      "https://www.sec.gov/Archives/edgar/data/1102934/000110293421000052/R5.htm\n",
      "----------------------------------------------------------------------------------------------------\n",
      "CONSOLIDATED STATEMENTS OF CASH FLOWS\n",
      "https://www.sec.gov/Archives/edgar/data/1102934/000110293421000052/R6.htm\n"
     ]
    }
   ],
   "source": [
    "statements_url = []\n",
    "\n",
    "for report_dict in master_reports:\n",
    "    \n",
    "    # define the statements we want to look for.\n",
    "    item1 = r\"CONSOLIDATED BALANCE SHEETS\"\n",
    "    item2 = r\"CONSOLIDATED BALANCE SHEETS (PARENTHETICAL)\"\n",
    "    item3 = r\"CONSOLIDATED STATEMENTS OF (LOSS) INCOME\"\n",
    "    item4 = r\"CONSOLIDATED STATEMENTS OF COMPREHENSIVE (LOSS) INCOME\"\n",
    "    item5 = r\"CONSOLIDATED STATEMENTS OF CASH FLOWS\"\n",
    "    \n",
    "    # store them in a list.\n",
    "    report_list = [item1, item2, item3, item4, item5]\n",
    "    \n",
    "#     print(report_dict['SHORT_NAME'])\n",
    "    if report_dict['SHORT_NAME'].upper() in report_list:\n",
    "        \n",
    "        print('-' * 100)\n",
    "#         print(report_dict['POSITION'])\n",
    "        print(report_dict['SHORT_NAME'])\n",
    "        print(report_dict['URL'])\n",
    "        statements_url.append(report_dict['URL'])\n",
    "        \n"
   ]
  },
  {
   "cell_type": "code",
   "execution_count": null,
   "id": "b4c4b176",
   "metadata": {},
   "outputs": [],
   "source": []
  }
 ],
 "metadata": {
  "kernelspec": {
   "display_name": "Python 3 (ipykernel)",
   "language": "python",
   "name": "python3"
  },
  "language_info": {
   "codemirror_mode": {
    "name": "ipython",
    "version": 3
   },
   "file_extension": ".py",
   "mimetype": "text/x-python",
   "name": "python",
   "nbconvert_exporter": "python",
   "pygments_lexer": "ipython3",
   "version": "3.9.7"
  }
 },
 "nbformat": 4,
 "nbformat_minor": 5
}
