{
 "cells": [
  {
   "cell_type": "code",
   "execution_count": 1,
   "id": "5b9d97f1",
   "metadata": {},
   "outputs": [],
   "source": [
    "import pandas as pd\n",
    "import numpy as np\n",
    "import datetime as dt\n",
    "\n",
    "import yfinance as yf\n",
    "\n",
    "import warnings\n",
    "warnings.filterwarnings(\"ignore\")"
   ]
  },
  {
   "cell_type": "code",
   "execution_count": null,
   "id": "6bd7822e",
   "metadata": {},
   "outputs": [],
   "source": [
    "# download historical data for required stocks\n",
    "ticker = 'AAPL'\n",
    "AAPL = yf.download(ticker, dt.date.today() - dt.timedelta(365 * 5), dt.date.today())"
   ]
  },
  {
   "cell_type": "code",
   "execution_count": null,
   "id": "fdfbb234",
   "metadata": {},
   "outputs": [],
   "source": [
    "AAPL.head()"
   ]
  },
  {
   "cell_type": "code",
   "execution_count": null,
   "id": "fbe00261",
   "metadata": {},
   "outputs": [],
   "source": [
    "AAPL.tail()"
   ]
  },
  {
   "cell_type": "code",
   "execution_count": null,
   "id": "9180dd52",
   "metadata": {},
   "outputs": [],
   "source": [
    "from backtesting import Strategy\n",
    "from backtesting.lib import crossover\n",
    "from backtesting.lib import SignalStrategy, TrailingStrategy\n",
    "from backtesting.test import SMA\n"
   ]
  },
  {
   "cell_type": "code",
   "execution_count": null,
   "id": "2f57b100",
   "metadata": {},
   "outputs": [],
   "source": [
    "class SmaCross(SignalStrategy, TrailingStrategy):\n",
    "    n1 = 50\n",
    "    n2 = 200\n",
    "    \n",
    "    def init(self):\n",
    "        super().init()\n",
    "        \n",
    "        sma1 = self.I(SMA, self.data.Close, self.n1)\n",
    "        sma2 = self.I(SMA, self.data.Close, self.n2)\n",
    "        \n",
    "        # Where sma1 crosses sma2 upwards. Diff gives us [-1, 0, *1*]\n",
    "        signal = (pd.Series(sma1) > sma2).astype(int).diff().fillna(0)\n",
    "        signal = signal.replace(-1, 0) # Upwards/long only\n",
    "        \n",
    "        entry_size = signal * 0.95\n",
    "        \n",
    "        self.set_signal(entry_size = entry_size)\n",
    "        \n",
    "        self.set_atr_periods(20)\n",
    "        self.set_trailing_sl(2) # ATR stop loss"
   ]
  },
  {
   "cell_type": "code",
   "execution_count": null,
   "id": "203cb11e",
   "metadata": {},
   "outputs": [],
   "source": [
    "from backtesting import Backtest\n",
    "\n",
    "bt = Backtest(AAPL, SmaCross, commission=0.002, trade_on_close=True)\n",
    "bt.run()\n",
    "bt.plot()"
   ]
  },
  {
   "cell_type": "code",
   "execution_count": null,
   "id": "7905eae8",
   "metadata": {},
   "outputs": [],
   "source": [
    "stats = bt.run()\n",
    "stats"
   ]
  },
  {
   "cell_type": "code",
   "execution_count": null,
   "id": "70ed08ad",
   "metadata": {},
   "outputs": [],
   "source": [
    "# Parameter optimization\n",
    "stats = bt.optimize(n1=range(5, 50, 5),\n",
    "                        n2=range(10, 200, 5),\n",
    "                        maximize='Sharpe Ratio',\n",
    "                        constraint=lambda param: param.n1 < param.n2)\n",
    "stats"
   ]
  },
  {
   "cell_type": "code",
   "execution_count": null,
   "id": "f98c9339",
   "metadata": {},
   "outputs": [],
   "source": [
    "# get the optimization parameters of n1, n2\n",
    "stats._strategy"
   ]
  },
  {
   "cell_type": "code",
   "execution_count": null,
   "id": "022e6348",
   "metadata": {},
   "outputs": [],
   "source": [
    "class SmaCross2(SignalStrategy, TrailingStrategy):\n",
    "    n1 = 5\n",
    "    n2 = 175\n",
    "    \n",
    "    def init(self):\n",
    "        super().init()\n",
    "        \n",
    "        sma1 = self.I(SMA, self.data.Close, self.n1)\n",
    "        sma2 = self.I(SMA, self.data.Close, self.n2)\n",
    "        \n",
    "        # Where sma1 crosses sma2 upwards. Diff gives us [-1, 0, *1*]\n",
    "        signal = (pd.Series(sma1) > sma2).astype(int).diff().fillna(0)\n",
    "        signal = signal.replace(-1, 0) # Upwards/long only\n",
    "        \n",
    "        entry_size = signal * 0.95\n",
    "        \n",
    "        self.set_signal(entry_size = entry_size)\n",
    "        \n",
    "        self.set_atr_periods(20)\n",
    "        self.set_trailing_sl(2) # ATR stop loss"
   ]
  },
  {
   "cell_type": "code",
   "execution_count": null,
   "id": "1898c5d1",
   "metadata": {},
   "outputs": [],
   "source": [
    "bt = Backtest(AAPL, SmaCross2, commission=0.002, trade_on_close=True)\n",
    "bt.run()\n",
    "bt.plot()"
   ]
  },
  {
   "cell_type": "code",
   "execution_count": null,
   "id": "c7d48998",
   "metadata": {},
   "outputs": [],
   "source": [
    "stats = bt.run()\n",
    "stats"
   ]
  },
  {
   "cell_type": "code",
   "execution_count": null,
   "id": "084291e7",
   "metadata": {},
   "outputs": [],
   "source": []
  }
 ],
 "metadata": {
  "kernelspec": {
   "display_name": "Python 3 (ipykernel)",
   "language": "python",
   "name": "python3"
  },
  "language_info": {
   "codemirror_mode": {
    "name": "ipython",
    "version": 3
   },
   "file_extension": ".py",
   "mimetype": "text/x-python",
   "name": "python",
   "nbconvert_exporter": "python",
   "pygments_lexer": "ipython3",
   "version": "3.9.10"
  }
 },
 "nbformat": 4,
 "nbformat_minor": 5
}
