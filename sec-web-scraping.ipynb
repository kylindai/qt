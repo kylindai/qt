{
 "cells": [
  {
   "cell_type": "code",
   "execution_count": null,
   "id": "fd026954",
   "metadata": {},
   "outputs": [],
   "source": [
    "import requests\n",
    "from bs4 import BeautifulSoup"
   ]
  },
  {
   "cell_type": "code",
   "execution_count": null,
   "id": "8e1bed1a",
   "metadata": {},
   "outputs": [],
   "source": [
    "# scraping https://www.sec.gov/Archives/edgar/data/886982/index.json\n",
    "\n",
    "# define our base url\n",
    "base_url = r\"https://www.sec.gov/Archives/edgar/data\"\n",
    "\n",
    "# define a CIK number to do a company search, in this example NIO Inc.\n",
    "cik_num = \"/1736541/\"\n",
    "\n",
    "# let's create a filing url\n",
    "filings_url = base_url + cik_num + \"index.json\"\n",
    "print(\"filings_url:\", filings_url)\n",
    "\n",
    "# we should have a header for request\n",
    "headers = {\n",
    "    'User-Agent': 'miaowa.pro'\n",
    "}\n",
    "\n",
    "# let's requests the url\n",
    "content = requests.get(filings_url, headers=headers)\n",
    "decoded_content = content.json()\n",
    "\n",
    "# filing num\n",
    "filing_number = decoded_content['directory']['item'][0]['name']\n",
    "\n",
    "# define out filing number url\n",
    "filing_url = base_url + cik_num + filing_number + \"/index.json\"\n",
    "print(\"filing_url:\", filing_url)\n",
    "\n",
    "# let's request the url\n",
    "content = requests.get(filing_url, headers=headers)\n",
    "document_content = content.json()\n",
    "\n",
    "# get the document names\n",
    "for document in document_content['directory']['item']:\n",
    "    \n",
    "    if document['type'] != 'image2.gif':\n",
    "        doc_name = document['name']\n",
    "        document_url = base_url + cik_num + filing_number + '/' + doc_name\n",
    "        print(document_url)\n",
    "        \n"
   ]
  },
  {
   "cell_type": "code",
   "execution_count": null,
   "id": "c2ecb176",
   "metadata": {},
   "outputs": [],
   "source": [
    "# get multi filings\n",
    "for filing in decoded_content['directory']['item']:\n",
    "\n",
    "    # define each filing number\n",
    "    filing_num = filing['name']\n",
    "    \n",
    "    filing_url = base_url + cik_num + filing_num + \"/index.json\"\n",
    "    print(\"filing_url:\", filing_url)\n",
    "\n",
    "    # let's request the url\n",
    "    content = requests.get(filing_url, headers=headers)\n",
    "    document_content = content.json()\n",
    "\n",
    "    # get the document names\n",
    "    for document in document_content['directory']['item']:\n",
    "    \n",
    "        if document['type'] != 'image2.gif':\n",
    "            doc_name = document['name']\n",
    "            document_url = base_url + cik_num + filing_num + '/' + doc_name\n",
    "            print(document_url)\n",
    "        "
   ]
  },
  {
   "cell_type": "code",
   "execution_count": null,
   "id": "9c54606e",
   "metadata": {},
   "outputs": [],
   "source": []
  }
 ],
 "metadata": {
  "kernelspec": {
   "display_name": "Python 3 (ipykernel)",
   "language": "python",
   "name": "python3"
  },
  "language_info": {
   "codemirror_mode": {
    "name": "ipython",
    "version": 3
   },
   "file_extension": ".py",
   "mimetype": "text/x-python",
   "name": "python",
   "nbconvert_exporter": "python",
   "pygments_lexer": "ipython3",
   "version": "3.9.7"
  }
 },
 "nbformat": 4,
 "nbformat_minor": 5
}
