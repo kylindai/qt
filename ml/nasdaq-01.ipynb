{
 "cells": [
  {
   "cell_type": "code",
   "execution_count": 1,
   "id": "4cb3936a",
   "metadata": {},
   "outputs": [],
   "source": [
    "import nasdaqdatalink as dl"
   ]
  },
  {
   "cell_type": "code",
   "execution_count": 2,
   "id": "cc35e163",
   "metadata": {},
   "outputs": [],
   "source": [
    "#dl.read_key()"
   ]
  },
  {
   "cell_type": "code",
   "execution_count": null,
   "id": "6db07eb8",
   "metadata": {},
   "outputs": [],
   "source": [
    "for i in range(60):\n",
    "    mydata = dl.get(\"FRED/GDP\", rows=5)\n",
    "mydata"
   ]
  },
  {
   "cell_type": "code",
   "execution_count": null,
   "id": "25b8a9e8",
   "metadata": {},
   "outputs": [],
   "source": [
    "mydata = dl.get(\"WIKI/AAPL\", rows=5)\n",
    "mydata"
   ]
  },
  {
   "cell_type": "code",
   "execution_count": null,
   "id": "7b5bad0f",
   "metadata": {},
   "outputs": [],
   "source": [
    "mydata = dl.get_table('ZACKS/FC', ticker='AAPL')\n",
    "mydata"
   ]
  },
  {
   "cell_type": "code",
   "execution_count": null,
   "id": "b6b4be28",
   "metadata": {},
   "outputs": [],
   "source": []
  }
 ],
 "metadata": {
  "kernelspec": {
   "display_name": "Python 3 (ipykernel)",
   "language": "python",
   "name": "python3"
  },
  "language_info": {
   "codemirror_mode": {
    "name": "ipython",
    "version": 3
   },
   "file_extension": ".py",
   "mimetype": "text/x-python",
   "name": "python",
   "nbconvert_exporter": "python",
   "pygments_lexer": "ipython3",
   "version": "3.9.7"
  }
 },
 "nbformat": 4,
 "nbformat_minor": 5
}
