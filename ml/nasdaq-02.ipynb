{
 "cells": [
  {
   "cell_type": "code",
   "execution_count": 1,
   "id": "a61ed191",
   "metadata": {},
   "outputs": [],
   "source": [
    "import nasdaqdatalink as dl"
   ]
  },
  {
   "cell_type": "code",
   "execution_count": 2,
   "id": "257158b7",
   "metadata": {},
   "outputs": [
    {
     "name": "stdout",
     "output_type": "stream",
     "text": [
      "['WIKI/AAPL', 'WIKI/MMM', 'WIKI/BA', 'WIKI/CAT']\n"
     ]
    }
   ],
   "source": [
    "SYMBOLS = ['AAPL','MMM','BA','CAT']\n",
    "wiki_symbols = ['WIKI/%s' % symbol for symbol in SYMBOLS]\n",
    "print(wiki_symbols)"
   ]
  },
  {
   "cell_type": "code",
   "execution_count": 3,
   "id": "9b15e1cc",
   "metadata": {},
   "outputs": [
    {
     "data": {
      "text/html": [
       "<div>\n",
       "<style scoped>\n",
       "    .dataframe tbody tr th:only-of-type {\n",
       "        vertical-align: middle;\n",
       "    }\n",
       "\n",
       "    .dataframe tbody tr th {\n",
       "        vertical-align: top;\n",
       "    }\n",
       "\n",
       "    .dataframe thead th {\n",
       "        text-align: right;\n",
       "    }\n",
       "</style>\n",
       "<table border=\"1\" class=\"dataframe\">\n",
       "  <thead>\n",
       "    <tr style=\"text-align: right;\">\n",
       "      <th></th>\n",
       "      <th>AAPL</th>\n",
       "      <th>MMM</th>\n",
       "      <th>BA</th>\n",
       "      <th>CAT</th>\n",
       "    </tr>\n",
       "    <tr>\n",
       "      <th>Date</th>\n",
       "      <th></th>\n",
       "      <th></th>\n",
       "      <th></th>\n",
       "      <th></th>\n",
       "    </tr>\n",
       "  </thead>\n",
       "  <tbody>\n",
       "    <tr>\n",
       "      <th>2017-01-03</th>\n",
       "      <td>114.715378</td>\n",
       "      <td>174.831943</td>\n",
       "      <td>152.668443</td>\n",
       "      <td>91.258087</td>\n",
       "    </tr>\n",
       "    <tr>\n",
       "      <th>2017-01-04</th>\n",
       "      <td>114.586983</td>\n",
       "      <td>175.097063</td>\n",
       "      <td>154.273227</td>\n",
       "      <td>90.850294</td>\n",
       "    </tr>\n",
       "    <tr>\n",
       "      <th>2017-01-05</th>\n",
       "      <td>115.169696</td>\n",
       "      <td>174.498088</td>\n",
       "      <td>154.360760</td>\n",
       "      <td>90.296862</td>\n",
       "    </tr>\n",
       "    <tr>\n",
       "      <th>2017-01-06</th>\n",
       "      <td>116.453639</td>\n",
       "      <td>175.008690</td>\n",
       "      <td>154.740073</td>\n",
       "      <td>90.335699</td>\n",
       "    </tr>\n",
       "    <tr>\n",
       "      <th>2017-01-09</th>\n",
       "      <td>117.520300</td>\n",
       "      <td>174.066041</td>\n",
       "      <td>153.981448</td>\n",
       "      <td>89.685174</td>\n",
       "    </tr>\n",
       "  </tbody>\n",
       "</table>\n",
       "</div>"
      ],
      "text/plain": [
       "                  AAPL         MMM          BA        CAT\n",
       "Date                                                     \n",
       "2017-01-03  114.715378  174.831943  152.668443  91.258087\n",
       "2017-01-04  114.586983  175.097063  154.273227  90.850294\n",
       "2017-01-05  115.169696  174.498088  154.360760  90.296862\n",
       "2017-01-06  116.453639  175.008690  154.740073  90.335699\n",
       "2017-01-09  117.520300  174.066041  153.981448  89.685174"
      ]
     },
     "execution_count": 3,
     "metadata": {},
     "output_type": "execute_result"
    }
   ],
   "source": [
    "df = dl.get(wiki_symbols,\n",
    "           start_date='2017-01-01',\n",
    "           end_date='2017-12-31',\n",
    "           column_index=11)\n",
    "df.columns = SYMBOLS\n",
    "df.head()"
   ]
  },
  {
   "cell_type": "code",
   "execution_count": 4,
   "id": "a4c7bb50",
   "metadata": {},
   "outputs": [
    {
     "name": "stdout",
     "output_type": "stream",
     "text": [
      "<class 'pandas.core.frame.DataFrame'>\n",
      "DatetimeIndex: 250 entries, 2017-01-03 to 2017-12-29\n",
      "Data columns (total 4 columns):\n",
      " #   Column  Non-Null Count  Dtype  \n",
      "---  ------  --------------  -----  \n",
      " 0   AAPL    249 non-null    float64\n",
      " 1   MMM     223 non-null    float64\n",
      " 2   BA      250 non-null    float64\n",
      " 3   CAT     250 non-null    float64\n",
      "dtypes: float64(4)\n",
      "memory usage: 17.9 KB\n"
     ]
    }
   ],
   "source": [
    "df.info()"
   ]
  },
  {
   "cell_type": "code",
   "execution_count": 5,
   "id": "6184a0a4",
   "metadata": {},
   "outputs": [
    {
     "data": {
      "text/html": [
       "<div>\n",
       "<style scoped>\n",
       "    .dataframe tbody tr th:only-of-type {\n",
       "        vertical-align: middle;\n",
       "    }\n",
       "\n",
       "    .dataframe tbody tr th {\n",
       "        vertical-align: top;\n",
       "    }\n",
       "\n",
       "    .dataframe thead th {\n",
       "        text-align: right;\n",
       "    }\n",
       "</style>\n",
       "<table border=\"1\" class=\"dataframe\">\n",
       "  <thead>\n",
       "    <tr style=\"text-align: right;\">\n",
       "      <th></th>\n",
       "      <th>Settle</th>\n",
       "    </tr>\n",
       "    <tr>\n",
       "      <th>Date</th>\n",
       "      <th></th>\n",
       "    </tr>\n",
       "  </thead>\n",
       "  <tbody>\n",
       "    <tr>\n",
       "      <th>2000-01-31</th>\n",
       "      <td>283.2</td>\n",
       "    </tr>\n",
       "    <tr>\n",
       "      <th>2000-02-29</th>\n",
       "      <td>294.2</td>\n",
       "    </tr>\n",
       "    <tr>\n",
       "      <th>2000-03-31</th>\n",
       "      <td>278.4</td>\n",
       "    </tr>\n",
       "    <tr>\n",
       "      <th>2000-04-30</th>\n",
       "      <td>274.7</td>\n",
       "    </tr>\n",
       "    <tr>\n",
       "      <th>2000-05-31</th>\n",
       "      <td>271.7</td>\n",
       "    </tr>\n",
       "  </tbody>\n",
       "</table>\n",
       "</div>"
      ],
      "text/plain": [
       "            Settle\n",
       "Date              \n",
       "2000-01-31   283.2\n",
       "2000-02-29   294.2\n",
       "2000-03-31   278.4\n",
       "2000-04-30   274.7\n",
       "2000-05-31   271.7"
      ]
     },
     "execution_count": 5,
     "metadata": {},
     "output_type": "execute_result"
    }
   ],
   "source": [
    "df2 = dl.get('CHRIS/CME_GC1',\n",
    "            column_index=6,\n",
    "            collapse='monthly',\n",
    "            start_date='2000-01-01')\n",
    "df2.head()"
   ]
  },
  {
   "cell_type": "code",
   "execution_count": 6,
   "id": "264a311f",
   "metadata": {},
   "outputs": [],
   "source": [
    "import matplotlib as mlp\n",
    "import matplotlib.pyplot as plt"
   ]
  },
  {
   "cell_type": "code",
   "execution_count": 7,
   "id": "9432f508",
   "metadata": {},
   "outputs": [],
   "source": [
    "df_settle = df2['Settle'].resample('MS').ffill().dropna()\n",
    "df_rolling = df_settle.rolling(12)\n",
    "df_mean = df_rolling.mean()\n",
    "df_std = df_rolling.std()"
   ]
  },
  {
   "cell_type": "code",
   "execution_count": 8,
   "id": "15343d6b",
   "metadata": {},
   "outputs": [
    {
     "data": {
      "text/plain": [
       "<matplotlib.legend.Legend at 0x11e4fa820>"
      ]
     },
     "execution_count": 8,
     "metadata": {},
     "output_type": "execute_result"
    },
    {
     "data": {
      "image/png": "[encoded data removed]",
      "text/plain": [
       "<Figure size 864x576 with 1 Axes>"
      ]
     },
     "metadata": {
      "needs_background": "light"
     },
     "output_type": "display_data"
    }
   ],
   "source": [
    "plt.figure(figsize=(12, 8))\n",
    "plt.plot(df_settle, label='Original')\n",
    "plt.plot(df_mean, label='Mean')\n",
    "plt.legend()"
   ]
  },
  {
   "cell_type": "code",
   "execution_count": null,
   "id": "8d0e0b0d",
   "metadata": {},
   "outputs": [],
   "source": []
  }
 ],
 "metadata": {
  "kernelspec": {
   "display_name": "Python 3 (ipykernel)",
   "language": "python",
   "name": "python3"
  },
  "language_info": {
   "codemirror_mode": {
    "name": "ipython",
    "version": 3
   },
   "file_extension": ".py",
   "mimetype": "text/x-python",
   "name": "python",
   "nbconvert_exporter": "python",
   "pygments_lexer": "ipython3",
   "version": "3.9.7"
  }
 },
 "nbformat": 4,
 "nbformat_minor": 5
}
