{
 "cells": [
  {
   "cell_type": "code",
   "execution_count": 1,
   "id": "d855bf12-4890-462a-b29e-03aeb3cc97f2",
   "metadata": {},
   "outputs": [
    {
     "name": "stdout",
     "output_type": "stream",
     "text": [
      "scipy 1.15.2\n",
      "numpy 1.26.4\n",
      "pandas 2.2.3\n",
      "matplotlib 3.10.1\n"
     ]
    }
   ],
   "source": [
    "import scipy\n",
    "import numpy as np\n",
    "import pandas as pd\n",
    "\n",
    "import matplotlib\n",
    "import matplotlib.pyplot as plt\n",
    "\n",
    "for m in [scipy, np, pd, matplotlib]:\n",
    "    print(m.__name__, m.__version__)\n",
    "\n",
    "from scipy.signal import savgol_filter\n",
    "from scipy.signal import argrelextrema\n",
    "from scipy.signal import find_peaks\n",
    "\n",
    "from funcs.factor_utils import FactorUtil"
   ]
  },
  {
   "cell_type": "code",
   "execution_count": 2,
   "id": "0856e8d3-cbf6-4934-8256-9ee7e39e71bf",
   "metadata": {},
   "outputs": [
    {
     "data": {
      "text/html": [
       "<div>\n",
       "<style scoped>\n",
       "    .dataframe tbody tr th:only-of-type {\n",
       "        vertical-align: middle;\n",
       "    }\n",
       "\n",
       "    .dataframe tbody tr th {\n",
       "        vertical-align: top;\n",
       "    }\n",
       "\n",
       "    .dataframe thead th {\n",
       "        text-align: right;\n",
       "    }\n",
       "</style>\n",
       "<table border=\"1\" class=\"dataframe\">\n",
       "  <thead>\n",
       "    <tr style=\"text-align: right;\">\n",
       "      <th></th>\n",
       "      <th>O</th>\n",
       "      <th>H</th>\n",
       "      <th>L</th>\n",
       "      <th>C</th>\n",
       "      <th>V</th>\n",
       "      <th>AP</th>\n",
       "      <th>AV</th>\n",
       "      <th>BP</th>\n",
       "      <th>BV</th>\n",
       "    </tr>\n",
       "    <tr>\n",
       "      <th>ts</th>\n",
       "      <th></th>\n",
       "      <th></th>\n",
       "      <th></th>\n",
       "      <th></th>\n",
       "      <th></th>\n",
       "      <th></th>\n",
       "      <th></th>\n",
       "      <th></th>\n",
       "      <th></th>\n",
       "    </tr>\n",
       "  </thead>\n",
       "  <tbody>\n",
       "    <tr>\n",
       "      <th>2024-08-13 09:00:00</th>\n",
       "      <td>1278.0</td>\n",
       "      <td>1278.0</td>\n",
       "      <td>1276.0</td>\n",
       "      <td>1276.0</td>\n",
       "      <td>681</td>\n",
       "      <td>1278.000</td>\n",
       "      <td>218</td>\n",
       "      <td>1276.000</td>\n",
       "      <td>152</td>\n",
       "    </tr>\n",
       "    <tr>\n",
       "      <th>2024-08-13 09:01:00</th>\n",
       "      <td>1277.0</td>\n",
       "      <td>1282.0</td>\n",
       "      <td>1276.0</td>\n",
       "      <td>1278.0</td>\n",
       "      <td>5557</td>\n",
       "      <td>1279.737</td>\n",
       "      <td>21421</td>\n",
       "      <td>1278.345</td>\n",
       "      <td>17282</td>\n",
       "    </tr>\n",
       "    <tr>\n",
       "      <th>2024-08-13 09:02:00</th>\n",
       "      <td>1278.0</td>\n",
       "      <td>1279.0</td>\n",
       "      <td>1276.0</td>\n",
       "      <td>1278.0</td>\n",
       "      <td>1634</td>\n",
       "      <td>1278.102</td>\n",
       "      <td>43934</td>\n",
       "      <td>1277.119</td>\n",
       "      <td>31489</td>\n",
       "    </tr>\n",
       "    <tr>\n",
       "      <th>2024-08-13 09:03:00</th>\n",
       "      <td>1277.0</td>\n",
       "      <td>1282.0</td>\n",
       "      <td>1277.0</td>\n",
       "      <td>1281.0</td>\n",
       "      <td>3749</td>\n",
       "      <td>1280.911</td>\n",
       "      <td>33442</td>\n",
       "      <td>1279.997</td>\n",
       "      <td>33766</td>\n",
       "    </tr>\n",
       "    <tr>\n",
       "      <th>2024-08-13 09:04:00</th>\n",
       "      <td>1281.0</td>\n",
       "      <td>1281.0</td>\n",
       "      <td>1279.0</td>\n",
       "      <td>1280.0</td>\n",
       "      <td>1619</td>\n",
       "      <td>1280.149</td>\n",
       "      <td>41884</td>\n",
       "      <td>1279.158</td>\n",
       "      <td>46279</td>\n",
       "    </tr>\n",
       "  </tbody>\n",
       "</table>\n",
       "</div>"
      ],
      "text/plain": [
       "                          O       H       L       C     V        AP     AV  \\\n",
       "ts                                                                           \n",
       "2024-08-13 09:00:00  1278.0  1278.0  1276.0  1276.0   681  1278.000    218   \n",
       "2024-08-13 09:01:00  1277.0  1282.0  1276.0  1278.0  5557  1279.737  21421   \n",
       "2024-08-13 09:02:00  1278.0  1279.0  1276.0  1278.0  1634  1278.102  43934   \n",
       "2024-08-13 09:03:00  1277.0  1282.0  1277.0  1281.0  3749  1280.911  33442   \n",
       "2024-08-13 09:04:00  1281.0  1281.0  1279.0  1280.0  1619  1280.149  41884   \n",
       "\n",
       "                           BP     BV  \n",
       "ts                                    \n",
       "2024-08-13 09:00:00  1276.000    152  \n",
       "2024-08-13 09:01:00  1278.345  17282  \n",
       "2024-08-13 09:02:00  1277.119  31489  \n",
       "2024-08-13 09:03:00  1279.997  33766  \n",
       "2024-08-13 09:04:00  1279.158  46279  "
      ]
     },
     "execution_count": 2,
     "metadata": {},
     "output_type": "execute_result"
    }
   ],
   "source": [
    "bar_df_1 = FactorUtil.get_bar_df('FG2409_MIN_1', '20240813', '00:00:00', 300)\n",
    "bar_df_1.head()"
   ]
  },
  {
   "cell_type": "code",
   "execution_count": 3,
   "id": "3a417d6c-3f3e-4af6-98ae-c36724d09e7e",
   "metadata": {},
   "outputs": [
    {
     "name": "stdout",
     "output_type": "stream",
     "text": [
      "20240812 22:51:00\n"
     ]
    },
    {
     "data": {
      "text/plain": [
       "Index(['O_9', 'H_9', 'L_9', 'C_9', 'V_9', 'AP_9', 'AV_9', 'BP_9', 'BV_9',\n",
       "       'O_8', 'H_8', 'L_8', 'C_8', 'V_8', 'AP_8', 'AV_8', 'BP_8', 'BV_8',\n",
       "       'O_7', 'H_7', 'L_7', 'C_7', 'V_7', 'AP_7', 'AV_7', 'BP_7', 'BV_7',\n",
       "       'O_6', 'H_6', 'L_6', 'C_6', 'V_6', 'AP_6', 'AV_6', 'BP_6', 'BV_6',\n",
       "       'O_5', 'H_5', 'L_5', 'C_5', 'V_5', 'AP_5', 'AV_5', 'BP_5', 'BV_5',\n",
       "       'O_4', 'H_4', 'L_4', 'C_4', 'V_4', 'AP_4', 'AV_4', 'BP_4', 'BV_4',\n",
       "       'O_3', 'H_3', 'L_3', 'C_3', 'V_3', 'AP_3', 'AV_3', 'BP_3', 'BV_3',\n",
       "       'O_2', 'H_2', 'L_2', 'C_2', 'V_2', 'AP_2', 'AV_2', 'BP_2', 'BV_2',\n",
       "       'O_1', 'H_1', 'L_1', 'C_1', 'V_1', 'AP_1', 'AV_1', 'BP_1', 'BV_1', 'O',\n",
       "       'H', 'L', 'C', 'V', 'AP', 'AV', 'BP', 'BV'],\n",
       "      dtype='object')"
      ]
     },
     "execution_count": 3,
     "metadata": {},
     "output_type": "execute_result"
    }
   ],
   "source": [
    "bar_df_3 = FactorUtil.get_window_bar_df('FG2409_MIN_1', '20240813')\n",
    "bar_df_3.columns"
   ]
  },
  {
   "cell_type": "code",
   "execution_count": 5,
   "id": "8714b260-555f-492f-988e-ee26a2d4cd8c",
   "metadata": {},
   "outputs": [
    {
     "data": {
      "text/plain": [
       "(-0.009060955518945634, 0.0113544201135442)"
      ]
     },
     "execution_count": 5,
     "metadata": {},
     "output_type": "execute_result"
    }
   ],
   "source": [
    "bar_df_3['R'] = (bar_df_3['C'] - bar_df_3['C_5']) / bar_df_3['C_5']\n",
    "min_val, max_val = bar_df_3['R'].min(), bar_df_3['R'].max()\n",
    "min_val, max_val"
   ]
  },
  {
   "cell_type": "code",
   "execution_count": 6,
   "id": "ed4e8598-0bf3-4e92-af6f-dfa1c5401495",
   "metadata": {},
   "outputs": [
    {
     "data": {
      "text/plain": [
       "IntervalIndex([  (-0.009060955518945634, -0.00701941795569665],\n",
       "                 (-0.00701941795569665, -0.004977880392447667],\n",
       "               (-0.004977880392447667, -0.0029363428291986834],\n",
       "                 (-0.0029363428291986834, -0.0008948052659497],\n",
       "                  (-0.0008948052659497, 0.0011467322972992834],\n",
       "                 (0.0011467322972992834, 0.003188269860548267],\n",
       "                   (0.003188269860548267, 0.00522980742379725],\n",
       "                   (0.00522980742379725, 0.007271344987046234],\n",
       "                  (0.007271344987046234, 0.009312882550295219],\n",
       "                    (0.009312882550295219, 0.0113544201135442]],\n",
       "              dtype='interval[float64, right]')"
      ]
     },
     "execution_count": 6,
     "metadata": {},
     "output_type": "execute_result"
    }
   ],
   "source": [
    "bins = pd.interval_range(start=min_val, end=max_val, periods=10)\n",
    "bins"
   ]
  },
  {
   "cell_type": "code",
   "execution_count": 9,
   "id": "7f625b33-2fc2-4885-8bc8-a0a12000a1b3",
   "metadata": {},
   "outputs": [
    {
     "data": {
      "text/plain": [
       "K1\n",
       "(-0.009060955518945634, -0.00701941795569665]        20\n",
       "(-0.00701941795569665, -0.004977880392447667]        46\n",
       "(-0.004977880392447667, -0.0029363428291986834]     217\n",
       "(-0.0029363428291986834, -0.0008948052659497]       565\n",
       "(-0.0008948052659497, 0.0011467322972992834]       1579\n",
       "(0.0011467322972992834, 0.003188269860548267]       515\n",
       "(0.003188269860548267, 0.00522980742379725]         161\n",
       "(0.00522980742379725, 0.007271344987046234]          30\n",
       "(0.007271344987046234, 0.009312882550295219]          5\n",
       "(0.009312882550295219, 0.0113544201135442]            2\n",
       "Name: count, dtype: int64"
      ]
     },
     "execution_count": 9,
     "metadata": {},
     "output_type": "execute_result"
    }
   ],
   "source": [
    "bar_df_3['K1'] = pd.cut(bar_df_3['R'], bins=bins, labels=range(10), include_lowest=True)\n",
    "bar_df_3['K1'].value_counts().sort_index()"
   ]
  },
  {
   "cell_type": "code",
   "execution_count": 8,
   "id": "f56a7ab0-df3c-484e-9ba4-419357dabed8",
   "metadata": {},
   "outputs": [
    {
     "data": {
      "text/plain": [
       "K\n",
       "-1       1\n",
       " 0      20\n",
       " 1      46\n",
       " 2     217\n",
       " 3     565\n",
       " 4    1579\n",
       " 5     515\n",
       " 6     161\n",
       " 7      30\n",
       " 8       5\n",
       " 9       2\n",
       "Name: count, dtype: int64"
      ]
     },
     "execution_count": 8,
     "metadata": {},
     "output_type": "execute_result"
    }
   ],
   "source": [
    "bar_df_3['K'] = pd.cut(bar_df_3['R'], bins=bins, labels=range(10), include_lowest=True).cat.codes\n",
    "bar_df_3['K'].value_counts().sort_index()"
   ]
  },
  {
   "cell_type": "code",
   "execution_count": 10,
   "id": "3ab5c17a-c26a-425f-b3ad-ca923514c54b",
   "metadata": {},
   "outputs": [
    {
     "data": {
      "text/plain": [
       "(-11.0, 14.0)"
      ]
     },
     "execution_count": 10,
     "metadata": {},
     "output_type": "execute_result"
    }
   ],
   "source": [
    "bar_df_3['R1'] = (bar_df_3['C'] - bar_df_3['C_5'])\n",
    "min_val_1, max_val_1 = bar_df_3['R1'].min(), bar_df_3['R1'].max()\n",
    "min_val_1, max_val_1"
   ]
  },
  {
   "cell_type": "code",
   "execution_count": 11,
   "id": "2838bb83-a0e5-49e2-ac1e-67efa334c528",
   "metadata": {},
   "outputs": [
    {
     "data": {
      "text/plain": [
       "IntervalIndex([(-11.0, -8.5],  (-8.5, -6.0],  (-6.0, -3.5],  (-3.5, -1.0],\n",
       "                 (-1.0, 1.5],    (1.5, 4.0],    (4.0, 6.5],    (6.5, 9.0],\n",
       "                 (9.0, 11.5],  (11.5, 14.0]],\n",
       "              dtype='interval[float64, right]')"
      ]
     },
     "execution_count": 11,
     "metadata": {},
     "output_type": "execute_result"
    }
   ],
   "source": [
    "bins_1 = pd.interval_range(start=min_val_1, end=max_val_1, periods=10)\n",
    "bins_1"
   ]
  },
  {
   "cell_type": "code",
   "execution_count": 14,
   "id": "d6a9990e-a75b-4c96-af3a-01cdb82f6e2a",
   "metadata": {},
   "outputs": [
    {
     "data": {
      "text/plain": [
       "K1\n",
       "(-11.0, -8.5]      16\n",
       "(-8.5, -6.0]       74\n",
       "(-6.0, -3.5]      189\n",
       "(-3.5, -1.0]     1115\n",
       "(-1.0, 1.5]      1029\n",
       "(1.5, 4.0]        594\n",
       "(4.0, 6.5]         82\n",
       "(6.5, 9.0]         32\n",
       "(9.0, 11.5]         3\n",
       "(11.5, 14.0]        2\n",
       "Name: count, dtype: int64"
      ]
     },
     "execution_count": 14,
     "metadata": {},
     "output_type": "execute_result"
    }
   ],
   "source": [
    "# 分桶\n",
    "# bar_df_3['K'] = pd.cut(bar_df_3['R'], bins=bins_1, labels=range(10), include_lowest=True).cat.codes\n",
    "bar_df_3['K1'] = pd.cut(bar_df_3['R1'], bins=bins_1, labels=range(10), include_lowest=True)\n",
    "# 值分布\n",
    "bar_df_3['K1'].value_counts().sort_index()\n"
   ]
  },
  {
   "cell_type": "code",
   "execution_count": 15,
   "id": "0b219de6-f764-42fe-8bf0-8ba262cb4442",
   "metadata": {},
   "outputs": [
    {
     "data": {
      "text/plain": [
       "K0\n",
       "-1       5\n",
       " 0      16\n",
       " 1      74\n",
       " 2     189\n",
       " 3    1115\n",
       " 4    1029\n",
       " 5     594\n",
       " 6      82\n",
       " 7      32\n",
       " 8       3\n",
       " 9       2\n",
       "Name: count, dtype: int64"
      ]
     },
     "execution_count": 15,
     "metadata": {},
     "output_type": "execute_result"
    }
   ],
   "source": [
    "bar_df_3['K0'] = pd.cut(bar_df_3['R1'], bins=bins_1, labels=range(10), include_lowest=True).cat.codes\n",
    "bar_df_3['K0'].value_counts().sort_index()"
   ]
  },
  {
   "cell_type": "code",
   "execution_count": 1,
   "id": "6fd03724-8bff-4edb-bc1e-578194afadba",
   "metadata": {},
   "outputs": [
    {
     "ename": "XGBoostError",
     "evalue": "\nXGBoost Library (libxgboost.dylib) could not be loaded.\nLikely causes:\n  * OpenMP runtime is not installed\n    - vcomp140.dll or libgomp-1.dll for Windows\n    - libomp.dylib for Mac OSX\n    - libgomp.so for Linux and other UNIX-like OSes\n    Mac OSX users: Run `brew install libomp` to install OpenMP runtime.\n\n  * You are running 32-bit Python on a 64-bit OS\n\nError message(s): [\"dlopen(/Users/yunhui/work/venv/ctp-py311/lib/python3.11/site-packages/xgboost/lib/libxgboost.dylib, 0x0006): Library not loaded: @rpath/libomp.dylib\\n  Referenced from: <5F165A8A-F42A-39F1-8BD3-CC0F65C2BE0F> /Users/yunhui/work/venv/ctp-py311/lib/python3.11/site-packages/xgboost/lib/libxgboost.dylib\\n  Reason: tried: '/usr/local/opt/libomp/lib/libomp.dylib' (no such file), '/System/Volumes/Preboot/Cryptexes/OS/usr/local/opt/libomp/lib/libomp.dylib' (no such file), '/usr/local/opt/libomp/lib/libomp.dylib' (no such file), '/System/Volumes/Preboot/Cryptexes/OS/usr/local/opt/libomp/lib/libomp.dylib' (no such file), '/opt/conda/miniconda3/lib/python3.11/lib-dynload/../../libomp.dylib' (no such file), '/opt/conda/miniconda3/bin/../lib/libomp.dylib' (no such file)\"]\n",
     "output_type": "error",
     "traceback": [
      "\u001b[31m---------------------------------------------------------------------------\u001b[39m",
      "\u001b[31mXGBoostError\u001b[39m                              Traceback (most recent call last)",
      "\u001b[36mCell\u001b[39m\u001b[36m \u001b[39m\u001b[32mIn[1]\u001b[39m\u001b[32m, line 1\u001b[39m\n\u001b[32m----> \u001b[39m\u001b[32m1\u001b[39m \u001b[38;5;28;01mimport\u001b[39;00m\u001b[38;5;250m \u001b[39m\u001b[34;01mxgboost\u001b[39;00m\u001b[38;5;250m \u001b[39m\u001b[38;5;28;01mas\u001b[39;00m\u001b[38;5;250m \u001b[39m\u001b[34;01mxgb\u001b[39;00m\n\u001b[32m      2\u001b[39m \u001b[38;5;66;03m# print(xgb.__version__)\u001b[39;00m\n",
      "\u001b[36mFile \u001b[39m\u001b[32m~/work/venv/ctp-py311/lib/python3.11/site-packages/xgboost/__init__.py:6\u001b[39m\n\u001b[32m      1\u001b[39m \u001b[33;03m\"\"\"XGBoost: eXtreme Gradient Boosting library.\u001b[39;00m\n\u001b[32m      2\u001b[39m \n\u001b[32m      3\u001b[39m \u001b[33;03mContributors: https://github.com/dmlc/xgboost/blob/master/CONTRIBUTORS.md\u001b[39;00m\n\u001b[32m      4\u001b[39m \u001b[33;03m\"\"\"\u001b[39;00m\n\u001b[32m----> \u001b[39m\u001b[32m6\u001b[39m \u001b[38;5;28;01mfrom\u001b[39;00m\u001b[38;5;250m \u001b[39m\u001b[34;01m.\u001b[39;00m\u001b[38;5;250m \u001b[39m\u001b[38;5;28;01mimport\u001b[39;00m tracker  \u001b[38;5;66;03m# noqa\u001b[39;00m\n\u001b[32m      7\u001b[39m \u001b[38;5;28;01mfrom\u001b[39;00m\u001b[38;5;250m \u001b[39m\u001b[34;01m.\u001b[39;00m\u001b[38;5;250m \u001b[39m\u001b[38;5;28;01mimport\u001b[39;00m collective\n\u001b[32m      8\u001b[39m \u001b[38;5;28;01mfrom\u001b[39;00m\u001b[38;5;250m \u001b[39m\u001b[34;01m.\u001b[39;00m\u001b[34;01mcore\u001b[39;00m\u001b[38;5;250m \u001b[39m\u001b[38;5;28;01mimport\u001b[39;00m (\n\u001b[32m      9\u001b[39m     Booster,\n\u001b[32m     10\u001b[39m     DataIter,\n\u001b[32m   (...)\u001b[39m\u001b[32m     15\u001b[39m     build_info,\n\u001b[32m     16\u001b[39m )\n",
      "\u001b[36mFile \u001b[39m\u001b[32m~/work/venv/ctp-py311/lib/python3.11/site-packages/xgboost/tracker.py:9\u001b[39m\n\u001b[32m      6\u001b[39m \u001b[38;5;28;01mfrom\u001b[39;00m\u001b[38;5;250m \u001b[39m\u001b[34;01menum\u001b[39;00m\u001b[38;5;250m \u001b[39m\u001b[38;5;28;01mimport\u001b[39;00m IntEnum, unique\n\u001b[32m      7\u001b[39m \u001b[38;5;28;01mfrom\u001b[39;00m\u001b[38;5;250m \u001b[39m\u001b[34;01mtyping\u001b[39;00m\u001b[38;5;250m \u001b[39m\u001b[38;5;28;01mimport\u001b[39;00m Dict, Optional, Union\n\u001b[32m----> \u001b[39m\u001b[32m9\u001b[39m \u001b[38;5;28;01mfrom\u001b[39;00m\u001b[38;5;250m \u001b[39m\u001b[34;01m.\u001b[39;00m\u001b[34;01mcore\u001b[39;00m\u001b[38;5;250m \u001b[39m\u001b[38;5;28;01mimport\u001b[39;00m _LIB, _check_call, _deprecate_positional_args, make_jcargs\n\u001b[32m     12\u001b[39m \u001b[38;5;28;01mdef\u001b[39;00m\u001b[38;5;250m \u001b[39m\u001b[34mget_family\u001b[39m(addr: \u001b[38;5;28mstr\u001b[39m) -> \u001b[38;5;28mint\u001b[39m:\n\u001b[32m     13\u001b[39m \u001b[38;5;250m    \u001b[39m\u001b[33;03m\"\"\"Get network family from address.\"\"\"\u001b[39;00m\n",
      "\u001b[36mFile \u001b[39m\u001b[32m~/work/venv/ctp-py311/lib/python3.11/site-packages/xgboost/core.py:295\u001b[39m\n\u001b[32m    291\u001b[39m     \u001b[38;5;28;01mreturn\u001b[39;00m lib\n\u001b[32m    294\u001b[39m \u001b[38;5;66;03m# load the XGBoost library globally\u001b[39;00m\n\u001b[32m--> \u001b[39m\u001b[32m295\u001b[39m _LIB = \u001b[43m_load_lib\u001b[49m\u001b[43m(\u001b[49m\u001b[43m)\u001b[49m\n\u001b[32m    298\u001b[39m \u001b[38;5;28;01mdef\u001b[39;00m\u001b[38;5;250m \u001b[39m\u001b[34m_check_call\u001b[39m(ret: \u001b[38;5;28mint\u001b[39m) -> \u001b[38;5;28;01mNone\u001b[39;00m:\n\u001b[32m    299\u001b[39m \u001b[38;5;250m    \u001b[39m\u001b[33;03m\"\"\"Check the return value of C API call\u001b[39;00m\n\u001b[32m    300\u001b[39m \n\u001b[32m    301\u001b[39m \u001b[33;03m    This function will raise exception when error occurs.\u001b[39;00m\n\u001b[32m   (...)\u001b[39m\u001b[32m    307\u001b[39m \u001b[33;03m        return value from API calls\u001b[39;00m\n\u001b[32m    308\u001b[39m \u001b[33;03m    \"\"\"\u001b[39;00m\n",
      "\u001b[36mFile \u001b[39m\u001b[32m~/work/venv/ctp-py311/lib/python3.11/site-packages/xgboost/core.py:257\u001b[39m, in \u001b[36m_load_lib\u001b[39m\u001b[34m()\u001b[39m\n\u001b[32m    255\u001b[39m     \u001b[38;5;28;01mif\u001b[39;00m \u001b[38;5;129;01mnot\u001b[39;00m lib_success:\n\u001b[32m    256\u001b[39m         libname = os.path.basename(lib_paths[\u001b[32m0\u001b[39m])\n\u001b[32m--> \u001b[39m\u001b[32m257\u001b[39m         \u001b[38;5;28;01mraise\u001b[39;00m XGBoostError(\n\u001b[32m    258\u001b[39m             \u001b[33mf\u001b[39m\u001b[33m\"\"\"\u001b[39m\n\u001b[32m    259\u001b[39m \u001b[33mXGBoost Library (\u001b[39m\u001b[38;5;132;01m{\u001b[39;00mlibname\u001b[38;5;132;01m}\u001b[39;00m\u001b[33m) could not be loaded.\u001b[39m\n\u001b[32m    260\u001b[39m \u001b[33mLikely causes:\u001b[39m\n\u001b[32m    261\u001b[39m \u001b[33m  * OpenMP runtime is not installed\u001b[39m\n\u001b[32m    262\u001b[39m \u001b[33m    - vcomp140.dll or libgomp-1.dll for Windows\u001b[39m\n\u001b[32m    263\u001b[39m \u001b[33m    - libomp.dylib for Mac OSX\u001b[39m\n\u001b[32m    264\u001b[39m \u001b[33m    - libgomp.so for Linux and other UNIX-like OSes\u001b[39m\n\u001b[32m    265\u001b[39m \u001b[33m    Mac OSX users: Run `brew install libomp` to install OpenMP runtime.\u001b[39m\n\u001b[32m    266\u001b[39m \n\u001b[32m    267\u001b[39m \u001b[33m  * You are running 32-bit Python on a 64-bit OS\u001b[39m\n\u001b[32m    268\u001b[39m \n\u001b[32m    269\u001b[39m \u001b[33mError message(s): \u001b[39m\u001b[38;5;132;01m{\u001b[39;00mos_error_list\u001b[38;5;132;01m}\u001b[39;00m\n\u001b[32m    270\u001b[39m \u001b[33m\"\"\"\u001b[39m\n\u001b[32m    271\u001b[39m         )\n\u001b[32m    272\u001b[39m     _register_log_callback(lib)\n\u001b[32m    274\u001b[39m     libver = _lib_version(lib)\n",
      "\u001b[31mXGBoostError\u001b[39m: \nXGBoost Library (libxgboost.dylib) could not be loaded.\nLikely causes:\n  * OpenMP runtime is not installed\n    - vcomp140.dll or libgomp-1.dll for Windows\n    - libomp.dylib for Mac OSX\n    - libgomp.so for Linux and other UNIX-like OSes\n    Mac OSX users: Run `brew install libomp` to install OpenMP runtime.\n\n  * You are running 32-bit Python on a 64-bit OS\n\nError message(s): [\"dlopen(/Users/yunhui/work/venv/ctp-py311/lib/python3.11/site-packages/xgboost/lib/libxgboost.dylib, 0x0006): Library not loaded: @rpath/libomp.dylib\\n  Referenced from: <5F165A8A-F42A-39F1-8BD3-CC0F65C2BE0F> /Users/yunhui/work/venv/ctp-py311/lib/python3.11/site-packages/xgboost/lib/libxgboost.dylib\\n  Reason: tried: '/usr/local/opt/libomp/lib/libomp.dylib' (no such file), '/System/Volumes/Preboot/Cryptexes/OS/usr/local/opt/libomp/lib/libomp.dylib' (no such file), '/usr/local/opt/libomp/lib/libomp.dylib' (no such file), '/System/Volumes/Preboot/Cryptexes/OS/usr/local/opt/libomp/lib/libomp.dylib' (no such file), '/opt/conda/miniconda3/lib/python3.11/lib-dynload/../../libomp.dylib' (no such file), '/opt/conda/miniconda3/bin/../lib/libomp.dylib' (no such file)\"]\n"
     ]
    }
   ],
   "source": [
    "import xgboost as xgb\n",
    "# print(xgb.__version__)"
   ]
  },
  {
   "cell_type": "code",
   "execution_count": null,
   "id": "49c7fde4-c163-446b-b43d-8c5cd17b1b87",
   "metadata": {},
   "outputs": [],
   "source": []
  }
 ],
 "metadata": {
  "kernelspec": {
   "display_name": "Python3.11 (ctp)",
   "language": "python",
   "name": "ctp-py311"
  },
  "language_info": {
   "codemirror_mode": {
    "name": "ipython",
    "version": 3
   },
   "file_extension": ".py",
   "mimetype": "text/x-python",
   "name": "python",
   "nbconvert_exporter": "python",
   "pygments_lexer": "ipython3",
   "version": "3.11.4"
  }
 },
 "nbformat": 4,
 "nbformat_minor": 5
}
