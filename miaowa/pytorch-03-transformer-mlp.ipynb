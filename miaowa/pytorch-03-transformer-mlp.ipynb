{
 "cells": [
  {
   "cell_type": "code",
   "execution_count": 1,
   "id": "17a48284-9367-4fed-9612-e4ae8c4ff1de",
   "metadata": {},
   "outputs": [
    {
     "name": "stdout",
     "output_type": "stream",
     "text": [
      "numpy 1.26.4\n",
      "pandas 2.2.3\n",
      "torch 2.2.2\n"
     ]
    }
   ],
   "source": [
    "import numpy as np\n",
    "import pandas as pd\n",
    "import torch\n",
    "\n",
    "for m in [np, pd, torch]:\n",
    "    print(m.__name__, m.__version__)"
   ]
  },
  {
   "cell_type": "code",
   "execution_count": 2,
   "id": "9e2bfaa9-e4ab-4149-8c0a-80f980cd9166",
   "metadata": {},
   "outputs": [],
   "source": [
    "from torch import nn, optim\n",
    "from torch.utils.data import DataLoader, Dataset, random_split\n",
    "from sklearn.preprocessing import LabelEncoder\n",
    "from sklearn.metrics import accuracy_score\n",
    "\n",
    "from funcs.factor_utils import FactorUtil"
   ]
  },
  {
   "cell_type": "code",
   "execution_count": 3,
   "id": "1d93ed62-d228-4f3e-8983-17f05141b5f2",
   "metadata": {},
   "outputs": [],
   "source": [
    "import warnings\n",
    "warnings.filterwarnings('ignore')"
   ]
  },
  {
   "cell_type": "code",
   "execution_count": 4,
   "id": "6a679203-c503-460e-a114-0d0e8213a3c7",
   "metadata": {},
   "outputs": [
    {
     "name": "stdout",
     "output_type": "stream",
     "text": [
      "20240812 22:41:00\n"
     ]
    },
    {
     "data": {
      "text/plain": [
       "Index(['O_19', 'H_19', 'L_19', 'C_19', 'V_19', 'AP_19', 'AV_19', 'BP_19',\n",
       "       'BV_19', 'O_18',\n",
       "       ...\n",
       "       'BV_1', 'O', 'H', 'L', 'C', 'V', 'AP', 'AV', 'BP', 'BV'],\n",
       "      dtype='object', length=180)"
      ]
     },
     "execution_count": 4,
     "metadata": {},
     "output_type": "execute_result"
    }
   ],
   "source": [
    "# -----------------------------\n",
    "# 1. 读取数据集\n",
    "# -----------------------------\n",
    "bar_df = FactorUtil.get_window_bar_df('FG2409_MIN_1', '20240813', window_period=20)\n",
    "bar_df.columns"
   ]
  },
  {
   "cell_type": "code",
   "execution_count": 5,
   "id": "79087503-1f66-4455-a2b1-8214018d25b2",
   "metadata": {},
   "outputs": [
    {
     "name": "stdout",
     "output_type": "stream",
     "text": [
      "-0.009060955518945634 0.0113544201135442\n",
      "IntervalIndex([  (-0.009060955518945634, -0.00701941795569665],\n",
      "                 (-0.00701941795569665, -0.004977880392447667],\n",
      "               (-0.004977880392447667, -0.0029363428291986834],\n",
      "                 (-0.0029363428291986834, -0.0008948052659497],\n",
      "                  (-0.0008948052659497, 0.0011467322972992834],\n",
      "                 (0.0011467322972992834, 0.003188269860548267],\n",
      "                   (0.003188269860548267, 0.00522980742379725],\n",
      "                   (0.00522980742379725, 0.007271344987046234],\n",
      "                  (0.007271344987046234, 0.009312882550295219],\n",
      "                    (0.009312882550295219, 0.0113544201135442]],\n",
      "              dtype='interval[float64, right]')\n"
     ]
    },
    {
     "data": {
      "text/plain": [
       "K\n",
       "-1       1\n",
       " 0      20\n",
       " 1      46\n",
       " 2     217\n",
       " 3     565\n",
       " 4    1579\n",
       " 5     515\n",
       " 6     161\n",
       " 7      30\n",
       " 8       5\n",
       " 9       2\n",
       "Name: count, dtype: int64"
      ]
     },
     "execution_count": 5,
     "metadata": {},
     "output_type": "execute_result"
    }
   ],
   "source": [
    "# -----------------------------\n",
    "# 2. 制作标签列\n",
    "# -----------------------------\n",
    "bar_df['R'] = (bar_df['C'] - bar_df['C_5']) / bar_df['C_5']\n",
    "min_val, max_val = bar_df['R'].min(), bar_df['R'].max()\n",
    "print(min_val, max_val)\n",
    "\n",
    "bins = pd.interval_range(start=min_val, end=max_val, periods=10)\n",
    "print(bins)\n",
    "\n",
    "bar_df['K'] = pd.cut(bar_df['R'], bins=bins, labels=range(10), include_lowest=True).cat.codes\n",
    "bar_df['K'].value_counts().sort_index()"
   ]
  },
  {
   "cell_type": "code",
   "execution_count": 6,
   "id": "12212c04-f426-4e24-85db-03a9f96b4cd1",
   "metadata": {},
   "outputs": [],
   "source": [
    "# -----------------------------\n",
    "# 3. 自定义 Dataset 类\n",
    "# -----------------------------\n",
    "class DataFrameDataset(Dataset):\n",
    "    def __init__(self, dataframe: pd.DataFrame, feature_cols, label_col, device='cpu'):\n",
    "        self.device = device\n",
    "        self.features = torch.tensor(dataframe[feature_cols].values, dtype=torch.float32).to(device)\n",
    "        if label_col is not None:\n",
    "            self.labels = torch.tensor(dataframe[label_col].values, dtype=torch.long).to(device)\n",
    "        else:\n",
    "            self.labels = None\n",
    "\n",
    "    def __len__(self):\n",
    "        return len(self.features)\n",
    "\n",
    "    def __getitem__(self, idx):\n",
    "        if self.labels is not None:\n",
    "            return self.features[idx], self.labels[idx]\n",
    "        else:\n",
    "            return self.features[idx]"
   ]
  },
  {
   "cell_type": "code",
   "execution_count": 7,
   "id": "26b82206-894c-4127-a640-c9b7c88de75e",
   "metadata": {},
   "outputs": [
    {
     "name": "stdout",
     "output_type": "stream",
     "text": [
      "['O_19', 'H_19', 'L_19', 'C_19', 'V_19', 'AP_19', 'AV_19', 'BP_19', 'BV_19', 'O_18', 'H_18', 'L_18', 'C_18', 'V_18', 'AP_18', 'AV_18', 'BP_18', 'BV_18', 'O_17', 'H_17', 'L_17', 'C_17', 'V_17', 'AP_17', 'AV_17', 'BP_17', 'BV_17', 'O_16', 'H_16', 'L_16', 'C_16', 'V_16', 'AP_16', 'AV_16', 'BP_16', 'BV_16', 'O_15', 'H_15', 'L_15', 'C_15', 'V_15', 'AP_15', 'AV_15', 'BP_15', 'BV_15', 'O_14', 'H_14', 'L_14', 'C_14', 'V_14', 'AP_14', 'AV_14', 'BP_14', 'BV_14', 'O_13', 'H_13', 'L_13', 'C_13', 'V_13', 'AP_13', 'AV_13', 'BP_13', 'BV_13', 'O_12', 'H_12', 'L_12', 'C_12', 'V_12', 'AP_12', 'AV_12', 'BP_12', 'BV_12', 'O_11', 'H_11', 'L_11', 'C_11', 'V_11', 'AP_11', 'AV_11', 'BP_11', 'BV_11', 'O_10', 'H_10', 'L_10', 'C_10', 'V_10', 'AP_10', 'AV_10', 'BP_10', 'BV_10', 'O_9', 'H_9', 'L_9', 'C_9', 'V_9', 'AP_9', 'AV_9', 'BP_9', 'BV_9', 'O_8', 'H_8', 'L_8', 'C_8', 'V_8', 'AP_8', 'AV_8', 'BP_8', 'BV_8', 'O_7', 'H_7', 'L_7', 'C_7', 'V_7', 'AP_7', 'AV_7', 'BP_7', 'BV_7', 'O_6', 'H_6', 'L_6', 'C_6', 'V_6', 'AP_6', 'AV_6', 'BP_6', 'BV_6', 'O_5', 'H_5', 'L_5', 'C_5', 'V_5', 'AP_5', 'AV_5', 'BP_5', 'BV_5', 'O_4', 'H_4', 'L_4', 'C_4', 'V_4', 'AP_4', 'AV_4', 'BP_4', 'BV_4', 'O_3', 'H_3', 'L_3', 'C_3', 'V_3', 'AP_3', 'AV_3', 'BP_3', 'BV_3', 'O_2', 'H_2', 'L_2', 'C_2', 'V_2', 'AP_2', 'AV_2', 'BP_2', 'BV_2', 'O_1', 'H_1', 'L_1', 'C_1', 'V_1', 'AP_1', 'AV_1', 'BP_1', 'BV_1', 'O', 'H', 'L', 'C', 'V', 'AP', 'AV', 'BP', 'BV']\n"
     ]
    },
    {
     "data": {
      "text/plain": [
       "3140"
      ]
     },
     "execution_count": 7,
     "metadata": {},
     "output_type": "execute_result"
    }
   ],
   "source": [
    "FEA_COLS = bar_df.columns.to_list()[:-2]\n",
    "print(FEA_COLS)\n",
    "\n",
    "dataset = DataFrameDataset(\n",
    "    dataframe=bar_df[bar_df['K'] >= 0],\n",
    "    feature_cols=FEA_COLS,\n",
    "    label_col='K',\n",
    "    device='cuda' if torch.cuda.is_available() else 'cpu'\n",
    ")\n",
    "len(dataset)\n"
   ]
  },
  {
   "cell_type": "code",
   "execution_count": 8,
   "id": "88684261-e14a-432a-ae10-969a5b375262",
   "metadata": {},
   "outputs": [
    {
     "data": {
      "text/plain": [
       "device(type='cpu')"
      ]
     },
     "execution_count": 8,
     "metadata": {},
     "output_type": "execute_result"
    }
   ],
   "source": [
    "device = torch.device(\"cuda\" if torch.cuda.is_available() else \"cpu\")\n",
    "device"
   ]
  },
  {
   "cell_type": "code",
   "execution_count": 9,
   "id": "e19e98f1-742f-48bd-bf94-ff86f5ac050e",
   "metadata": {},
   "outputs": [
    {
     "data": {
      "text/plain": [
       "(tensor([1.2740e+03, 1.2740e+03, 1.2720e+03, 1.2720e+03, 6.8500e+02, 1.2731e+03,\n",
       "         5.1006e+04, 1.2720e+03, 4.2873e+04, 1.2720e+03, 1.2730e+03, 1.2710e+03,\n",
       "         1.2710e+03, 7.6800e+02, 1.2725e+03, 6.2708e+04, 1.2714e+03, 6.9209e+04,\n",
       "         1.2710e+03, 1.2720e+03, 1.2710e+03, 1.2720e+03, 1.2810e+03, 1.2720e+03,\n",
       "         7.3884e+04, 1.2710e+03, 9.7186e+04, 1.2720e+03, 1.2720e+03, 1.2700e+03,\n",
       "         1.2700e+03, 2.4050e+03, 1.2719e+03, 3.2778e+04, 1.2708e+03, 1.1439e+05,\n",
       "         1.2700e+03, 1.2720e+03, 1.2700e+03, 1.2710e+03, 2.1420e+03, 1.2713e+03,\n",
       "         5.3205e+04, 1.2702e+03, 1.3337e+05, 1.2710e+03, 1.2710e+03, 1.2700e+03,\n",
       "         1.2710e+03, 7.6000e+02, 1.2710e+03, 6.0735e+04, 1.2700e+03, 1.6694e+05,\n",
       "         1.2700e+03, 1.2710e+03, 1.2690e+03, 1.2690e+03, 3.2650e+03, 1.2708e+03,\n",
       "         6.0905e+04, 1.2698e+03, 1.0815e+05, 1.2690e+03, 1.2710e+03, 1.2690e+03,\n",
       "         1.2700e+03, 2.1810e+03, 1.2704e+03, 7.1849e+04, 1.2693e+03, 6.5230e+04,\n",
       "         1.2700e+03, 1.2720e+03, 1.2700e+03, 1.2720e+03, 1.4200e+03, 1.2715e+03,\n",
       "         6.9729e+04, 1.2704e+03, 4.3302e+04, 1.2720e+03, 1.2720e+03, 1.2710e+03,\n",
       "         1.2720e+03, 7.0600e+02, 1.2720e+03, 8.2701e+04, 1.2710e+03, 4.4101e+04,\n",
       "         1.2720e+03, 1.2740e+03, 1.2710e+03, 1.2730e+03, 2.0170e+03, 1.2734e+03,\n",
       "         6.0302e+04, 1.2722e+03, 3.7211e+04, 1.2730e+03, 1.2740e+03, 1.2720e+03,\n",
       "         1.2740e+03, 2.1160e+03, 1.2739e+03, 5.6694e+04, 1.2728e+03, 5.7743e+04,\n",
       "         1.2730e+03, 1.2760e+03, 1.2730e+03, 1.2750e+03, 3.3270e+03, 1.2749e+03,\n",
       "         5.1697e+04, 1.2735e+03, 6.5016e+04, 1.2760e+03, 1.2760e+03, 1.2740e+03,\n",
       "         1.2750e+03, 2.7320e+03, 1.2759e+03, 4.2182e+04, 1.2742e+03, 5.6885e+04,\n",
       "         1.2740e+03, 1.2760e+03, 1.2740e+03, 1.2760e+03, 1.7640e+03, 1.2759e+03,\n",
       "         5.5445e+04, 1.2748e+03, 5.9781e+04, 1.2750e+03, 1.2760e+03, 1.2740e+03,\n",
       "         1.2750e+03, 1.3320e+03, 1.2760e+03, 8.9067e+04, 1.2749e+03, 5.7241e+04,\n",
       "         1.2750e+03, 1.2760e+03, 1.2750e+03, 1.2750e+03, 4.9500e+02, 1.2760e+03,\n",
       "         1.2387e+05, 1.2750e+03, 1.3032e+05, 1.2750e+03, 1.2770e+03, 1.2750e+03,\n",
       "         1.2770e+03, 3.0950e+03, 1.2769e+03, 1.0877e+05, 1.2759e+03, 1.0239e+05,\n",
       "         1.2770e+03, 1.2780e+03, 1.2760e+03, 1.2770e+03, 4.9630e+03, 1.2774e+03,\n",
       "         5.2560e+04, 1.2762e+03, 6.3689e+04, 1.2780e+03, 1.2780e+03, 1.2760e+03,\n",
       "         1.2760e+03, 6.8100e+02, 1.2780e+03, 2.1800e+02, 1.2760e+03, 1.5200e+02]),\n",
       " tensor(4))"
      ]
     },
     "execution_count": 9,
     "metadata": {},
     "output_type": "execute_result"
    }
   ],
   "source": [
    "dataset[0]"
   ]
  },
  {
   "cell_type": "code",
   "execution_count": 10,
   "id": "6e7fd3e8-2858-41e9-b790-1d140894573f",
   "metadata": {},
   "outputs": [
    {
     "data": {
      "text/plain": [
       "torch.Size([180])"
      ]
     },
     "execution_count": 10,
     "metadata": {},
     "output_type": "execute_result"
    }
   ],
   "source": [
    "dataset[0][0].shape"
   ]
  },
  {
   "cell_type": "code",
   "execution_count": 11,
   "id": "435ecffb-b54f-48cb-b827-aa84ce81d304",
   "metadata": {},
   "outputs": [
    {
     "name": "stdout",
     "output_type": "stream",
     "text": [
      "2512 628\n",
      "2512 628\n"
     ]
    }
   ],
   "source": [
    "# 划分训练集和测试集\n",
    "train_size = int(0.8 * len(dataset))\n",
    "test_size = len(dataset) - train_size\n",
    "print(train_size, test_size)\n",
    "\n",
    "train_dataset, test_dataset = random_split(dataset, [train_size, test_size])\n",
    "print(len(train_dataset), len(test_dataset))\n",
    "\n",
    "# 创建 DataLoader\n",
    "train_loader = DataLoader(train_dataset, batch_size=64, shuffle=True)\n",
    "test_loader = DataLoader(test_dataset, batch_size=64, shuffle=True)"
   ]
  },
  {
   "cell_type": "code",
   "execution_count": 12,
   "id": "d7f5f573-b0e3-4b45-87d7-a8ed9baec791",
   "metadata": {},
   "outputs": [],
   "source": [
    "# -----------------------------\n",
    "# 4. 定义 Transformer MLP 分类模型\n",
    "# -----------------------------\n",
    "class TransformerMLPClassifier(nn.Module):\n",
    "    def __init__(self, input_dim, num_classes, d_model=128, nhead=4, num_layers=2, dim_feedforward=256, dropout=0.3):\n",
    "        super().__init__()\n",
    "        # 投影输入到 Transformer 维度\n",
    "        self.input_proj = nn.Linear(input_dim, d_model)\n",
    "\n",
    "        # Positional Encoding（简单实现）\n",
    "        self.pos_enc = nn.Parameter(torch.zeros(1, 1, d_model))\n",
    "\n",
    "        # Transformer Encoder\n",
    "        encoder_layer = nn.TransformerEncoderLayer(\n",
    "            d_model=d_model,\n",
    "            nhead=nhead,\n",
    "            dim_feedforward=dim_feedforward,\n",
    "            dropout=dropout,\n",
    "            activation='relu'\n",
    "        )\n",
    "        self.transformer_encoder = nn.TransformerEncoder(encoder_layer, num_layers=num_layers)\n",
    "\n",
    "        # 分类头\n",
    "        self.classifier = nn.Sequential(\n",
    "            nn.Linear(d_model, d_model // 2),\n",
    "            nn.ReLU(),\n",
    "            nn.Dropout(dropout),\n",
    "            nn.Linear(d_model // 2, num_classes)\n",
    "        )\n",
    "\n",
    "    def forward(self, x):\n",
    "        # x shape: (batch_size, input_dim)\n",
    "        x = self.input_proj(x)  # -> (batch_size, d_model)\n",
    "        x = x.unsqueeze(1)      # -> (batch_size, 1, d_model)\n",
    "        x = x + self.pos_enc    # 加位置编码\n",
    "        x = self.transformer_encoder(x)  # -> (batch_size, 1, d_model)\n",
    "        x = x.squeeze(1)        # -> (batch_size, d_model)\n",
    "        logits = self.classifier(x)     # -> (batch_size, num_classes)\n",
    "        return logits\n"
   ]
  },
  {
   "cell_type": "code",
   "execution_count": 13,
   "id": "4f9208f7-54c0-4b53-b1d9-84f519d6dc47",
   "metadata": {},
   "outputs": [],
   "source": [
    "# -----------------------------\n",
    "# 5. 初始化模型、损失函数和优化器\n",
    "# -----------------------------\n",
    "device = torch.device(\"cuda\" if torch.cuda.is_available() else \"cpu\")\n",
    "\n",
    "inmput_dim = len(FEA_COLS)\n",
    "num_classes = 10\n",
    "\n",
    "model = TransformerMLPClassifier(input_dim=inmput_dim, num_classes=10)\n",
    "model.to(device)\n",
    "\n",
    "criterion = nn.CrossEntropyLoss()\n",
    "optimizer = optim.Adam(model.parameters(), lr=3e-4)\n",
    "scheduler = optim.lr_scheduler.ReduceLROnPlateau(optimizer, 'min', patience=2)\n"
   ]
  },
  {
   "cell_type": "code",
   "execution_count": 14,
   "id": "f10732a1-23c8-4151-8490-f1e5b4e998dc",
   "metadata": {},
   "outputs": [],
   "source": [
    "# -----------------------------\n",
    "# 6. 训练函数\n",
    "# -----------------------------\n",
    "def train_model(model, train_loader, criterion, optimizer, device, epochs=20):\n",
    "    model.train()\n",
    "    for epoch in range(epochs):\n",
    "        total_loss = 0\n",
    "        all_preds = []\n",
    "        all_labels = []\n",
    "\n",
    "        for inputs, labels in train_loader:\n",
    "            inputs, labels = inputs.to(device), labels.to(device)\n",
    "\n",
    "            optimizer.zero_grad()\n",
    "            outputs = model(inputs)\n",
    "            loss = criterion(outputs, labels)\n",
    "            loss.backward()\n",
    "            optimizer.step()\n",
    "\n",
    "            total_loss += loss.item()\n",
    "            preds = torch.argmax(outputs, dim=1)\n",
    "            all_preds.extend(preds.cpu().numpy())\n",
    "            all_labels.extend(labels.cpu().numpy())\n",
    "\n",
    "        acc = accuracy_score(all_labels, all_preds)\n",
    "        print(f\"Epoch {epoch+1}/{epochs}, Loss: {total_loss:.4f}, Accuracy: {acc*100:.2f}%\")\n",
    "        scheduler.step(total_loss)\n"
   ]
  },
  {
   "cell_type": "code",
   "execution_count": 15,
   "id": "19bbcdc6-6024-4552-bc4b-363bbe7ddda8",
   "metadata": {
    "scrolled": true
   },
   "outputs": [
    {
     "name": "stdout",
     "output_type": "stream",
     "text": [
      "Epoch 1/30, Loss: 66.3387, Accuracy: 47.09%\n",
      "Epoch 2/30, Loss: 60.2056, Accuracy: 49.64%\n",
      "Epoch 3/30, Loss: 59.8390, Accuracy: 48.61%\n",
      "Epoch 4/30, Loss: 58.9027, Accuracy: 49.96%\n",
      "Epoch 5/30, Loss: 58.5115, Accuracy: 50.12%\n",
      "Epoch 6/30, Loss: 58.4457, Accuracy: 49.80%\n",
      "Epoch 7/30, Loss: 58.6865, Accuracy: 50.16%\n",
      "Epoch 8/30, Loss: 57.8782, Accuracy: 50.00%\n",
      "Epoch 9/30, Loss: 57.9784, Accuracy: 49.72%\n",
      "Epoch 10/30, Loss: 57.2713, Accuracy: 50.16%\n",
      "Epoch 11/30, Loss: 55.7845, Accuracy: 50.16%\n",
      "Epoch 12/30, Loss: 55.9626, Accuracy: 50.24%\n",
      "Epoch 13/30, Loss: 54.9701, Accuracy: 49.76%\n",
      "Epoch 14/30, Loss: 55.2902, Accuracy: 49.72%\n",
      "Epoch 15/30, Loss: 54.8433, Accuracy: 50.88%\n",
      "Epoch 16/30, Loss: 54.6328, Accuracy: 51.19%\n",
      "Epoch 17/30, Loss: 53.7464, Accuracy: 49.92%\n",
      "Epoch 18/30, Loss: 53.8345, Accuracy: 50.20%\n",
      "Epoch 19/30, Loss: 53.0135, Accuracy: 50.84%\n",
      "Epoch 20/30, Loss: 52.6485, Accuracy: 50.92%\n",
      "Epoch 21/30, Loss: 52.3998, Accuracy: 51.11%\n",
      "Epoch 22/30, Loss: 51.1828, Accuracy: 51.47%\n",
      "Epoch 23/30, Loss: 51.6240, Accuracy: 50.80%\n",
      "Epoch 24/30, Loss: 51.4310, Accuracy: 51.47%\n",
      "Epoch 25/30, Loss: 51.3552, Accuracy: 51.47%\n",
      "Epoch 26/30, Loss: 50.4233, Accuracy: 52.35%\n",
      "Epoch 27/30, Loss: 50.1812, Accuracy: 52.43%\n",
      "Epoch 28/30, Loss: 49.8681, Accuracy: 52.31%\n",
      "Epoch 29/30, Loss: 50.1944, Accuracy: 52.19%\n",
      "Epoch 30/30, Loss: 49.7066, Accuracy: 52.31%\n"
     ]
    }
   ],
   "source": [
    "# -----------------------------\n",
    "# 7. 开始训练\n",
    "# -----------------------------\n",
    "train_model(model, train_loader, criterion, optimizer, device, epochs=30)"
   ]
  },
  {
   "cell_type": "code",
   "execution_count": 16,
   "id": "10e8d3f7-1b96-4c10-8b0c-aa4df3c93e27",
   "metadata": {},
   "outputs": [],
   "source": [
    "# -----------------------------\n",
    "# 8. 验证函数\n",
    "# -----------------------------\n",
    "def evaluate_model(model, test_loader, device='cpu'):\n",
    "    model.eval()\n",
    "    all_preds = []\n",
    "    all_labels = []\n",
    "\n",
    "    with torch.no_grad():\n",
    "        for inputs, labels in test_loader:\n",
    "            inputs, labels = inputs.to(device), labels.to(device)\n",
    "            outputs = model(inputs)\n",
    "            preds = torch.argmax(outputs, dim=1)\n",
    "            all_preds.extend(preds.cpu().numpy())\n",
    "            all_labels.extend(labels.cpu().numpy())\n",
    "\n",
    "    acc = accuracy_score(all_labels, all_preds)\n",
    "    print(f\"\\nValidation Accuracy: {acc*100:.2f}%\")\n"
   ]
  },
  {
   "cell_type": "code",
   "execution_count": null,
   "id": "1a5c0a5f-a086-47bd-9301-1b1ad9e448e7",
   "metadata": {},
   "outputs": [],
   "source": [
    "evaluate_model(model, test_loader)"
   ]
  },
  {
   "cell_type": "code",
   "execution_count": null,
   "id": "575bf481-56c6-4925-a841-7912464ad1b5",
   "metadata": {},
   "outputs": [],
   "source": []
  }
 ],
 "metadata": {
  "kernelspec": {
   "display_name": "Python3.11 (ctp)",
   "language": "python",
   "name": "ctp-py311"
  },
  "language_info": {
   "codemirror_mode": {
    "name": "ipython",
    "version": 3
   },
   "file_extension": ".py",
   "mimetype": "text/x-python",
   "name": "python",
   "nbconvert_exporter": "python",
   "pygments_lexer": "ipython3",
   "version": "3.11.4"
  }
 },
 "nbformat": 4,
 "nbformat_minor": 5
}
