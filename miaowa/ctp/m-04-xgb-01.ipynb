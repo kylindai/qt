{
 "cells": [
  {
   "cell_type": "code",
   "execution_count": 1,
   "id": "92df9618",
   "metadata": {},
   "outputs": [],
   "source": [
    "import numpy as np\n",
    "import pandas as pd\n",
    "\n",
    "import sqlalchemy\n",
    "\n",
    "import matplotlib as mpl\n",
    "import matplotlib.pyplot as plt\n",
    "\n",
    "from common.funcs import read_ticker_from_sql, concat_shift, batch_concat_shift"
   ]
  },
  {
   "cell_type": "code",
   "execution_count": 2,
   "id": "8bb2b0f2",
   "metadata": {},
   "outputs": [
    {
     "data": {
      "text/plain": [
       "(7978, 20)"
      ]
     },
     "execution_count": 2,
     "metadata": {},
     "output_type": "execute_result"
    }
   ],
   "source": [
    "df = read_ticker_from_sql('MA2209.ZCE', '20220719')\n",
    "df.shape"
   ]
  },
  {
   "cell_type": "code",
   "execution_count": 3,
   "id": "b77b6638",
   "metadata": {},
   "outputs": [
    {
     "data": {
      "text/plain": [
       "(7978, 10)"
      ]
     },
     "execution_count": 3,
     "metadata": {},
     "output_type": "execute_result"
    }
   ],
   "source": [
    "# 制作数据集 x, 所有行, 指定列\n",
    "raw_x = df[['open', 'high', 'low', 'close', 'volume', 'average', \n",
    "            'ask1_price', 'ask1_volume', 'bid1_price', 'bid1_volume']]\n",
    "raw_x.shape"
   ]
  },
  {
   "cell_type": "code",
   "execution_count": 4,
   "id": "cdf54354",
   "metadata": {},
   "outputs": [],
   "source": [
    "# 制作特征集 x, 添加 前1, 3, 5秒的 close, ask1_volume 增量, bid1_volume 增量\n",
    "columns = ['close', 'ask1_price', 'ask1_volume', 'bid1_price', 'bid1_volume']\n",
    "data_x = raw_x[0:2000].copy()\n",
    "periods = 120\n",
    "data_x = batch_concat_shift(data_x, periods, columns)"
   ]
  },
  {
   "cell_type": "code",
   "execution_count": 5,
   "id": "aba97d11",
   "metadata": {},
   "outputs": [
    {
     "data": {
      "text/plain": [
       "(2000, 610)"
      ]
     },
     "execution_count": 5,
     "metadata": {},
     "output_type": "execute_result"
    }
   ],
   "source": [
    "data_x.shape"
   ]
  },
  {
   "cell_type": "code",
   "execution_count": 6,
   "id": "98f1710c",
   "metadata": {},
   "outputs": [
    {
     "data": {
      "text/plain": [
       "(2000,)"
      ]
     },
     "execution_count": 6,
     "metadata": {},
     "output_type": "execute_result"
    }
   ],
   "source": [
    "# 制作标注集 y -- 如果 close > close_60 则为1(上涨），如果 close_10 <= 0 则为0(没上涨)\n",
    "data_y = (data_x['close'] >= data_x[f\"close_{periods}\"]).apply(lambda x: 1 if x else 0)\n",
    "data_y\n",
    "data_y.shape"
   ]
  },
  {
   "cell_type": "code",
   "execution_count": 7,
   "id": "3555df3d",
   "metadata": {},
   "outputs": [
    {
     "data": {
      "text/plain": [
       "0    1200\n",
       "1     800\n",
       "dtype: int64"
      ]
     },
     "execution_count": 7,
     "metadata": {},
     "output_type": "execute_result"
    }
   ],
   "source": [
    "data_y.value_counts()"
   ]
  },
  {
   "cell_type": "code",
   "execution_count": 8,
   "id": "1e3f15f6",
   "metadata": {},
   "outputs": [
    {
     "data": {
      "text/plain": [
       "Index(['open', 'high', 'low', 'volume', 'average', 'ask1_price', 'ask1_volume',\n",
       "       'bid1_price', 'bid1_volume', 'close_1',\n",
       "       ...\n",
       "       'close_119', 'ask1_price_119', 'ask1_volume_119', 'bid1_price_119',\n",
       "       'bid1_volume_119', 'close_120', 'ask1_price_120', 'ask1_volume_120',\n",
       "       'bid1_price_120', 'bid1_volume_120'],\n",
       "      dtype='object', length=609)"
      ]
     },
     "execution_count": 8,
     "metadata": {},
     "output_type": "execute_result"
    }
   ],
   "source": [
    "# 移除close列\n",
    "data_x.drop('close', axis=1, inplace=True)\n",
    "data_x.columns"
   ]
  },
  {
   "cell_type": "code",
   "execution_count": 9,
   "id": "bf65e5d1",
   "metadata": {},
   "outputs": [
    {
     "data": {
      "text/plain": [
       "id\n",
       "1    0\n",
       "2    1\n",
       "3    1\n",
       "4    0\n",
       "5    0\n",
       "dtype: int64"
      ]
     },
     "execution_count": 9,
     "metadata": {},
     "output_type": "execute_result"
    }
   ],
   "source": [
    "data_y.head()"
   ]
  },
  {
   "cell_type": "code",
   "execution_count": 10,
   "id": "72129e45",
   "metadata": {},
   "outputs": [],
   "source": [
    "# xgb 分类模型\n",
    "# 训练集和测试集拆分\n",
    "from sklearn.model_selection import train_test_split\n",
    "X_train, X_test, y_train, y_test = train_test_split(data_x, data_y, test_size=1/5)"
   ]
  },
  {
   "cell_type": "code",
   "execution_count": 11,
   "id": "d6c75ff6",
   "metadata": {},
   "outputs": [
    {
     "data": {
      "text/plain": [
       "((1600, 609), (1600,))"
      ]
     },
     "execution_count": 11,
     "metadata": {},
     "output_type": "execute_result"
    }
   ],
   "source": [
    "X_train.shape, y_train.shape"
   ]
  },
  {
   "cell_type": "code",
   "execution_count": 12,
   "id": "dcd5f5d8",
   "metadata": {},
   "outputs": [],
   "source": [
    "import xgboost as xgb\n",
    "\n",
    "xgb_train = xgb.DMatrix(X_train, y_train)\n",
    "xgb_test = xgb.DMatrix(X_test, y_test)"
   ]
  },
  {
   "cell_type": "code",
   "execution_count": 13,
   "id": "66f181e4",
   "metadata": {},
   "outputs": [
    {
     "name": "stdout",
     "output_type": "stream",
     "text": [
      "[0]\ttrain-logloss:0.17519\ttest-logloss:0.27161\n",
      "[1]\ttrain-logloss:0.08226\ttest-logloss:0.19053\n",
      "[2]\ttrain-logloss:0.04750\ttest-logloss:0.18143\n",
      "[3]\ttrain-logloss:0.03153\ttest-logloss:0.17111\n",
      "[4]\ttrain-logloss:0.02727\ttest-logloss:0.17349\n",
      "[5]\ttrain-logloss:0.02336\ttest-logloss:0.17520\n",
      "[6]\ttrain-logloss:0.02121\ttest-logloss:0.17854\n",
      "[7]\ttrain-logloss:0.01951\ttest-logloss:0.17841\n",
      "[8]\ttrain-logloss:0.01914\ttest-logloss:0.17874\n",
      "[9]\ttrain-logloss:0.01700\ttest-logloss:0.17141\n",
      "[10]\ttrain-logloss:0.01699\ttest-logloss:0.17066\n",
      "[11]\ttrain-logloss:0.01699\ttest-logloss:0.17063\n",
      "[12]\ttrain-logloss:0.01699\ttest-logloss:0.17063\n",
      "[13]\ttrain-logloss:0.01699\ttest-logloss:0.17063\n",
      "[14]\ttrain-logloss:0.01699\ttest-logloss:0.17063\n",
      "[15]\ttrain-logloss:0.01699\ttest-logloss:0.17063\n",
      "[16]\ttrain-logloss:0.01699\ttest-logloss:0.17063\n",
      "[17]\ttrain-logloss:0.01699\ttest-logloss:0.17063\n",
      "[18]\ttrain-logloss:0.01699\ttest-logloss:0.17063\n",
      "[19]\ttrain-logloss:0.01699\ttest-logloss:0.17063\n",
      "[20]\ttrain-logloss:0.01699\ttest-logloss:0.17063\n",
      "[21]\ttrain-logloss:0.01699\ttest-logloss:0.17063\n",
      "[22]\ttrain-logloss:0.01699\ttest-logloss:0.17063\n",
      "[23]\ttrain-logloss:0.01699\ttest-logloss:0.17063\n",
      "[24]\ttrain-logloss:0.01699\ttest-logloss:0.17063\n",
      "[25]\ttrain-logloss:0.01699\ttest-logloss:0.17063\n",
      "[26]\ttrain-logloss:0.01699\ttest-logloss:0.17063\n",
      "[27]\ttrain-logloss:0.01699\ttest-logloss:0.17063\n",
      "[28]\ttrain-logloss:0.01699\ttest-logloss:0.17063\n",
      "[29]\ttrain-logloss:0.01699\ttest-logloss:0.17063\n",
      "[30]\ttrain-logloss:0.01699\ttest-logloss:0.17063\n",
      "[31]\ttrain-logloss:0.01699\ttest-logloss:0.17063\n",
      "[32]\ttrain-logloss:0.01699\ttest-logloss:0.17063\n",
      "[33]\ttrain-logloss:0.01699\ttest-logloss:0.17063\n",
      "[34]\ttrain-logloss:0.01699\ttest-logloss:0.17063\n",
      "[35]\ttrain-logloss:0.01699\ttest-logloss:0.17063\n",
      "[36]\ttrain-logloss:0.01699\ttest-logloss:0.17063\n",
      "[37]\ttrain-logloss:0.01699\ttest-logloss:0.17063\n",
      "[38]\ttrain-logloss:0.01699\ttest-logloss:0.17063\n",
      "[39]\ttrain-logloss:0.01699\ttest-logloss:0.17063\n",
      "[40]\ttrain-logloss:0.01699\ttest-logloss:0.17063\n",
      "[41]\ttrain-logloss:0.01699\ttest-logloss:0.17063\n",
      "[42]\ttrain-logloss:0.01699\ttest-logloss:0.17063\n",
      "[43]\ttrain-logloss:0.01699\ttest-logloss:0.17063\n",
      "[44]\ttrain-logloss:0.01699\ttest-logloss:0.17063\n",
      "[45]\ttrain-logloss:0.01699\ttest-logloss:0.17063\n",
      "[46]\ttrain-logloss:0.01699\ttest-logloss:0.17063\n",
      "[47]\ttrain-logloss:0.01699\ttest-logloss:0.17063\n",
      "[48]\ttrain-logloss:0.01699\ttest-logloss:0.17063\n",
      "[49]\ttrain-logloss:0.01699\ttest-logloss:0.17063\n"
     ]
    }
   ],
   "source": [
    "# 模型训练\n",
    "params = {\n",
    "    \"objective\": \"binary:logistic\",\n",
    "    \"booster\": \"gbtree\",\n",
    "    \"eta\": 1.0,\n",
    "    \"gamma\": 1.0,\n",
    "    \"min_child_weight\": 1,\n",
    "    \"max_depth\": 10\n",
    "}\n",
    "\n",
    "num_round = 50\n",
    "watchlist = [(xgb_train, 'train'), (xgb_test, 'test')]\n",
    "\n",
    "model = xgb.train(params, xgb_train, num_round, evals=watchlist)"
   ]
  },
  {
   "cell_type": "code",
   "execution_count": 14,
   "id": "e9e8bef0",
   "metadata": {},
   "outputs": [],
   "source": [
    "model.save_model('./mod/ma2209.mod')"
   ]
  },
  {
   "cell_type": "code",
   "execution_count": 15,
   "id": "d61b5bc6",
   "metadata": {},
   "outputs": [
    {
     "name": "stdout",
     "output_type": "stream",
     "text": [
      "[9.89755929e-01 9.93606806e-01 9.87131953e-01 3.86833446e-03\n",
      " 9.99496222e-01 5.10101579e-03 1.74574123e-03 2.23082118e-03\n",
      " 3.54262628e-03 1.07391493e-03 9.56718028e-01 2.11576819e-01\n",
      " 3.10020521e-03 7.25596845e-02 9.95850682e-01 2.31318757e-01\n",
      " 9.75320756e-01 3.31238960e-03 7.69287464e-04 9.96107638e-01\n",
      " 9.95400965e-01 1.44052377e-03 9.31752741e-01 8.88393901e-04\n",
      " 5.67201614e-01 9.98275042e-01 5.95149770e-03 5.19456249e-03\n",
      " 9.87520099e-01 9.96869862e-01 9.94231462e-01 3.73623846e-03\n",
      " 9.95348394e-01 9.97308373e-01 1.35852327e-03 9.97641087e-01\n",
      " 4.96015593e-04 9.89883006e-01 9.99496222e-01 4.62979227e-02\n",
      " 2.31700251e-03 8.87245119e-01 5.68495272e-03 2.04071659e-03\n",
      " 9.75731667e-03 9.98238683e-01 9.96128082e-01 3.46459192e-03\n",
      " 5.20664151e-04 2.05190224e-03 5.27490955e-03 9.92722571e-01\n",
      " 9.70169809e-03 3.85868567e-04 4.35594261e-01 6.71140617e-04\n",
      " 7.60595500e-01 9.84454751e-01 1.36050244e-03 7.96937663e-03\n",
      " 1.13851335e-02 1.15623008e-02 3.02705646e-01 5.20664151e-04\n",
      " 3.05841560e-03 2.24901969e-03 9.96236622e-01 7.69287464e-04\n",
      " 2.86610378e-03 2.05583405e-03 5.20664151e-04 6.49247542e-02\n",
      " 9.99016047e-01 5.04267514e-02 6.15507131e-03 9.45597053e-01\n",
      " 3.94972833e-03 7.46867239e-01 9.98712063e-01 9.98650134e-01\n",
      " 1.69150643e-02 2.22605601e-01 9.96974826e-01 9.57313538e-01\n",
      " 2.91345399e-02 9.48782265e-02 5.20664151e-04 9.62572992e-01\n",
      " 1.67388935e-03 4.82945563e-03 2.15579243e-03 6.52838409e-01\n",
      " 3.46459192e-03 6.71373531e-02 3.70126590e-03 1.09877868e-03\n",
      " 1.57447718e-02 5.79014421e-01 4.06231871e-03 9.93505597e-01\n",
      " 7.68002006e-04 9.89234328e-01 9.85895813e-01 9.77295488e-02\n",
      " 4.28056151e-01 9.88045752e-01 9.79086101e-01 9.73683119e-01\n",
      " 9.94479895e-01 1.08640417e-01 4.23420161e-01 7.68002006e-04\n",
      " 9.83399570e-01 4.22506928e-01 6.06245035e-03 9.89863396e-01\n",
      " 6.34240685e-03 4.73839696e-03 8.53901636e-03 9.43828940e-01\n",
      " 9.73722875e-01 2.82971887e-03 7.31103402e-03 9.87190545e-01\n",
      " 9.97641087e-01 6.15872769e-03 8.72256994e-01 9.88674462e-01\n",
      " 7.35770678e-03 6.40802756e-02 9.99078274e-01 9.85705759e-03\n",
      " 1.97406090e-03 1.67434234e-02 1.19284339e-01 9.99658465e-01\n",
      " 4.63432865e-03 9.91183996e-01 5.20664151e-04 9.99578297e-01\n",
      " 1.20547868e-01 4.92986385e-03 1.12145990e-02 9.95342612e-01\n",
      " 1.97249442e-01 2.46911682e-02 6.15872769e-03 2.97675445e-03\n",
      " 2.34757178e-03 2.25129381e-01 9.94924664e-01 9.00996864e-01\n",
      " 7.22374069e-03 9.64501798e-01 8.64678204e-01 9.95537639e-01\n",
      " 1.67434234e-02 5.05023226e-02 9.98516858e-01 8.13446999e-01\n",
      " 8.89005303e-01 5.00067323e-03 7.13206409e-03 1.41017325e-03\n",
      " 9.31664586e-01 6.91309571e-01 1.79202363e-01 9.60467279e-01\n",
      " 9.30975437e-01 9.84196842e-01 9.97877598e-01 2.41323095e-03\n",
      " 9.95657563e-01 1.59233843e-03 9.95753765e-01 9.96835947e-01\n",
      " 2.28756061e-03 9.72284794e-01 2.35945964e-03 9.98712063e-01\n",
      " 4.25616279e-03 1.38019491e-03 8.73698831e-01 6.50818586e-01\n",
      " 9.71478934e-04 9.86288786e-01 2.59887576e-02 4.71373647e-03\n",
      " 9.95840847e-01 9.97512817e-01 4.16742079e-02 1.68558280e-03\n",
      " 9.52790022e-01 8.94676149e-03 1.85945327e-03 5.52969985e-03\n",
      " 9.95236337e-01 7.93363392e-01 9.80776608e-01 9.98722374e-01\n",
      " 1.77383306e-03 6.38142973e-03 4.51749749e-03 9.92106438e-01\n",
      " 8.48685503e-01 2.23018532e-03 2.41910643e-03 4.84299148e-03\n",
      " 2.91045359e-03 9.53571141e-01 9.96539950e-01 2.52876114e-02\n",
      " 9.94161785e-01 8.28182399e-01 2.72625289e-03 9.53892013e-04\n",
      " 7.09890425e-02 1.84870744e-03 6.35707676e-02 9.77764558e-03\n",
      " 9.93712246e-01 9.99294162e-01 9.98099387e-01 9.97625887e-01\n",
      " 1.46954292e-02 9.92448807e-01 1.43860921e-03 3.96229653e-03\n",
      " 4.05748514e-03 3.45412567e-02 9.92342412e-01 1.72263812e-02\n",
      " 1.72452885e-03 4.39999998e-03 6.40333304e-03 5.16708381e-03\n",
      " 9.95452702e-01 9.77104247e-01 5.09869820e-03 9.39757407e-01\n",
      " 1.52148970e-03 9.85116065e-01 9.84450698e-01 4.00280058e-02\n",
      " 8.00678313e-01 9.87190545e-01 9.97875929e-01 2.84241908e-03\n",
      " 2.72242725e-01 3.30588315e-03 9.45597053e-01 9.96466756e-01\n",
      " 5.20664151e-04 2.10673339e-03 4.34196554e-03 2.22076802e-03\n",
      " 9.76883411e-01 9.97655034e-01 8.93777788e-01 1.52503550e-02\n",
      " 9.98366416e-01 2.39765225e-03 5.62980352e-03 5.97178340e-01\n",
      " 9.95537162e-01 2.03884140e-01 9.97053266e-01 7.72216939e-04\n",
      " 9.87185299e-01 4.12691478e-03 3.21678370e-02 9.98494506e-01\n",
      " 9.84841168e-01 6.43205643e-03 9.96512473e-01 2.49790028e-03\n",
      " 9.52572763e-01 3.85078089e-03 9.98750806e-01 4.31947745e-02\n",
      " 3.54099739e-03 9.00660515e-01 9.89270955e-02 3.63378972e-02\n",
      " 8.64631962e-03 5.20664151e-04 9.80791748e-01 6.39264882e-01\n",
      " 2.36368682e-02 8.91747415e-01 1.40674203e-03 2.21538381e-03\n",
      " 2.69322023e-02 9.99496222e-01 1.47434580e-03 5.82729816e-01\n",
      " 4.21932161e-01 2.94243172e-02 9.95652020e-01 9.95751023e-01\n",
      " 4.18847054e-03 1.07391493e-03 4.57035750e-03 9.73823011e-01\n",
      " 9.99013782e-01 1.16324343e-03 9.96788263e-01 1.02858513e-03\n",
      " 5.20664151e-04 6.14381313e-01 1.42757250e-02 1.13196496e-03\n",
      " 9.31537092e-01 1.68503402e-03 1.17195891e-02 1.21970288e-02\n",
      " 2.18183897e-03 2.34757178e-03 9.94903326e-01 1.13948146e-02\n",
      " 2.37664441e-03 2.87070125e-03 9.98928964e-01 2.35959720e-02\n",
      " 8.31791386e-03 9.94528115e-01 5.44875979e-01 9.73033547e-01\n",
      " 9.91479516e-01 1.05858769e-03 7.70255458e-03 9.94354486e-01\n",
      " 9.75701153e-01 9.93483961e-01 9.68378782e-03 8.07012839e-04\n",
      " 2.22983230e-02 9.42855597e-01 2.39733249e-01 9.98722374e-01\n",
      " 9.54066396e-01 2.73529768e-01 1.72269475e-02 5.81635058e-01\n",
      " 1.37850726e-02 9.97479618e-01 5.33628650e-03 3.49715981e-03\n",
      " 9.96128082e-01 9.85925376e-01 7.59209096e-02 9.97350574e-01\n",
      " 4.30110935e-03 1.67424232e-03 3.02508883e-02 1.00028841e-02\n",
      " 4.39144343e-01 1.38019491e-03 6.71140617e-04 1.38406421e-03\n",
      " 9.93615031e-01 9.96864617e-01 9.77944553e-01 9.78749812e-01\n",
      " 9.95908856e-01 5.20664151e-04 8.34881607e-03 9.88359690e-01\n",
      " 1.42281351e-03 6.58747042e-04 2.95692403e-02 9.99295831e-01\n",
      " 9.78624761e-01 5.20664151e-04 9.98100936e-01 9.92290437e-01\n",
      " 9.99078274e-01 9.91565585e-01 4.55442108e-02 9.96945918e-01\n",
      " 3.19380835e-02 3.80604081e-02 9.92017984e-01 6.45683613e-03\n",
      " 9.98628259e-01 6.80166343e-03 7.04252794e-02 7.06403283e-03\n",
      " 3.23643684e-01 1.65048704e-01 6.53177267e-03 9.95689690e-01\n",
      " 9.85915661e-01 5.20664151e-04 1.29283348e-03 9.65870559e-01\n",
      " 4.31540282e-03 9.96010780e-01 3.13073909e-03 7.48769322e-04] (400,)\n"
     ]
    }
   ],
   "source": [
    "# 加载模型进行预测\n",
    "bst = xgb.Booster()\n",
    "bst.load_model('./mod/ma2209.mod')\n",
    "pred = bst.predict(xgb_test)\n",
    "print(pred, pred.shape)"
   ]
  },
  {
   "cell_type": "code",
   "execution_count": 16,
   "id": "9442bae5",
   "metadata": {},
   "outputs": [
    {
     "name": "stdout",
     "output_type": "stream",
     "text": [
      "AUC: 0.9854\n",
      "ACC: 0.9300\n",
      "Recall: 0.9437\n",
      "F1-Score: 0.9152\n",
      "Precesion: 0.8882\n"
     ]
    }
   ],
   "source": [
    "# 模型评估\n",
    "from sklearn import metrics\n",
    "from sklearn.metrics import accuracy_score\n",
    "\n",
    "y_pred = np.where(pred > 0.5, 1, 0)\n",
    "\n",
    "print('AUC: %.4f' % metrics.roc_auc_score(y_test, pred))\n",
    "print('ACC: %.4f' % metrics.accuracy_score(y_test, y_pred))\n",
    "print('Recall: %.4f' % metrics.recall_score(y_test, y_pred))\n",
    "print('F1-Score: %.4f' % metrics.f1_score(y_test, y_pred))\n",
    "print('Precesion: %.4f' % metrics.precision_score(y_test, y_pred))"
   ]
  },
  {
   "cell_type": "code",
   "execution_count": 17,
   "id": "a4dc3e4d",
   "metadata": {},
   "outputs": [
    {
     "data": {
      "text/plain": [
       "array([1, 1, 1, 0, 1, 0, 0, 0, 0, 0, 1, 0, 0, 0, 1, 0, 1, 0, 0, 1, 1, 0,\n",
       "       1, 0, 1, 1, 0, 0, 1, 1, 1, 0, 1, 1, 0, 1, 0, 1, 1, 0, 0, 1, 0, 0,\n",
       "       0, 1, 1, 0, 0, 0, 0, 1, 0, 0, 0, 0, 1, 1, 0, 0, 0, 0, 0, 0, 0, 0,\n",
       "       1, 0, 0, 0, 0, 0, 1, 0, 0, 1, 0, 1, 1, 1, 0, 0, 1, 1, 0, 0, 0, 1,\n",
       "       0, 0, 0, 1, 0, 0, 0, 0, 0, 1, 0, 1, 0, 1, 1, 0, 0, 1, 1, 1, 1, 0,\n",
       "       0, 0, 1, 0, 0, 1, 0, 0, 0, 1, 1, 0, 0, 1, 1, 0, 1, 1, 0, 0, 1, 0,\n",
       "       0, 0, 0, 1, 0, 1, 0, 1, 0, 0, 0, 1, 0, 0, 0, 0, 0, 0, 1, 1, 0, 1,\n",
       "       1, 1, 0, 0, 1, 1, 1, 0, 0, 0, 1, 1, 0, 1, 1, 1, 1, 0, 1, 0, 1, 1,\n",
       "       0, 1, 0, 1, 0, 0, 1, 1, 0, 1, 0, 0, 1, 1, 0, 0, 1, 0, 0, 0, 1, 1,\n",
       "       1, 1, 0, 0, 0, 1, 1, 0, 0, 0, 0, 1, 1, 0, 1, 1, 0, 0, 0, 0, 0, 0,\n",
       "       1, 1, 1, 1, 0, 1, 0, 0, 0, 0, 1, 0, 0, 0, 0, 0, 1, 1, 0, 1, 0, 1,\n",
       "       1, 0, 1, 1, 1, 0, 0, 0, 1, 1, 0, 0, 0, 0, 1, 1, 1, 0, 1, 0, 0, 1,\n",
       "       1, 0, 1, 0, 1, 0, 0, 1, 1, 0, 1, 0, 1, 0, 1, 0, 0, 1, 0, 0, 0, 0,\n",
       "       1, 1, 0, 1, 0, 0, 0, 1, 0, 1, 0, 0, 1, 1, 0, 0, 0, 1, 1, 0, 1, 0,\n",
       "       0, 1, 0, 0, 1, 0, 0, 0, 0, 0, 1, 0, 0, 0, 1, 0, 0, 1, 1, 1, 1, 0,\n",
       "       0, 1, 1, 1, 0, 0, 0, 1, 0, 1, 1, 0, 0, 1, 0, 1, 0, 0, 1, 1, 0, 1,\n",
       "       0, 0, 0, 0, 0, 0, 0, 0, 1, 1, 1, 1, 1, 0, 0, 1, 0, 0, 0, 1, 1, 0,\n",
       "       1, 1, 1, 1, 0, 1, 0, 0, 1, 0, 1, 0, 0, 0, 0, 0, 0, 1, 1, 0, 0, 1,\n",
       "       0, 1, 0, 0])"
      ]
     },
     "execution_count": 17,
     "metadata": {},
     "output_type": "execute_result"
    }
   ],
   "source": [
    "y_pred"
   ]
  },
  {
   "cell_type": "code",
   "execution_count": 18,
   "id": "147a024c",
   "metadata": {},
   "outputs": [],
   "source": [
    "from xgboost import plot_importance\n",
    "\n",
    "# 特征重要性\n",
    "# plot_importance(model)\n",
    "# plt.show()"
   ]
  },
  {
   "cell_type": "code",
   "execution_count": 19,
   "id": "0d275737",
   "metadata": {},
   "outputs": [
    {
     "name": "stdout",
     "output_type": "stream",
     "text": [
      "(0, 609) (0,)\n",
      "[00:58:18] WARNING: /Users/runner/work/xgboost/xgboost/python-package/build/temp.macosx-10.9-x86_64-3.7/xgboost/src/learner.cc:1350: Empty dataset at worker: 0\n"
     ]
    },
    {
     "data": {
      "text/plain": [
       "array([], shape=(0, 0), dtype=int64)"
      ]
     },
     "execution_count": 19,
     "metadata": {},
     "output_type": "execute_result"
    }
   ],
   "source": [
    "data_v_x = raw_x[2000:1000].copy()\n",
    "data_v_x = batch_concat_shift(data_v_x, periods, columns)\n",
    "\n",
    "data_v_y = (data_v_x['close'] >= data_v_x[f\"close_{periods}\"]).apply(lambda x: 1 if x else 0)\n",
    "\n",
    "data_v_x.drop('close', axis=1, inplace=True)\n",
    "print(data_v_x.shape, data_v_y.shape)\n",
    "\n",
    "\n",
    "xgb_data_v = xgb.DMatrix(data_v_x, data_v_y)\n",
    "\n",
    "v_pred = bst.predict(xgb_data_v)\n",
    "\n",
    "y_v_pred = np.where(v_pred > 0.5, 1, 0)\n",
    "y_v_pred"
   ]
  },
  {
   "cell_type": "code",
   "execution_count": 20,
   "id": "6ce07288",
   "metadata": {},
   "outputs": [
    {
     "ename": "ValueError",
     "evalue": "Found array with 0 sample(s) (shape=(0,)) while a minimum of 1 is required.",
     "output_type": "error",
     "traceback": [
      "\u001b[0;31m---------------------------------------------------------------------------\u001b[0m",
      "\u001b[0;31mValueError\u001b[0m                                Traceback (most recent call last)",
      "\u001b[0;32m/var/folders/j3/7977byyd4xjgfn4z5qjdpz5r0000gn/T/ipykernel_81557/4033529717.py\u001b[0m in \u001b[0;36m<module>\u001b[0;34m\u001b[0m\n\u001b[0;32m----> 1\u001b[0;31m \u001b[0mprint\u001b[0m\u001b[0;34m(\u001b[0m\u001b[0;34m'AUC: %.4f'\u001b[0m \u001b[0;34m%\u001b[0m \u001b[0mmetrics\u001b[0m\u001b[0;34m.\u001b[0m\u001b[0mroc_auc_score\u001b[0m\u001b[0;34m(\u001b[0m\u001b[0mdata_v_y\u001b[0m\u001b[0;34m,\u001b[0m \u001b[0mv_pred\u001b[0m\u001b[0;34m)\u001b[0m\u001b[0;34m)\u001b[0m\u001b[0;34m\u001b[0m\u001b[0;34m\u001b[0m\u001b[0m\n\u001b[0m\u001b[1;32m      2\u001b[0m \u001b[0mprint\u001b[0m\u001b[0;34m(\u001b[0m\u001b[0;34m'ACC: %.4f'\u001b[0m \u001b[0;34m%\u001b[0m \u001b[0mmetrics\u001b[0m\u001b[0;34m.\u001b[0m\u001b[0maccuracy_score\u001b[0m\u001b[0;34m(\u001b[0m\u001b[0mdata_v_y\u001b[0m\u001b[0;34m,\u001b[0m \u001b[0my_v_pred\u001b[0m\u001b[0;34m)\u001b[0m\u001b[0;34m)\u001b[0m\u001b[0;34m\u001b[0m\u001b[0;34m\u001b[0m\u001b[0m\n\u001b[1;32m      3\u001b[0m \u001b[0mprint\u001b[0m\u001b[0;34m(\u001b[0m\u001b[0;34m'Recall: %.4f'\u001b[0m \u001b[0;34m%\u001b[0m \u001b[0mmetrics\u001b[0m\u001b[0;34m.\u001b[0m\u001b[0mrecall_score\u001b[0m\u001b[0;34m(\u001b[0m\u001b[0mdata_v_y\u001b[0m\u001b[0;34m,\u001b[0m \u001b[0my_v_pred\u001b[0m\u001b[0;34m)\u001b[0m\u001b[0;34m)\u001b[0m\u001b[0;34m\u001b[0m\u001b[0;34m\u001b[0m\u001b[0m\n\u001b[1;32m      4\u001b[0m \u001b[0mprint\u001b[0m\u001b[0;34m(\u001b[0m\u001b[0;34m'F1-Score: %.4f'\u001b[0m \u001b[0;34m%\u001b[0m \u001b[0mmetrics\u001b[0m\u001b[0;34m.\u001b[0m\u001b[0mf1_score\u001b[0m\u001b[0;34m(\u001b[0m\u001b[0mdata_v_y\u001b[0m\u001b[0;34m,\u001b[0m \u001b[0my_v_pred\u001b[0m\u001b[0;34m)\u001b[0m\u001b[0;34m)\u001b[0m\u001b[0;34m\u001b[0m\u001b[0;34m\u001b[0m\u001b[0m\n\u001b[1;32m      5\u001b[0m \u001b[0mprint\u001b[0m\u001b[0;34m(\u001b[0m\u001b[0;34m'Precesion: %.4f'\u001b[0m \u001b[0;34m%\u001b[0m \u001b[0mmetrics\u001b[0m\u001b[0;34m.\u001b[0m\u001b[0mprecision_score\u001b[0m\u001b[0;34m(\u001b[0m\u001b[0mdata_v_y\u001b[0m\u001b[0;34m,\u001b[0m \u001b[0my_v_pred\u001b[0m\u001b[0;34m)\u001b[0m\u001b[0;34m)\u001b[0m\u001b[0;34m\u001b[0m\u001b[0;34m\u001b[0m\u001b[0m\n",
      "\u001b[0;32m/Library/Frameworks/Python.framework/Versions/3.9/lib/python3.9/site-packages/sklearn/metrics/_ranking.py\u001b[0m in \u001b[0;36mroc_auc_score\u001b[0;34m(y_true, y_score, average, sample_weight, max_fpr, multi_class, labels)\u001b[0m\n\u001b[1;32m    545\u001b[0m \u001b[0;34m\u001b[0m\u001b[0m\n\u001b[1;32m    546\u001b[0m     \u001b[0my_type\u001b[0m \u001b[0;34m=\u001b[0m \u001b[0mtype_of_target\u001b[0m\u001b[0;34m(\u001b[0m\u001b[0my_true\u001b[0m\u001b[0;34m,\u001b[0m \u001b[0minput_name\u001b[0m\u001b[0;34m=\u001b[0m\u001b[0;34m\"y_true\"\u001b[0m\u001b[0;34m)\u001b[0m\u001b[0;34m\u001b[0m\u001b[0;34m\u001b[0m\u001b[0m\n\u001b[0;32m--> 547\u001b[0;31m     \u001b[0my_true\u001b[0m \u001b[0;34m=\u001b[0m \u001b[0mcheck_array\u001b[0m\u001b[0;34m(\u001b[0m\u001b[0my_true\u001b[0m\u001b[0;34m,\u001b[0m \u001b[0mensure_2d\u001b[0m\u001b[0;34m=\u001b[0m\u001b[0;32mFalse\u001b[0m\u001b[0;34m,\u001b[0m \u001b[0mdtype\u001b[0m\u001b[0;34m=\u001b[0m\u001b[0;32mNone\u001b[0m\u001b[0;34m)\u001b[0m\u001b[0;34m\u001b[0m\u001b[0;34m\u001b[0m\u001b[0m\n\u001b[0m\u001b[1;32m    548\u001b[0m     \u001b[0my_score\u001b[0m \u001b[0;34m=\u001b[0m \u001b[0mcheck_array\u001b[0m\u001b[0;34m(\u001b[0m\u001b[0my_score\u001b[0m\u001b[0;34m,\u001b[0m \u001b[0mensure_2d\u001b[0m\u001b[0;34m=\u001b[0m\u001b[0;32mFalse\u001b[0m\u001b[0;34m)\u001b[0m\u001b[0;34m\u001b[0m\u001b[0;34m\u001b[0m\u001b[0m\n\u001b[1;32m    549\u001b[0m \u001b[0;34m\u001b[0m\u001b[0m\n",
      "\u001b[0;32m/Library/Frameworks/Python.framework/Versions/3.9/lib/python3.9/site-packages/sklearn/utils/validation.py\u001b[0m in \u001b[0;36mcheck_array\u001b[0;34m(array, accept_sparse, accept_large_sparse, dtype, order, copy, force_all_finite, ensure_2d, allow_nd, ensure_min_samples, ensure_min_features, estimator, input_name)\u001b[0m\n\u001b[1;32m    907\u001b[0m         \u001b[0mn_samples\u001b[0m \u001b[0;34m=\u001b[0m \u001b[0m_num_samples\u001b[0m\u001b[0;34m(\u001b[0m\u001b[0marray\u001b[0m\u001b[0;34m)\u001b[0m\u001b[0;34m\u001b[0m\u001b[0;34m\u001b[0m\u001b[0m\n\u001b[1;32m    908\u001b[0m         \u001b[0;32mif\u001b[0m \u001b[0mn_samples\u001b[0m \u001b[0;34m<\u001b[0m \u001b[0mensure_min_samples\u001b[0m\u001b[0;34m:\u001b[0m\u001b[0;34m\u001b[0m\u001b[0;34m\u001b[0m\u001b[0m\n\u001b[0;32m--> 909\u001b[0;31m             raise ValueError(\n\u001b[0m\u001b[1;32m    910\u001b[0m                 \u001b[0;34m\"Found array with %d sample(s) (shape=%s) while a\"\u001b[0m\u001b[0;34m\u001b[0m\u001b[0;34m\u001b[0m\u001b[0m\n\u001b[1;32m    911\u001b[0m                 \u001b[0;34m\" minimum of %d is required%s.\"\u001b[0m\u001b[0;34m\u001b[0m\u001b[0;34m\u001b[0m\u001b[0m\n",
      "\u001b[0;31mValueError\u001b[0m: Found array with 0 sample(s) (shape=(0,)) while a minimum of 1 is required."
     ]
    }
   ],
   "source": [
    "print('AUC: %.4f' % metrics.roc_auc_score(data_v_y, v_pred))\n",
    "print('ACC: %.4f' % metrics.accuracy_score(data_v_y, y_v_pred))\n",
    "print('Recall: %.4f' % metrics.recall_score(data_v_y, y_v_pred))\n",
    "print('F1-Score: %.4f' % metrics.f1_score(data_v_y, y_v_pred))\n",
    "print('Precesion: %.4f' % metrics.precision_score(data_v_y, y_v_pred))"
   ]
  },
  {
   "cell_type": "code",
   "execution_count": 21,
   "id": "f9020c35",
   "metadata": {},
   "outputs": [
    {
     "name": "stdout",
     "output_type": "stream",
     "text": [
      "特征重要性结果为:\n",
      "                 weight        gain       cover  total_gain  total_cover\n",
      "close_120         13.0   15.479531   48.087631  201.233902   625.139221\n",
      "volume             5.0    3.454446   34.928825   17.272232   174.644135\n",
      "bid1_price         4.0   71.566200   69.971565  286.264801   279.886261\n",
      "ask1_price_120     4.0   13.467570   55.993008   53.870281   223.972031\n",
      "ask1_price         4.0   77.235832  134.141891  308.943329   536.567566\n",
      "...                ...         ...         ...         ...          ...\n",
      "ask1_volume_35     1.0    2.816666   15.000000    2.816666    15.000000\n",
      "bid1_volume_32     1.0    1.278661   21.236250    1.278661    21.236250\n",
      "ask1_volume_32     1.0    1.059927   13.331123    1.059927    13.331123\n",
      "ask1_volume_28     1.0    0.787644   10.557967    0.787644    10.557967\n",
      "bid1_price_120     1.0  163.395874  228.250000  163.395874   228.250000\n",
      "\n",
      "[88 rows x 5 columns]\n"
     ]
    }
   ],
   "source": [
    "importance_eval_list = ['weight', 'gain', 'cover', 'total_gain', 'total_cover']\n",
    "for i, importance_type in enumerate(importance_eval_list):\n",
    "    feat_importance = model.get_score(importance_type=importance_type)\n",
    "    feat_importance = pd.DataFrame.from_dict(feat_importance, orient='index')\n",
    "    feat_importance.columns = [importance_type]\n",
    "    if i == 0:\n",
    "        df_temp = feat_importance\n",
    "    else:\n",
    "        df_temp = pd.merge(df_temp, feat_importance, how='outer', left_index=True, right_index=True)\n",
    "\n",
    "df_temp.sort_values(by='weight', ascending=False, inplace=True)\n",
    "print('特征重要性结果为:\\n',df_temp)"
   ]
  },
  {
   "cell_type": "code",
   "execution_count": null,
   "id": "a815aee6",
   "metadata": {},
   "outputs": [],
   "source": []
  },
  {
   "cell_type": "code",
   "execution_count": null,
   "id": "77e6ada3",
   "metadata": {},
   "outputs": [],
   "source": []
  }
 ],
 "metadata": {
  "kernelspec": {
   "display_name": "Python 3 (ipykernel)",
   "language": "python",
   "name": "python3"
  },
  "language_info": {
   "codemirror_mode": {
    "name": "ipython",
    "version": 3
   },
   "file_extension": ".py",
   "mimetype": "text/x-python",
   "name": "python",
   "nbconvert_exporter": "python",
   "pygments_lexer": "ipython3",
   "version": "3.9.10"
  }
 },
 "nbformat": 4,
 "nbformat_minor": 5
}
