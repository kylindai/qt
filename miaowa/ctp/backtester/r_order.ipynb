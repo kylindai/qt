{
 "cells": [
  {
   "cell_type": "code",
   "execution_count": 1,
   "id": "9570d68b-139f-467d-ac44-531394d6e78c",
   "metadata": {},
   "outputs": [
    {
     "name": "stdout",
     "output_type": "stream",
     "text": [
      "pandas 2.1.1\n",
      "numpy 1.26.0\n"
     ]
    }
   ],
   "source": [
    "import pandas as pd\n",
    "import numpy as np\n",
    "\n",
    "for m in [pd, np]:\n",
    "    print(m.__name__, m.__version__)"
   ]
  },
  {
   "cell_type": "code",
   "execution_count": 2,
   "id": "96aeae72-1a00-4229-aec9-2fd3db05908a",
   "metadata": {},
   "outputs": [],
   "source": [
    "from funcs.backtest_funcs import *"
   ]
  },
  {
   "cell_type": "code",
   "execution_count": 5,
   "id": "9b3d0849-90a3-42ef-af48-a93ee9391fd2",
   "metadata": {},
   "outputs": [
    {
     "data": {
      "text/html": [
       "<div>\n",
       "<style scoped>\n",
       "    .dataframe tbody tr th:only-of-type {\n",
       "        vertical-align: middle;\n",
       "    }\n",
       "\n",
       "    .dataframe tbody tr th {\n",
       "        vertical-align: top;\n",
       "    }\n",
       "\n",
       "    .dataframe thead th {\n",
       "        text-align: right;\n",
       "    }\n",
       "</style>\n",
       "<table border=\"1\" class=\"dataframe\">\n",
       "  <thead>\n",
       "    <tr style=\"text-align: right;\">\n",
       "      <th></th>\n",
       "      <th>insert_time</th>\n",
       "      <th>price</th>\n",
       "      <th>volume</th>\n",
       "      <th>direction</th>\n",
       "      <th>offset</th>\n",
       "      <th>order_type</th>\n",
       "      <th>order_source</th>\n",
       "      <th>order_status</th>\n",
       "    </tr>\n",
       "    <tr>\n",
       "      <th>ts</th>\n",
       "      <th></th>\n",
       "      <th></th>\n",
       "      <th></th>\n",
       "      <th></th>\n",
       "      <th></th>\n",
       "      <th></th>\n",
       "      <th></th>\n",
       "      <th></th>\n",
       "    </tr>\n",
       "  </thead>\n",
       "  <tbody>\n",
       "    <tr>\n",
       "      <th>2023-10-25 13:31:00</th>\n",
       "      <td>13:31:00</td>\n",
       "      <td>1628.0</td>\n",
       "      <td>1</td>\n",
       "      <td>LONG</td>\n",
       "      <td>OPEN</td>\n",
       "      <td>NORMAL</td>\n",
       "      <td>SIGBUY</td>\n",
       "      <td>TRADED</td>\n",
       "    </tr>\n",
       "    <tr>\n",
       "      <th>2023-10-25 13:31:00</th>\n",
       "      <td>13:31:00</td>\n",
       "      <td>0.0</td>\n",
       "      <td>1</td>\n",
       "      <td>LONG</td>\n",
       "      <td>CLOSE</td>\n",
       "      <td>OPERATE</td>\n",
       "      <td>8594570698-0</td>\n",
       "      <td>CANCEL</td>\n",
       "    </tr>\n",
       "    <tr>\n",
       "      <th>2023-10-25 13:31:00</th>\n",
       "      <td>13:31:00</td>\n",
       "      <td>1618.0</td>\n",
       "      <td>1</td>\n",
       "      <td>LONG</td>\n",
       "      <td>CLOSE</td>\n",
       "      <td>STOP_LOSS</td>\n",
       "      <td>8594570698-0</td>\n",
       "      <td>TRADED</td>\n",
       "    </tr>\n",
       "    <tr>\n",
       "      <th>2023-10-25 13:31:00</th>\n",
       "      <td>13:31:00</td>\n",
       "      <td>1635.0</td>\n",
       "      <td>1</td>\n",
       "      <td>LONG</td>\n",
       "      <td>CLOSE</td>\n",
       "      <td>TAKE_PROFIT</td>\n",
       "      <td>8594570698-0</td>\n",
       "      <td>CANCEL</td>\n",
       "    </tr>\n",
       "    <tr>\n",
       "      <th>2023-10-25 13:32:00</th>\n",
       "      <td>13:32:00</td>\n",
       "      <td>1628.0</td>\n",
       "      <td>1</td>\n",
       "      <td>LONG</td>\n",
       "      <td>OPEN</td>\n",
       "      <td>NORMAL</td>\n",
       "      <td>SIGBUY</td>\n",
       "      <td>TRADED</td>\n",
       "    </tr>\n",
       "  </tbody>\n",
       "</table>\n",
       "</div>"
      ],
      "text/plain": [
       "                    insert_time   price  volume direction offset   order_type  \\\n",
       "ts                                                                              \n",
       "2023-10-25 13:31:00    13:31:00  1628.0       1      LONG   OPEN       NORMAL   \n",
       "2023-10-25 13:31:00    13:31:00     0.0       1      LONG  CLOSE      OPERATE   \n",
       "2023-10-25 13:31:00    13:31:00  1618.0       1      LONG  CLOSE    STOP_LOSS   \n",
       "2023-10-25 13:31:00    13:31:00  1635.0       1      LONG  CLOSE  TAKE_PROFIT   \n",
       "2023-10-25 13:32:00    13:32:00  1628.0       1      LONG   OPEN       NORMAL   \n",
       "\n",
       "                     order_source order_status  \n",
       "ts                                              \n",
       "2023-10-25 13:31:00        SIGBUY       TRADED  \n",
       "2023-10-25 13:31:00  8594570698-0       CANCEL  \n",
       "2023-10-25 13:31:00  8594570698-0       TRADED  \n",
       "2023-10-25 13:31:00  8594570698-0       CANCEL  \n",
       "2023-10-25 13:32:00        SIGBUY       TRADED  "
      ]
     },
     "execution_count": 5,
     "metadata": {},
     "output_type": "execute_result"
    }
   ],
   "source": [
    "# http://localhost:8080/livetrade/order?trading_day=20231013&settlement_id=2&live=0&list_page=1\n",
    "df_order = read_order_from_sql(24)\n",
    "df_order[ORDER_COLUMNS].head()"
   ]
  },
  {
   "cell_type": "code",
   "execution_count": 30,
   "id": "e5a63613-9b15-4cb6-9133-19d55d605a08",
   "metadata": {},
   "outputs": [
    {
     "data": {
      "text/plain": [
       "Timestamp('2023-10-25 22:27:00')"
      ]
     },
     "execution_count": 30,
     "metadata": {},
     "output_type": "execute_result"
    }
   ],
   "source": [
    "df_order.iloc[-1].name"
   ]
  },
  {
   "cell_type": "code",
   "execution_count": 21,
   "id": "2e19454d-6114-480a-b2a5-680fbed9ce29",
   "metadata": {},
   "outputs": [
    {
     "name": "stdout",
     "output_type": "stream",
     "text": [
      "633\n",
      "634\n",
      "635\n",
      "636\n",
      "637\n",
      "638\n",
      "639\n",
      "640\n",
      "641\n",
      "642\n",
      "643\n",
      "644\n",
      "645\n",
      "646\n",
      "647\n",
      "648\n"
     ]
    }
   ],
   "source": [
    "\n",
    "for order_row in df_order.itertuples(name='order'):\n",
    "    # print(isinstance(order_row, tuple))\n",
    "    # print(type(order_row))\n",
    "    print(order_row.id)"
   ]
  },
  {
   "cell_type": "code",
   "execution_count": null,
   "id": "4a64134c-93ec-4ab3-8891-8b547ea5f32e",
   "metadata": {},
   "outputs": [],
   "source": []
  }
 ],
 "metadata": {
  "kernelspec": {
   "display_name": "Python 3 (ipykernel)",
   "language": "python",
   "name": "python3"
  },
  "language_info": {
   "codemirror_mode": {
    "name": "ipython",
    "version": 3
   },
   "file_extension": ".py",
   "mimetype": "text/x-python",
   "name": "python",
   "nbconvert_exporter": "python",
   "pygments_lexer": "ipython3",
   "version": "3.11.6"
  }
 },
 "nbformat": 4,
 "nbformat_minor": 5
}
