{
 "cells": [
  {
   "cell_type": "code",
   "execution_count": 1,
   "id": "0c4aa523",
   "metadata": {},
   "outputs": [
    {
     "name": "stdout",
     "output_type": "stream",
     "text": [
      "numpy 1.25.2\n",
      "pandas 2.0.3\n",
      "sqlalchemy 2.0.19\n",
      "matplotlib 3.7.1\n",
      "mplfinance 0.12.10b0\n"
     ]
    }
   ],
   "source": [
    "import numpy as np\n",
    "import pandas as pd\n",
    "\n",
    "import sqlalchemy\n",
    "\n",
    "import matplotlib as mpl\n",
    "import matplotlib.pyplot as plt\n",
    "import mplfinance as mpf\n",
    "import warnings\n",
    "\n",
    "warnings.filterwarnings(\"ignore\")\n",
    "\n",
    "for m in [np, pd, sqlalchemy, mpl, mpf]:\n",
    "    print(m.__name__, m.__version__)"
   ]
  },
  {
   "cell_type": "code",
   "execution_count": null,
   "id": "c3619f7e",
   "metadata": {},
   "outputs": [],
   "source": []
  }
 ],
 "metadata": {
  "kernelspec": {
   "display_name": "Python 3 (ipykernel)",
   "language": "python",
   "name": "python3"
  },
  "language_info": {
   "codemirror_mode": {
    "name": "ipython",
    "version": 3
   },
   "file_extension": ".py",
   "mimetype": "text/x-python",
   "name": "python",
   "nbconvert_exporter": "python",
   "pygments_lexer": "ipython3",
   "version": "3.9.10"
  }
 },
 "nbformat": 4,
 "nbformat_minor": 5
}
