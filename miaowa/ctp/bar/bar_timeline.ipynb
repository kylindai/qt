{
 "cells": [
  {
   "cell_type": "code",
   "execution_count": 1,
   "id": "c5270523",
   "metadata": {},
   "outputs": [
    {
     "name": "stdout",
     "output_type": "stream",
     "text": [
      "numpy 1.25.2\n",
      "pandas 2.0.3\n",
      "talib 0.4.22\n"
     ]
    }
   ],
   "source": [
    "import numpy as np\n",
    "import pandas as pd\n",
    "import talib\n",
    "\n",
    "from datetime import datetime\n",
    "\n",
    "for m in [np, pd, talib]:\n",
    "    print(m.__name__, m.__version__)"
   ]
  },
  {
   "cell_type": "code",
   "execution_count": 2,
   "id": "830c7d77",
   "metadata": {},
   "outputs": [
    {
     "data": {
      "text/plain": [
       "[1, 2, 3]"
      ]
     },
     "execution_count": 2,
     "metadata": {},
     "output_type": "execute_result"
    }
   ],
   "source": [
    "b = []\n",
    "b.append(1)\n",
    "b.append(2)\n",
    "b.append(3)\n",
    "b"
   ]
  },
  {
   "cell_type": "code",
   "execution_count": 3,
   "id": "0ff27bdb",
   "metadata": {},
   "outputs": [
    {
     "data": {
      "text/plain": [
       "1"
      ]
     },
     "execution_count": 3,
     "metadata": {},
     "output_type": "execute_result"
    }
   ],
   "source": [
    "b[0]"
   ]
  },
  {
   "cell_type": "code",
   "execution_count": 4,
   "id": "f860d530",
   "metadata": {},
   "outputs": [],
   "source": [
    "class Line:\n",
    "    def __init__(self, max_length: int = 0):\n",
    "        self._items = []\n",
    "        self._max_length = max_length\n",
    "\n",
    "    def max_length(self, length: int):\n",
    "        self._max_length = length\n",
    "\n",
    "    def push(self, item: object):\n",
    "        self._items.append(item)\n",
    "        if self._max_length > 0 and len(self._items) > self._max_length:\n",
    "            self._items.pop(0)\n",
    "\n",
    "    def pop(self):\n",
    "        self._items.pop(0)\n",
    "\n",
    "    def items(self):\n",
    "        return self._items\n",
    "\n",
    "    @property\n",
    "    def cur(self):\n",
    "        return self._items[-1]\n",
    "    \n",
    "    @property\n",
    "    def pre(self):\n",
    "        return self._items[-2]\n",
    "    \n",
    "    def __getitem__(self, index: int):\n",
    "        print(type(index))\n",
    "        if index > 0:\n",
    "            raise IndexError(\"line index must less than 1\")\n",
    "        try:\n",
    "            return self._items[index - 1]\n",
    "        except Exception as e:\n",
    "            raise IndexError(\"line index out of range\")\n",
    "\n",
    "    def __len__(self):\n",
    "        return len(self._items)\n"
   ]
  },
  {
   "cell_type": "code",
   "execution_count": 5,
   "id": "0b568045",
   "metadata": {},
   "outputs": [
    {
     "name": "stdout",
     "output_type": "stream",
     "text": [
      "<class 'int'>\n",
      "11\n",
      "<class 'int'>\n",
      "9\n"
     ]
    }
   ],
   "source": [
    "p = 3\n",
    "l = Line(p + 1)\n",
    "l.push(10)\n",
    "l.push(11)\n",
    "l.push(9)\n",
    "\n",
    "print(l[-1])\n",
    "print(l[0])"
   ]
  },
  {
   "cell_type": "code",
   "execution_count": 6,
   "id": "3fc74345",
   "metadata": {},
   "outputs": [
    {
     "name": "stdout",
     "output_type": "stream",
     "text": [
      "<class 'int'>\n",
      "9\n"
     ]
    }
   ],
   "source": [
    "l.pop()\n",
    "print(l[0])"
   ]
  },
  {
   "cell_type": "code",
   "execution_count": 7,
   "id": "ef2e2118",
   "metadata": {},
   "outputs": [
    {
     "name": "stdout",
     "output_type": "stream",
     "text": [
      "2\n",
      "4\n",
      "[9, 12, 13, 14]\n"
     ]
    }
   ],
   "source": [
    "print(len(l))\n",
    "l.push(12)\n",
    "l.push(13)\n",
    "l.push(14)\n",
    "print(len(l))\n",
    "print(l.items())"
   ]
  },
  {
   "cell_type": "code",
   "execution_count": 8,
   "id": "cab9531b",
   "metadata": {},
   "outputs": [
    {
     "data": {
      "text/plain": [
       "(14, 13)"
      ]
     },
     "execution_count": 8,
     "metadata": {},
     "output_type": "execute_result"
    }
   ],
   "source": [
    "l.cur, l.pre"
   ]
  },
  {
   "cell_type": "code",
   "execution_count": 9,
   "id": "7ccaf693",
   "metadata": {},
   "outputs": [
    {
     "data": {
      "text/plain": [
       "14.14"
      ]
     },
     "execution_count": 9,
     "metadata": {},
     "output_type": "execute_result"
    }
   ],
   "source": [
    "ll = Line()\n",
    "ll.push(12.12)\n",
    "ll.push(13.13)\n",
    "ll.push(14.14)\n",
    "ll.cur"
   ]
  },
  {
   "cell_type": "code",
   "execution_count": 10,
   "id": "509f9631",
   "metadata": {},
   "outputs": [
    {
     "name": "stdout",
     "output_type": "stream",
     "text": [
      "<class 'int'>\n",
      "<class 'int'>\n"
     ]
    },
    {
     "data": {
      "text/plain": [
       "(14.14, 13.13)"
      ]
     },
     "execution_count": 10,
     "metadata": {},
     "output_type": "execute_result"
    }
   ],
   "source": [
    "ll[0], ll[-1]"
   ]
  },
  {
   "cell_type": "code",
   "execution_count": 11,
   "id": "c48aa3fc",
   "metadata": {},
   "outputs": [],
   "source": [
    "s = pd.Series(name='test')"
   ]
  },
  {
   "cell_type": "code",
   "execution_count": 12,
   "id": "c4b24e08",
   "metadata": {},
   "outputs": [
    {
     "data": {
      "text/plain": [
       "Series([], Name: test, dtype: object)"
      ]
     },
     "execution_count": 12,
     "metadata": {},
     "output_type": "execute_result"
    }
   ],
   "source": [
    "s"
   ]
  },
  {
   "cell_type": "code",
   "execution_count": 13,
   "id": "557ba555",
   "metadata": {},
   "outputs": [],
   "source": [
    "s['1'] = 10\n",
    "s['2'] = 20\n",
    "s['3'] = 30\n",
    "s['4'] = 40\n",
    "s['5'] = 50"
   ]
  },
  {
   "cell_type": "code",
   "execution_count": 14,
   "id": "6bf1b845",
   "metadata": {},
   "outputs": [
    {
     "data": {
      "text/plain": [
       "1    10\n",
       "2    20\n",
       "3    30\n",
       "4    40\n",
       "5    50\n",
       "Name: test, dtype: int64"
      ]
     },
     "execution_count": 14,
     "metadata": {},
     "output_type": "execute_result"
    }
   ],
   "source": [
    "s"
   ]
  },
  {
   "cell_type": "code",
   "execution_count": 15,
   "id": "20fc8703",
   "metadata": {},
   "outputs": [
    {
     "data": {
      "text/plain": [
       "1    10\n",
       "2    20\n",
       "Name: test, dtype: int64"
      ]
     },
     "execution_count": 15,
     "metadata": {},
     "output_type": "execute_result"
    }
   ],
   "source": [
    "s.iloc[0:2]"
   ]
  },
  {
   "cell_type": "code",
   "execution_count": 16,
   "id": "60c91fad",
   "metadata": {},
   "outputs": [
    {
     "data": {
      "text/plain": [
       "4    40\n",
       "5    50\n",
       "Name: test, dtype: int64"
      ]
     },
     "execution_count": 16,
     "metadata": {},
     "output_type": "execute_result"
    }
   ],
   "source": [
    "# [-1:0]\n",
    "s.iloc[-2:None]"
   ]
  },
  {
   "cell_type": "code",
   "execution_count": 17,
   "id": "62a8cfd6",
   "metadata": {},
   "outputs": [
    {
     "data": {
      "text/plain": [
       "2    20\n",
       "3    30\n",
       "4    40\n",
       "Name: test, dtype: int64"
      ]
     },
     "execution_count": 17,
     "metadata": {},
     "output_type": "execute_result"
    }
   ],
   "source": [
    "# [-3:-1]\n",
    "s.iloc[-4:-1]"
   ]
  },
  {
   "cell_type": "code",
   "execution_count": 18,
   "id": "1e3318de",
   "metadata": {},
   "outputs": [],
   "source": [
    "d = pd.DataFrame()"
   ]
  },
  {
   "cell_type": "code",
   "execution_count": 19,
   "id": "5de89383",
   "metadata": {},
   "outputs": [
    {
     "data": {
      "text/html": [
       "<div>\n",
       "<style scoped>\n",
       "    .dataframe tbody tr th:only-of-type {\n",
       "        vertical-align: middle;\n",
       "    }\n",
       "\n",
       "    .dataframe tbody tr th {\n",
       "        vertical-align: top;\n",
       "    }\n",
       "\n",
       "    .dataframe thead th {\n",
       "        text-align: right;\n",
       "    }\n",
       "</style>\n",
       "<table border=\"1\" class=\"dataframe\">\n",
       "  <thead>\n",
       "    <tr style=\"text-align: right;\">\n",
       "      <th></th>\n",
       "    </tr>\n",
       "  </thead>\n",
       "  <tbody>\n",
       "  </tbody>\n",
       "</table>\n",
       "</div>"
      ],
      "text/plain": [
       "Empty DataFrame\n",
       "Columns: []\n",
       "Index: []"
      ]
     },
     "execution_count": 19,
     "metadata": {},
     "output_type": "execute_result"
    }
   ],
   "source": [
    "d"
   ]
  },
  {
   "cell_type": "code",
   "execution_count": 214,
   "id": "a82ee7f1",
   "metadata": {},
   "outputs": [],
   "source": [
    "import talib\n",
    "from typing import Union, List, Dict, Tuple\n",
    "\n",
    "from common.bar_utils import get_datetime\n",
    "\n",
    "class TimeSeries:\n",
    "    def __init__(self, series: pd.Series = None, max_length: int = 0):\n",
    "        self._series = series\n",
    "        if series is None:\n",
    "            self._series = pd.Series()\n",
    "        self._max_length = max_length\n",
    "\n",
    "    def max_length(self, length: int):\n",
    "        self._max_length = length\n",
    "\n",
    "    def push(self, index: Union[datetime, str], item: object, sort: bool = False):\n",
    "        # insert\n",
    "        if isinstance(index, datetime):\n",
    "            self._series[index] = item\n",
    "        elif isinstance(index, str):\n",
    "            self._series[self._datetime(index)] = item\n",
    "        else:\n",
    "            raise IndexError('TimeSeries index error')\n",
    "        # sort by index\n",
    "        if sort:\n",
    "            self._series.sort_index(inplace=True)\n",
    "        # drop the first item\n",
    "        if self._max_length > 0 and len(self._series) > self._max_length:\n",
    "            self.pop()\n",
    "\n",
    "    def pop(self):\n",
    "        self._series.drop(self._series.index[0], inplace=True)\n",
    "\n",
    "    def index(self) -> List[pd.DatetimeIndex]:\n",
    "        return self._series.index\n",
    "\n",
    "    def items(self) -> List:\n",
    "        return self._series.to_list()\n",
    "\n",
    "    def _datetime(self, datetime_str: str, fmt: str = \"%Y%m%d %H:%M:%S\") -> datetime:\n",
    "        return datetime.strptime(datetime_str, fmt)\n",
    "\n",
    "    def __getitem__(self, i: Union[int, slice]):\n",
    "        # index\n",
    "        if isinstance(i, int):\n",
    "            # param validate\n",
    "            if i > 0:\n",
    "                raise IndexError(\"TimeSeries index must less than 1\")\n",
    "            # get value by index\n",
    "            try:\n",
    "                return self._series[i - 1]\n",
    "            except Exception as e:\n",
    "                raise IndexError(\"TimeSeries index out of range\")\n",
    "        # slice\n",
    "        elif isinstance(i, slice):\n",
    "            # param validate\n",
    "            if (i.start is not None and i.start > 0) or (i.stop is not None and i.stop > 0):\n",
    "                raise IndexError(\"TimeSeries slice index must less than 1\")\n",
    "            # start\n",
    "            start = None\n",
    "            if i.start is not None and i.start <= 0:\n",
    "                start = i.start - 1\n",
    "            # stop\n",
    "            stop = None\n",
    "            if i.stop is not None and i.stop < 0:\n",
    "                stop = i.stop\n",
    "            # get series by slice\n",
    "            try:\n",
    "                return TimeSeries(self._series[start:stop])\n",
    "            except Exception as e:\n",
    "                raise IndexError(\"TimeSeries index out of range\")\n",
    "        else:\n",
    "            raise IndexError('TimeSeries index error')\n",
    "\n",
    "    def __len__(self) -> int:\n",
    "        return len(self._series)\n",
    "\n",
    "\n",
    "class TimeLine(TimeSeries):\n",
    "\n",
    "    def __init__(self, series: pd.Series = None, max_length: int = 0):\n",
    "        super().__init__(series, max_length)\n",
    "\n",
    "    def SMA(self, period):\n",
    "        return TimeSeries(talib.SMA(self._series, timeperiod=period))\n",
    "\n",
    "    def EMA(self, period):\n",
    "        return TimeSeries(talib.EMA(self._series, timeperiod=period))\n",
    "\n",
    "    def RSI(self, period):\n",
    "        return TimeSeries(talib.RSI(self._series, timeperiod=period))\n",
    "\n"
   ]
  },
  {
   "cell_type": "code",
   "execution_count": 215,
   "id": "2216a9f9",
   "metadata": {},
   "outputs": [],
   "source": [
    "t = TimeSeries(max_length=10)"
   ]
  },
  {
   "cell_type": "code",
   "execution_count": 216,
   "id": "011fb1c3",
   "metadata": {},
   "outputs": [],
   "source": [
    "t.push('20230202 12:20:12', 12)\n",
    "t.push('20230202 12:20:13', 13)\n",
    "t.push('20230202 12:20:14', 14)"
   ]
  },
  {
   "cell_type": "code",
   "execution_count": 217,
   "id": "8fd4f357",
   "metadata": {},
   "outputs": [
    {
     "data": {
      "text/plain": [
       "[12, 13, 14]"
      ]
     },
     "execution_count": 217,
     "metadata": {},
     "output_type": "execute_result"
    }
   ],
   "source": [
    "t.items()"
   ]
  },
  {
   "cell_type": "code",
   "execution_count": 218,
   "id": "341c508f",
   "metadata": {},
   "outputs": [],
   "source": [
    "t.pop()"
   ]
  },
  {
   "cell_type": "code",
   "execution_count": 219,
   "id": "953d33fe",
   "metadata": {},
   "outputs": [
    {
     "data": {
      "text/plain": [
       "[13, 14]"
      ]
     },
     "execution_count": 219,
     "metadata": {},
     "output_type": "execute_result"
    }
   ],
   "source": [
    "t.items()"
   ]
  },
  {
   "cell_type": "code",
   "execution_count": 220,
   "id": "2df35585",
   "metadata": {},
   "outputs": [
    {
     "data": {
      "text/plain": [
       "(14, 13)"
      ]
     },
     "execution_count": 220,
     "metadata": {},
     "output_type": "execute_result"
    }
   ],
   "source": [
    "t[0], t[-1]"
   ]
  },
  {
   "cell_type": "code",
   "execution_count": 221,
   "id": "d5c7a6e9",
   "metadata": {},
   "outputs": [
    {
     "data": {
      "text/plain": [
       "DatetimeIndex(['2023-02-02 12:20:13', '2023-02-02 12:20:14'], dtype='datetime64[ns]', freq=None)"
      ]
     },
     "execution_count": 221,
     "metadata": {},
     "output_type": "execute_result"
    }
   ],
   "source": [
    "t.index()"
   ]
  },
  {
   "cell_type": "code",
   "execution_count": 222,
   "id": "2bf79f8b",
   "metadata": {},
   "outputs": [],
   "source": [
    "#t.SMA(1)"
   ]
  },
  {
   "cell_type": "code",
   "execution_count": 223,
   "id": "afba8de4",
   "metadata": {},
   "outputs": [
    {
     "data": {
      "text/plain": [
       "<__main__.TimeLine at 0x121c75fa0>"
      ]
     },
     "execution_count": 223,
     "metadata": {},
     "output_type": "execute_result"
    }
   ],
   "source": [
    "b = TimeLine(max_length=10)\n",
    "b"
   ]
  },
  {
   "cell_type": "code",
   "execution_count": 224,
   "id": "323dec19",
   "metadata": {},
   "outputs": [
    {
     "data": {
      "text/plain": [
       "[10, 9]"
      ]
     },
     "execution_count": 224,
     "metadata": {},
     "output_type": "execute_result"
    }
   ],
   "source": [
    "b.push('20000101 10:10:10', 10)\n",
    "b.push('20000101 10:10:09', 9)\n",
    "b.items()"
   ]
  },
  {
   "cell_type": "code",
   "execution_count": 225,
   "id": "d1e69464",
   "metadata": {},
   "outputs": [
    {
     "data": {
      "text/plain": [
       "<__main__.TimeSeries at 0x121c75100>"
      ]
     },
     "execution_count": 225,
     "metadata": {},
     "output_type": "execute_result"
    }
   ],
   "source": [
    "b.SMA(2)"
   ]
  },
  {
   "cell_type": "code",
   "execution_count": 226,
   "id": "ce97b154",
   "metadata": {},
   "outputs": [
    {
     "data": {
      "text/plain": [
       "[nan, 9.5]"
      ]
     },
     "execution_count": 226,
     "metadata": {},
     "output_type": "execute_result"
    }
   ],
   "source": [
    "b.EMA(2).items()"
   ]
  },
  {
   "cell_type": "code",
   "execution_count": 227,
   "id": "347643b7",
   "metadata": {},
   "outputs": [],
   "source": [
    "b.push('20000101 10:10:11', 11)\n",
    "b.push('20000101 10:10:13', 13)\n",
    "b.push('20000101 10:10:12', 12)"
   ]
  },
  {
   "cell_type": "code",
   "execution_count": 228,
   "id": "62da9d48",
   "metadata": {},
   "outputs": [
    {
     "data": {
      "text/plain": [
       "[10, 9, 11, 13, 12]"
      ]
     },
     "execution_count": 228,
     "metadata": {},
     "output_type": "execute_result"
    }
   ],
   "source": [
    "b.items()"
   ]
  },
  {
   "cell_type": "code",
   "execution_count": 229,
   "id": "6cb4d34a",
   "metadata": {},
   "outputs": [
    {
     "data": {
      "text/plain": [
       "[nan, nan, 10.0, 11.0, 12.0]"
      ]
     },
     "execution_count": 229,
     "metadata": {},
     "output_type": "execute_result"
    }
   ],
   "source": [
    "b.SMA(3).items()"
   ]
  },
  {
   "cell_type": "code",
   "execution_count": 230,
   "id": "e4bd6496",
   "metadata": {},
   "outputs": [
    {
     "data": {
      "text/plain": [
       "12.0"
      ]
     },
     "execution_count": 230,
     "metadata": {},
     "output_type": "execute_result"
    }
   ],
   "source": [
    "b.SMA(3)[0]"
   ]
  },
  {
   "cell_type": "code",
   "execution_count": 231,
   "id": "fdeaea35",
   "metadata": {},
   "outputs": [
    {
     "data": {
      "text/plain": [
       "<__main__.TimeSeries at 0x121c757f0>"
      ]
     },
     "execution_count": 231,
     "metadata": {},
     "output_type": "execute_result"
    }
   ],
   "source": [
    "b.RSI(3)"
   ]
  },
  {
   "cell_type": "code",
   "execution_count": 232,
   "id": "7fa408d3",
   "metadata": {},
   "outputs": [
    {
     "data": {
      "text/plain": [
       "61.53846153846154"
      ]
     },
     "execution_count": 232,
     "metadata": {},
     "output_type": "execute_result"
    }
   ],
   "source": [
    "b.RSI(3)[0]"
   ]
  },
  {
   "cell_type": "code",
   "execution_count": 233,
   "id": "5253ca6f",
   "metadata": {},
   "outputs": [
    {
     "name": "stdout",
     "output_type": "stream",
     "text": [
      "<class '__main__.TimeSeries'>\n"
     ]
    },
    {
     "data": {
      "text/plain": [
       "[10, 9, 11, 13, 12]"
      ]
     },
     "execution_count": 233,
     "metadata": {},
     "output_type": "execute_result"
    }
   ],
   "source": [
    "print(type(b.RSI(3)))\n",
    "b.items()"
   ]
  },
  {
   "cell_type": "code",
   "execution_count": 234,
   "id": "b5dde1a2",
   "metadata": {},
   "outputs": [
    {
     "data": {
      "text/plain": [
       "<__main__.TimeSeries at 0x121c75c40>"
      ]
     },
     "execution_count": 234,
     "metadata": {},
     "output_type": "execute_result"
    }
   ],
   "source": [
    "b[-1:0]"
   ]
  },
  {
   "cell_type": "code",
   "execution_count": 236,
   "id": "7ffd6a05",
   "metadata": {},
   "outputs": [
    {
     "data": {
      "text/plain": [
       "[13, 12]"
      ]
     },
     "execution_count": 236,
     "metadata": {},
     "output_type": "execute_result"
    }
   ],
   "source": [
    "b[-1:].items()"
   ]
  },
  {
   "cell_type": "code",
   "execution_count": 237,
   "id": "b10ca3ef",
   "metadata": {},
   "outputs": [
    {
     "data": {
      "text/plain": [
       "<__main__.TimeSeries at 0x121c298e0>"
      ]
     },
     "execution_count": 237,
     "metadata": {},
     "output_type": "execute_result"
    }
   ],
   "source": [
    "b[-2:-1]"
   ]
  },
  {
   "cell_type": "code",
   "execution_count": 238,
   "id": "38f94146",
   "metadata": {},
   "outputs": [
    {
     "data": {
      "text/plain": [
       "__main__.TimeSeries"
      ]
     },
     "execution_count": 238,
     "metadata": {},
     "output_type": "execute_result"
    }
   ],
   "source": [
    "type(b[0:])"
   ]
  },
  {
   "cell_type": "code",
   "execution_count": 239,
   "id": "dc101ca9",
   "metadata": {},
   "outputs": [
    {
     "data": {
      "text/plain": [
       "numpy.int64"
      ]
     },
     "execution_count": 239,
     "metadata": {},
     "output_type": "execute_result"
    }
   ],
   "source": [
    "type(b[0])"
   ]
  },
  {
   "cell_type": "code",
   "execution_count": 240,
   "id": "670f257e",
   "metadata": {},
   "outputs": [
    {
     "data": {
      "text/plain": [
       "(<__main__.TimeLine at 0x121c75fa0>, 5)"
      ]
     },
     "execution_count": 240,
     "metadata": {},
     "output_type": "execute_result"
    }
   ],
   "source": [
    "b, len(b)"
   ]
  },
  {
   "cell_type": "code",
   "execution_count": 242,
   "id": "1d99fef0",
   "metadata": {},
   "outputs": [
    {
     "data": {
      "text/plain": [
       "[nan, nan, nan, nan, 66.66666666666666]"
      ]
     },
     "execution_count": 242,
     "metadata": {},
     "output_type": "execute_result"
    }
   ],
   "source": [
    "b.RSI(4).items()"
   ]
  },
  {
   "cell_type": "code",
   "execution_count": 243,
   "id": "34b249fa",
   "metadata": {},
   "outputs": [
    {
     "data": {
      "text/plain": [
       "DatetimeIndex(['2000-01-01 10:10:10', '2000-01-01 10:10:09',\n",
       "               '2000-01-01 10:10:11', '2000-01-01 10:10:13',\n",
       "               '2000-01-01 10:10:12'],\n",
       "              dtype='datetime64[ns]', freq=None)"
      ]
     },
     "execution_count": 243,
     "metadata": {},
     "output_type": "execute_result"
    }
   ],
   "source": [
    "b.RSI(4).index()"
   ]
  },
  {
   "cell_type": "code",
   "execution_count": 244,
   "id": "4b6f5697",
   "metadata": {},
   "outputs": [
    {
     "data": {
      "text/plain": [
       "DatetimeIndex(['2000-01-01 10:10:10', '2000-01-01 10:10:09',\n",
       "               '2000-01-01 10:10:11', '2000-01-01 10:10:13',\n",
       "               '2000-01-01 10:10:12'],\n",
       "              dtype='datetime64[ns]', freq=None)"
      ]
     },
     "execution_count": 244,
     "metadata": {},
     "output_type": "execute_result"
    }
   ],
   "source": [
    "b.index()"
   ]
  },
  {
   "cell_type": "code",
   "execution_count": 253,
   "id": "9afcd8d0",
   "metadata": {},
   "outputs": [],
   "source": [
    "s1 = pd.Series(name='ttt')"
   ]
  },
  {
   "cell_type": "code",
   "execution_count": 254,
   "id": "5a44776d",
   "metadata": {},
   "outputs": [],
   "source": [
    "s1['1'] = 1"
   ]
  },
  {
   "cell_type": "code",
   "execution_count": 255,
   "id": "ca561c69",
   "metadata": {},
   "outputs": [
    {
     "data": {
      "text/plain": [
       "Index(['1'], dtype='object')"
      ]
     },
     "execution_count": 255,
     "metadata": {},
     "output_type": "execute_result"
    }
   ],
   "source": [
    "s1.index"
   ]
  },
  {
   "cell_type": "code",
   "execution_count": 256,
   "id": "a3e39961",
   "metadata": {},
   "outputs": [
    {
     "data": {
      "text/plain": [
       "array([1])"
      ]
     },
     "execution_count": 256,
     "metadata": {},
     "output_type": "execute_result"
    }
   ],
   "source": [
    "s1.values"
   ]
  },
  {
   "cell_type": "code",
   "execution_count": 257,
   "id": "ea650298",
   "metadata": {},
   "outputs": [
    {
     "data": {
      "text/plain": [
       "numpy.ndarray"
      ]
     },
     "execution_count": 257,
     "metadata": {},
     "output_type": "execute_result"
    }
   ],
   "source": [
    "type(s1.values)"
   ]
  },
  {
   "cell_type": "code",
   "execution_count": 258,
   "id": "5c725509",
   "metadata": {},
   "outputs": [
    {
     "data": {
      "text/plain": [
       "1    1\n",
       "Name: ttt, dtype: int64"
      ]
     },
     "execution_count": 258,
     "metadata": {},
     "output_type": "execute_result"
    }
   ],
   "source": [
    "s1"
   ]
  },
  {
   "cell_type": "code",
   "execution_count": null,
   "id": "8a3697c4",
   "metadata": {},
   "outputs": [],
   "source": []
  }
 ],
 "metadata": {
  "kernelspec": {
   "display_name": "Python 3 (ipykernel)",
   "language": "python",
   "name": "python3"
  },
  "language_info": {
   "codemirror_mode": {
    "name": "ipython",
    "version": 3
   },
   "file_extension": ".py",
   "mimetype": "text/x-python",
   "name": "python",
   "nbconvert_exporter": "python",
   "pygments_lexer": "ipython3",
   "version": "3.9.10"
  }
 },
 "nbformat": 4,
 "nbformat_minor": 5
}
