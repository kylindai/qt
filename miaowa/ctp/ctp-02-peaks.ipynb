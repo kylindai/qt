{
 "cells": [
  {
   "cell_type": "code",
   "execution_count": 1,
   "id": "53232e2b-b371-4335-9d41-988fe348eede",
   "metadata": {},
   "outputs": [
    {
     "name": "stdout",
     "output_type": "stream",
     "text": [
      "numpy 1.26.4\n",
      "pandas 2.2.3\n",
      "pandas_ta 0.3.14b0\n",
      "matplotlib 3.10.1\n"
     ]
    }
   ],
   "source": [
    "import os\n",
    "import sys\n",
    "import json\n",
    "import time\n",
    "import requests\n",
    "import talib\n",
    "\n",
    "import numpy as np\n",
    "import pandas as pd\n",
    "import pandas_ta as ta\n",
    "\n",
    "import matplotlib \n",
    "import matplotlib.pyplot as plt\n",
    "\n",
    "from scipy.signal import find_peaks\n",
    "\n",
    "for m in [np, pd, ta, matplotlib]:\n",
    "    print(m.__name__, m.__version__)"
   ]
  },
  {
   "cell_type": "code",
   "execution_count": 2,
   "id": "db49acc9-46e0-4af5-875b-d6ddedec7bff",
   "metadata": {},
   "outputs": [],
   "source": [
    "from funcs.factor_utils import FactorUtil"
   ]
  },
  {
   "cell_type": "code",
   "execution_count": 3,
   "id": "7e5e3d7b-b79f-40c0-b162-da99907dbefd",
   "metadata": {},
   "outputs": [
    {
     "name": "stdout",
     "output_type": "stream",
     "text": [
      "(500, 9)\n"
     ]
    }
   ],
   "source": [
    "df = FactorUtil.get_bar_df('FG2409_MIN_1', '20240801', '00:00:00', 500)\n",
    "print(df.shape)"
   ]
  },
  {
   "cell_type": "code",
   "execution_count": 4,
   "id": "9bb9ca51-c981-4a13-a205-a39388a5b74b",
   "metadata": {},
   "outputs": [
    {
     "data": {
      "text/html": [
       "<div>\n",
       "<style scoped>\n",
       "    .dataframe tbody tr th:only-of-type {\n",
       "        vertical-align: middle;\n",
       "    }\n",
       "\n",
       "    .dataframe tbody tr th {\n",
       "        vertical-align: top;\n",
       "    }\n",
       "\n",
       "    .dataframe thead th {\n",
       "        text-align: right;\n",
       "    }\n",
       "</style>\n",
       "<table border=\"1\" class=\"dataframe\">\n",
       "  <thead>\n",
       "    <tr style=\"text-align: right;\">\n",
       "      <th></th>\n",
       "      <th>O</th>\n",
       "      <th>H</th>\n",
       "      <th>L</th>\n",
       "      <th>C</th>\n",
       "      <th>V</th>\n",
       "      <th>AP</th>\n",
       "      <th>AV</th>\n",
       "      <th>BP</th>\n",
       "      <th>BV</th>\n",
       "    </tr>\n",
       "    <tr>\n",
       "      <th>ts</th>\n",
       "      <th></th>\n",
       "      <th></th>\n",
       "      <th></th>\n",
       "      <th></th>\n",
       "      <th></th>\n",
       "      <th></th>\n",
       "      <th></th>\n",
       "      <th></th>\n",
       "      <th></th>\n",
       "    </tr>\n",
       "  </thead>\n",
       "  <tbody>\n",
       "    <tr>\n",
       "      <th>2024-08-01 09:00:00</th>\n",
       "      <td>1384.0</td>\n",
       "      <td>1384.0</td>\n",
       "      <td>1383.0</td>\n",
       "      <td>1383.0</td>\n",
       "      <td>1380</td>\n",
       "      <td>1383.994</td>\n",
       "      <td>165</td>\n",
       "      <td>1382.000</td>\n",
       "      <td>112</td>\n",
       "    </tr>\n",
       "    <tr>\n",
       "      <th>2024-08-01 09:01:00</th>\n",
       "      <td>1383.0</td>\n",
       "      <td>1384.0</td>\n",
       "      <td>1380.0</td>\n",
       "      <td>1381.0</td>\n",
       "      <td>5492</td>\n",
       "      <td>1381.725</td>\n",
       "      <td>22069</td>\n",
       "      <td>1380.437</td>\n",
       "      <td>31489</td>\n",
       "    </tr>\n",
       "    <tr>\n",
       "      <th>2024-08-01 09:02:00</th>\n",
       "      <td>1381.0</td>\n",
       "      <td>1383.0</td>\n",
       "      <td>1380.0</td>\n",
       "      <td>1383.0</td>\n",
       "      <td>3584</td>\n",
       "      <td>1382.111</td>\n",
       "      <td>51358</td>\n",
       "      <td>1380.873</td>\n",
       "      <td>49594</td>\n",
       "    </tr>\n",
       "    <tr>\n",
       "      <th>2024-08-01 09:03:00</th>\n",
       "      <td>1384.0</td>\n",
       "      <td>1385.0</td>\n",
       "      <td>1382.0</td>\n",
       "      <td>1383.0</td>\n",
       "      <td>2770</td>\n",
       "      <td>1383.415</td>\n",
       "      <td>53411</td>\n",
       "      <td>1382.259</td>\n",
       "      <td>49463</td>\n",
       "    </tr>\n",
       "    <tr>\n",
       "      <th>2024-08-01 09:04:00</th>\n",
       "      <td>1383.0</td>\n",
       "      <td>1383.0</td>\n",
       "      <td>1381.0</td>\n",
       "      <td>1382.0</td>\n",
       "      <td>1779</td>\n",
       "      <td>1382.253</td>\n",
       "      <td>32249</td>\n",
       "      <td>1381.110</td>\n",
       "      <td>57441</td>\n",
       "    </tr>\n",
       "  </tbody>\n",
       "</table>\n",
       "</div>"
      ],
      "text/plain": [
       "                          O       H       L       C     V        AP     AV  \\\n",
       "ts                                                                           \n",
       "2024-08-01 09:00:00  1384.0  1384.0  1383.0  1383.0  1380  1383.994    165   \n",
       "2024-08-01 09:01:00  1383.0  1384.0  1380.0  1381.0  5492  1381.725  22069   \n",
       "2024-08-01 09:02:00  1381.0  1383.0  1380.0  1383.0  3584  1382.111  51358   \n",
       "2024-08-01 09:03:00  1384.0  1385.0  1382.0  1383.0  2770  1383.415  53411   \n",
       "2024-08-01 09:04:00  1383.0  1383.0  1381.0  1382.0  1779  1382.253  32249   \n",
       "\n",
       "                           BP     BV  \n",
       "ts                                    \n",
       "2024-08-01 09:00:00  1382.000    112  \n",
       "2024-08-01 09:01:00  1380.437  31489  \n",
       "2024-08-01 09:02:00  1380.873  49594  \n",
       "2024-08-01 09:03:00  1382.259  49463  \n",
       "2024-08-01 09:04:00  1381.110  57441  "
      ]
     },
     "execution_count": 4,
     "metadata": {},
     "output_type": "execute_result"
    }
   ],
   "source": [
    "df.head()"
   ]
  },
  {
   "cell_type": "code",
   "execution_count": null,
   "id": "99eabdf7-4a06-4eb5-a711-cc8d924db84e",
   "metadata": {},
   "outputs": [],
   "source": []
  }
 ],
 "metadata": {
  "kernelspec": {
   "display_name": "Python3.11 (ctp)",
   "language": "python",
   "name": "ctp-py311"
  },
  "language_info": {
   "codemirror_mode": {
    "name": "ipython",
    "version": 3
   },
   "file_extension": ".py",
   "mimetype": "text/x-python",
   "name": "python",
   "nbconvert_exporter": "python",
   "pygments_lexer": "ipython3",
   "version": "3.11.9"
  }
 },
 "nbformat": 4,
 "nbformat_minor": 5
}
