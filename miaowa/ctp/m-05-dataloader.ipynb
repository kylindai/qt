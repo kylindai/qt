{
 "cells": [
  {
   "cell_type": "code",
   "execution_count": 1,
   "id": "2bfa7d91",
   "metadata": {},
   "outputs": [],
   "source": [
    "import pandas as pd\n",
    "import numpy as np\n",
    "\n",
    "import matplotlib as mpl\n",
    "import matplotlib.pyplot as plt"
   ]
  },
  {
   "cell_type": "code",
   "execution_count": 2,
   "id": "76e36cd7",
   "metadata": {},
   "outputs": [],
   "source": [
    "from common.data_loader import DataLoader\n",
    "\n",
    "# load data\n",
    "symbol = 'MA2209.ZCE'\n",
    "trade_date = '20220719'\n",
    "\n",
    "loader = DataLoader(symbol, trade_date)"
   ]
  },
  {
   "cell_type": "code",
   "execution_count": 3,
   "id": "abb2ff71",
   "metadata": {},
   "outputs": [],
   "source": [
    "# 加载1分钟的数据\n",
    "\n",
    "start_time = '09:00:00'\n",
    "batch_size = 1800\n",
    "periods = 120 # 1分钟\n",
    "split_ratio = 0.3\n",
    "\n",
    "(x_train, y_train), (x_test, y_test) = loader.load_data(start_time, batch_size, periods, split_ratio=0.3)"
   ]
  },
  {
   "cell_type": "code",
   "execution_count": 4,
   "id": "1cb19ce0",
   "metadata": {},
   "outputs": [
    {
     "data": {
      "text/plain": [
       "((1259, 840), (1259,))"
      ]
     },
     "execution_count": 4,
     "metadata": {},
     "output_type": "execute_result"
    }
   ],
   "source": [
    "x_train.shape, y_train.shape"
   ]
  },
  {
   "cell_type": "code",
   "execution_count": 5,
   "id": "852789f7",
   "metadata": {},
   "outputs": [
    {
     "data": {
      "text/html": [
       "<div>\n",
       "<style scoped>\n",
       "    .dataframe tbody tr th:only-of-type {\n",
       "        vertical-align: middle;\n",
       "    }\n",
       "\n",
       "    .dataframe tbody tr th {\n",
       "        vertical-align: top;\n",
       "    }\n",
       "\n",
       "    .dataframe thead th {\n",
       "        text-align: right;\n",
       "    }\n",
       "</style>\n",
       "<table border=\"1\" class=\"dataframe\">\n",
       "  <thead>\n",
       "    <tr style=\"text-align: right;\">\n",
       "      <th></th>\n",
       "      <th>close_1</th>\n",
       "      <th>volume_1</th>\n",
       "      <th>average_1</th>\n",
       "      <th>ask1_price_1</th>\n",
       "      <th>ask1_volume_1</th>\n",
       "      <th>bid1_price_1</th>\n",
       "      <th>bid1_volume_1</th>\n",
       "      <th>close_2</th>\n",
       "      <th>volume_2</th>\n",
       "      <th>average_2</th>\n",
       "      <th>...</th>\n",
       "      <th>ask1_volume_119</th>\n",
       "      <th>bid1_price_119</th>\n",
       "      <th>bid1_volume_119</th>\n",
       "      <th>close_120</th>\n",
       "      <th>volume_120</th>\n",
       "      <th>average_120</th>\n",
       "      <th>ask1_price_120</th>\n",
       "      <th>ask1_volume_120</th>\n",
       "      <th>bid1_price_120</th>\n",
       "      <th>bid1_volume_120</th>\n",
       "    </tr>\n",
       "    <tr>\n",
       "      <th>id</th>\n",
       "      <th></th>\n",
       "      <th></th>\n",
       "      <th></th>\n",
       "      <th></th>\n",
       "      <th></th>\n",
       "      <th></th>\n",
       "      <th></th>\n",
       "      <th></th>\n",
       "      <th></th>\n",
       "      <th></th>\n",
       "      <th></th>\n",
       "      <th></th>\n",
       "      <th></th>\n",
       "      <th></th>\n",
       "      <th></th>\n",
       "      <th></th>\n",
       "      <th></th>\n",
       "      <th></th>\n",
       "      <th></th>\n",
       "      <th></th>\n",
       "      <th></th>\n",
       "    </tr>\n",
       "  </thead>\n",
       "  <tbody>\n",
       "    <tr>\n",
       "      <th>2</th>\n",
       "      <td>NaN</td>\n",
       "      <td>NaN</td>\n",
       "      <td>NaN</td>\n",
       "      <td>NaN</td>\n",
       "      <td>NaN</td>\n",
       "      <td>NaN</td>\n",
       "      <td>NaN</td>\n",
       "      <td>NaN</td>\n",
       "      <td>NaN</td>\n",
       "      <td>NaN</td>\n",
       "      <td>...</td>\n",
       "      <td>NaN</td>\n",
       "      <td>NaN</td>\n",
       "      <td>NaN</td>\n",
       "      <td>NaN</td>\n",
       "      <td>NaN</td>\n",
       "      <td>NaN</td>\n",
       "      <td>NaN</td>\n",
       "      <td>NaN</td>\n",
       "      <td>NaN</td>\n",
       "      <td>NaN</td>\n",
       "    </tr>\n",
       "    <tr>\n",
       "      <th>3</th>\n",
       "      <td>2345.0</td>\n",
       "      <td>272645.0</td>\n",
       "      <td>2330.0</td>\n",
       "      <td>2345.0</td>\n",
       "      <td>361.0</td>\n",
       "      <td>2344.0</td>\n",
       "      <td>275.0</td>\n",
       "      <td>NaN</td>\n",
       "      <td>NaN</td>\n",
       "      <td>NaN</td>\n",
       "      <td>...</td>\n",
       "      <td>NaN</td>\n",
       "      <td>NaN</td>\n",
       "      <td>NaN</td>\n",
       "      <td>NaN</td>\n",
       "      <td>NaN</td>\n",
       "      <td>NaN</td>\n",
       "      <td>NaN</td>\n",
       "      <td>NaN</td>\n",
       "      <td>NaN</td>\n",
       "      <td>NaN</td>\n",
       "    </tr>\n",
       "    <tr>\n",
       "      <th>4</th>\n",
       "      <td>2345.0</td>\n",
       "      <td>272678.0</td>\n",
       "      <td>2330.0</td>\n",
       "      <td>2345.0</td>\n",
       "      <td>348.0</td>\n",
       "      <td>2344.0</td>\n",
       "      <td>284.0</td>\n",
       "      <td>2345.0</td>\n",
       "      <td>272645.0</td>\n",
       "      <td>2330.0</td>\n",
       "      <td>...</td>\n",
       "      <td>NaN</td>\n",
       "      <td>NaN</td>\n",
       "      <td>NaN</td>\n",
       "      <td>NaN</td>\n",
       "      <td>NaN</td>\n",
       "      <td>NaN</td>\n",
       "      <td>NaN</td>\n",
       "      <td>NaN</td>\n",
       "      <td>NaN</td>\n",
       "      <td>NaN</td>\n",
       "    </tr>\n",
       "    <tr>\n",
       "      <th>5</th>\n",
       "      <td>2344.0</td>\n",
       "      <td>272709.0</td>\n",
       "      <td>2330.0</td>\n",
       "      <td>2345.0</td>\n",
       "      <td>451.0</td>\n",
       "      <td>2344.0</td>\n",
       "      <td>310.0</td>\n",
       "      <td>2345.0</td>\n",
       "      <td>272678.0</td>\n",
       "      <td>2330.0</td>\n",
       "      <td>...</td>\n",
       "      <td>NaN</td>\n",
       "      <td>NaN</td>\n",
       "      <td>NaN</td>\n",
       "      <td>NaN</td>\n",
       "      <td>NaN</td>\n",
       "      <td>NaN</td>\n",
       "      <td>NaN</td>\n",
       "      <td>NaN</td>\n",
       "      <td>NaN</td>\n",
       "      <td>NaN</td>\n",
       "    </tr>\n",
       "    <tr>\n",
       "      <th>6</th>\n",
       "      <td>2344.0</td>\n",
       "      <td>272746.0</td>\n",
       "      <td>2330.0</td>\n",
       "      <td>2345.0</td>\n",
       "      <td>419.0</td>\n",
       "      <td>2344.0</td>\n",
       "      <td>327.0</td>\n",
       "      <td>2344.0</td>\n",
       "      <td>272709.0</td>\n",
       "      <td>2330.0</td>\n",
       "      <td>...</td>\n",
       "      <td>NaN</td>\n",
       "      <td>NaN</td>\n",
       "      <td>NaN</td>\n",
       "      <td>NaN</td>\n",
       "      <td>NaN</td>\n",
       "      <td>NaN</td>\n",
       "      <td>NaN</td>\n",
       "      <td>NaN</td>\n",
       "      <td>NaN</td>\n",
       "      <td>NaN</td>\n",
       "    </tr>\n",
       "  </tbody>\n",
       "</table>\n",
       "<p>5 rows × 840 columns</p>\n",
       "</div>"
      ],
      "text/plain": [
       "    close_1  volume_1  average_1  ask1_price_1  ask1_volume_1  bid1_price_1  \\\n",
       "id                                                                            \n",
       "2       NaN       NaN        NaN           NaN            NaN           NaN   \n",
       "3    2345.0  272645.0     2330.0        2345.0          361.0        2344.0   \n",
       "4    2345.0  272678.0     2330.0        2345.0          348.0        2344.0   \n",
       "5    2344.0  272709.0     2330.0        2345.0          451.0        2344.0   \n",
       "6    2344.0  272746.0     2330.0        2345.0          419.0        2344.0   \n",
       "\n",
       "    bid1_volume_1  close_2  volume_2  average_2  ...  ask1_volume_119  \\\n",
       "id                                               ...                    \n",
       "2             NaN      NaN       NaN        NaN  ...              NaN   \n",
       "3           275.0      NaN       NaN        NaN  ...              NaN   \n",
       "4           284.0   2345.0  272645.0     2330.0  ...              NaN   \n",
       "5           310.0   2345.0  272678.0     2330.0  ...              NaN   \n",
       "6           327.0   2344.0  272709.0     2330.0  ...              NaN   \n",
       "\n",
       "    bid1_price_119  bid1_volume_119  close_120  volume_120  average_120  \\\n",
       "id                                                                        \n",
       "2              NaN              NaN        NaN         NaN          NaN   \n",
       "3              NaN              NaN        NaN         NaN          NaN   \n",
       "4              NaN              NaN        NaN         NaN          NaN   \n",
       "5              NaN              NaN        NaN         NaN          NaN   \n",
       "6              NaN              NaN        NaN         NaN          NaN   \n",
       "\n",
       "    ask1_price_120  ask1_volume_120  bid1_price_120  bid1_volume_120  \n",
       "id                                                                    \n",
       "2              NaN              NaN             NaN              NaN  \n",
       "3              NaN              NaN             NaN              NaN  \n",
       "4              NaN              NaN             NaN              NaN  \n",
       "5              NaN              NaN             NaN              NaN  \n",
       "6              NaN              NaN             NaN              NaN  \n",
       "\n",
       "[5 rows x 840 columns]"
      ]
     },
     "execution_count": 5,
     "metadata": {},
     "output_type": "execute_result"
    }
   ],
   "source": [
    "x_train.head()"
   ]
  },
  {
   "cell_type": "code",
   "execution_count": 6,
   "id": "cbe53272",
   "metadata": {},
   "outputs": [
    {
     "data": {
      "text/plain": [
       "11.0    140\n",
       "10.0    135\n",
       "9.0     122\n",
       "12.0    113\n",
       "15.0     93\n",
       "8.0      93\n",
       "14.0     87\n",
       "13.0     82\n",
       "7.0      40\n",
       "16.0     37\n",
       "5.0      30\n",
       "6.0      28\n",
       "20.0     24\n",
       "17.0     20\n",
       "4.0      17\n",
       "21.0     16\n",
       "19.0     15\n",
       "18.0     15\n",
       "3.0       6\n",
       "22.0      5\n",
       "23.0      5\n",
       "24.0      5\n",
       "2.0       5\n",
       "1.0       3\n",
       "25.0      2\n",
       "0.0       1\n",
       "dtype: int64"
      ]
     },
     "execution_count": 6,
     "metadata": {},
     "output_type": "execute_result"
    }
   ],
   "source": [
    "y_train.value_counts()"
   ]
  },
  {
   "cell_type": "code",
   "execution_count": 7,
   "id": "3c233fb3",
   "metadata": {},
   "outputs": [
    {
     "data": {
      "text/plain": [
       "<AxesSubplot:>"
      ]
     },
     "execution_count": 7,
     "metadata": {},
     "output_type": "execute_result"
    },
    {
     "data": {
      "image/png": "[encoded data removed]",
      "text/plain": [
       "<Figure size 432x288 with 1 Axes>"
      ]
     },
     "metadata": {
      "needs_background": "light"
     },
     "output_type": "display_data"
    }
   ],
   "source": [
    "y_train.hist()"
   ]
  },
  {
   "cell_type": "code",
   "execution_count": 8,
   "id": "1d2cda6b",
   "metadata": {},
   "outputs": [],
   "source": [
    "# 加载半分钟的数据\n",
    "\n",
    "start_time = '09:00:00'\n",
    "batch_size = 1800\n",
    "periods = 30 # 半分钟\n",
    "split_ratio = 0.3\n",
    "\n",
    "(x_train, y_train), (x_test, y_test) = loader.load_data(start_time, batch_size, periods, split_ratio=0.3)"
   ]
  },
  {
   "cell_type": "code",
   "execution_count": 9,
   "id": "e67c91bb",
   "metadata": {},
   "outputs": [
    {
     "data": {
      "text/plain": [
       "((1259, 210), (1259,))"
      ]
     },
     "execution_count": 9,
     "metadata": {},
     "output_type": "execute_result"
    }
   ],
   "source": [
    "x_train.shape, y_train.shape"
   ]
  },
  {
   "cell_type": "code",
   "execution_count": 10,
   "id": "4b12c46a",
   "metadata": {},
   "outputs": [
    {
     "data": {
      "text/plain": [
       "<AxesSubplot:>"
      ]
     },
     "execution_count": 10,
     "metadata": {},
     "output_type": "execute_result"
    },
    {
     "data": {
      "image/png": "[encoded data removed]",
      "text/plain": [
       "<Figure size 432x288 with 1 Axes>"
      ]
     },
     "metadata": {
      "needs_background": "light"
     },
     "output_type": "display_data"
    }
   ],
   "source": [
    "y_train.hist()"
   ]
  },
  {
   "cell_type": "code",
   "execution_count": 11,
   "id": "cc704998",
   "metadata": {},
   "outputs": [
    {
     "data": {
      "text/plain": [
       "8.0     350\n",
       "7.0     276\n",
       "9.0     211\n",
       "10.0    116\n",
       "6.0      92\n",
       "11.0     62\n",
       "5.0      38\n",
       "12.0     34\n",
       "13.0     13\n",
       "4.0       8\n",
       "16.0      6\n",
       "15.0      6\n",
       "18.0      6\n",
       "17.0      5\n",
       "14.0      4\n",
       "19.0      2\n",
       "dtype: int64"
      ]
     },
     "execution_count": 11,
     "metadata": {},
     "output_type": "execute_result"
    }
   ],
   "source": [
    "y_train.value_counts()"
   ]
  },
  {
   "cell_type": "code",
   "execution_count": 12,
   "id": "c70282aa",
   "metadata": {},
   "outputs": [],
   "source": [
    "# 加载2分钟的数据\n",
    "\n",
    "start_time = '09:00:00'\n",
    "batch_size = 3600\n",
    "periods = 240\n",
    "split_ratio = 0.3\n",
    "\n",
    "(x_train, y_train), (x_test, y_test) = loader.load_data(start_time, batch_size, periods, split_ratio=0.3)"
   ]
  },
  {
   "cell_type": "code",
   "execution_count": 13,
   "id": "0ef65681",
   "metadata": {},
   "outputs": [
    {
     "data": {
      "text/plain": [
       "((2519, 1680), (2519,))"
      ]
     },
     "execution_count": 13,
     "metadata": {},
     "output_type": "execute_result"
    }
   ],
   "source": [
    "x_train.shape, y_train.shape"
   ]
  },
  {
   "cell_type": "code",
   "execution_count": 14,
   "id": "5f3a8239",
   "metadata": {},
   "outputs": [
    {
     "data": {
      "text/plain": [
       "15.0    222\n",
       "12.0    218\n",
       "9.0     215\n",
       "10.0    206\n",
       "16.0    199\n",
       "11.0    181\n",
       "13.0    176\n",
       "8.0     173\n",
       "14.0    162\n",
       "17.0    121\n",
       "7.0     119\n",
       "6.0      57\n",
       "18.0     54\n",
       "20.0     32\n",
       "4.0      29\n",
       "5.0      25\n",
       "19.0     25\n",
       "3.0      20\n",
       "21.0     19\n",
       "2.0       9\n",
       "22.0      6\n",
       "23.0      5\n",
       "0.0       2\n",
       "1.0       2\n",
       "24.0      1\n",
       "25.0      1\n",
       "dtype: int64"
      ]
     },
     "execution_count": 14,
     "metadata": {},
     "output_type": "execute_result"
    }
   ],
   "source": [
    "y_train.value_counts()"
   ]
  },
  {
   "cell_type": "code",
   "execution_count": 15,
   "id": "e4c86c94",
   "metadata": {},
   "outputs": [
    {
     "data": {
      "text/plain": [
       "<AxesSubplot:>"
      ]
     },
     "execution_count": 15,
     "metadata": {},
     "output_type": "execute_result"
    },
    {
     "data": {
      "image/png": "[encoded data removed]",
      "text/plain": [
       "<Figure size 432x288 with 1 Axes>"
      ]
     },
     "metadata": {
      "needs_background": "light"
     },
     "output_type": "display_data"
    }
   ],
   "source": [
    "y_train.hist()"
   ]
  },
  {
   "cell_type": "code",
   "execution_count": 16,
   "id": "7e3be782",
   "metadata": {},
   "outputs": [],
   "source": [
    "# 加载1分钟的数据\n",
    "\n",
    "start_time = '09:00:00'\n",
    "batch_size = 1800\n",
    "periods = 120 # 1分钟\n",
    "split_ratio = 0.3\n",
    "\n",
    "def cat_func(x):\n",
    "    if x < -10: \n",
    "        return 0\n",
    "    if x < -5:\n",
    "        return 1\n",
    "    if x < 0:\n",
    "        return 2\n",
    "    if x < 5:\n",
    "        return 3\n",
    "    if x < 10:\n",
    "        return 4\n",
    "    else:\n",
    "        return 5\n",
    "    \n",
    "(x_train, y_train), (x_test, y_test) = loader.load_data(start_time, batch_size, periods, \n",
    "                                                        split_ratio=0.3, cat_func=cat_func)"
   ]
  },
  {
   "cell_type": "code",
   "execution_count": 17,
   "id": "8a4ab21d",
   "metadata": {},
   "outputs": [
    {
     "data": {
      "text/plain": [
       "(5,)"
      ]
     },
     "execution_count": 17,
     "metadata": {},
     "output_type": "execute_result"
    }
   ],
   "source": [
    "y_train.value_counts().shape"
   ]
  },
  {
   "cell_type": "code",
   "execution_count": 18,
   "id": "fb660508",
   "metadata": {},
   "outputs": [
    {
     "data": {
      "text/plain": [
       "0"
      ]
     },
     "execution_count": 18,
     "metadata": {},
     "output_type": "execute_result"
    }
   ],
   "source": [
    "y_train.min()"
   ]
  },
  {
   "cell_type": "code",
   "execution_count": 22,
   "id": "0431a46f",
   "metadata": {},
   "outputs": [
    {
     "data": {
      "text/plain": [
       "1    313\n",
       "3    180\n",
       "4    177\n",
       "0     32\n",
       "dtype: int64"
      ]
     },
     "execution_count": 22,
     "metadata": {},
     "output_type": "execute_result"
    }
   ],
   "source": [
    "y_train.value_counts()[1:]"
   ]
  },
  {
   "cell_type": "code",
   "execution_count": null,
   "id": "7e899967",
   "metadata": {},
   "outputs": [],
   "source": []
  }
 ],
 "metadata": {
  "kernelspec": {
   "display_name": "Python 3 (ipykernel)",
   "language": "python",
   "name": "python3"
  },
  "language_info": {
   "codemirror_mode": {
    "name": "ipython",
    "version": 3
   },
   "file_extension": ".py",
   "mimetype": "text/x-python",
   "name": "python",
   "nbconvert_exporter": "python",
   "pygments_lexer": "ipython3",
   "version": "3.9.10"
  }
 },
 "nbformat": 4,
 "nbformat_minor": 5
}
