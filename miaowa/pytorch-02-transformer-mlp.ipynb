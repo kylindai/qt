{
 "cells": [
  {
   "cell_type": "code",
   "execution_count": 1,
   "id": "17a48284-9367-4fed-9612-e4ae8c4ff1de",
   "metadata": {},
   "outputs": [
    {
     "name": "stdout",
     "output_type": "stream",
     "text": [
      "numpy 1.26.4\n",
      "pandas 2.2.3\n",
      "torch 2.2.2\n"
     ]
    }
   ],
   "source": [
    "import numpy as np\n",
    "import pandas as pd\n",
    "import torch\n",
    "\n",
    "for m in [np, pd, torch]:\n",
    "    print(m.__name__, m.__version__)"
   ]
  },
  {
   "cell_type": "code",
   "execution_count": 2,
   "id": "9e2bfaa9-e4ab-4149-8c0a-80f980cd9166",
   "metadata": {},
   "outputs": [],
   "source": [
    "from torch import nn, optim\n",
    "from torch.utils.data import DataLoader, Dataset, random_split\n",
    "from sklearn.preprocessing import LabelEncoder\n",
    "from sklearn.metrics import accuracy_score\n",
    "\n",
    "from funcs.factor_utils import FactorUtil"
   ]
  },
  {
   "cell_type": "code",
   "execution_count": 3,
   "id": "1d93ed62-d228-4f3e-8983-17f05141b5f2",
   "metadata": {},
   "outputs": [],
   "source": [
    "import warnings\n",
    "warnings.filterwarnings('ignore')"
   ]
  },
  {
   "cell_type": "code",
   "execution_count": 29,
   "id": "6a679203-c503-460e-a114-0d0e8213a3c7",
   "metadata": {},
   "outputs": [
    {
     "name": "stdout",
     "output_type": "stream",
     "text": [
      "20240812 22:51:00\n"
     ]
    },
    {
     "data": {
      "text/plain": [
       "Index(['O_9', 'H_9', 'L_9', 'C_9', 'V_9', 'AP_9', 'AV_9', 'BP_9', 'BV_9',\n",
       "       'O_8', 'H_8', 'L_8', 'C_8', 'V_8', 'AP_8', 'AV_8', 'BP_8', 'BV_8',\n",
       "       'O_7', 'H_7', 'L_7', 'C_7', 'V_7', 'AP_7', 'AV_7', 'BP_7', 'BV_7',\n",
       "       'O_6', 'H_6', 'L_6', 'C_6', 'V_6', 'AP_6', 'AV_6', 'BP_6', 'BV_6',\n",
       "       'O_5', 'H_5', 'L_5', 'C_5', 'V_5', 'AP_5', 'AV_5', 'BP_5', 'BV_5',\n",
       "       'O_4', 'H_4', 'L_4', 'C_4', 'V_4', 'AP_4', 'AV_4', 'BP_4', 'BV_4',\n",
       "       'O_3', 'H_3', 'L_3', 'C_3', 'V_3', 'AP_3', 'AV_3', 'BP_3', 'BV_3',\n",
       "       'O_2', 'H_2', 'L_2', 'C_2', 'V_2', 'AP_2', 'AV_2', 'BP_2', 'BV_2',\n",
       "       'O_1', 'H_1', 'L_1', 'C_1', 'V_1', 'AP_1', 'AV_1', 'BP_1', 'BV_1', 'O',\n",
       "       'H', 'L', 'C', 'V', 'AP', 'AV', 'BP', 'BV'],\n",
       "      dtype='object')"
      ]
     },
     "execution_count": 29,
     "metadata": {},
     "output_type": "execute_result"
    }
   ],
   "source": [
    "# -----------------------------\n",
    "# 1. 读取数据集\n",
    "# -----------------------------\n",
    "bar_df = FactorUtil.get_window_bar_df('FG2409_MIN_1', '20240813', window_period=10)\n",
    "bar_df.columns"
   ]
  },
  {
   "cell_type": "code",
   "execution_count": 32,
   "id": "79087503-1f66-4455-a2b1-8214018d25b2",
   "metadata": {},
   "outputs": [
    {
     "name": "stdout",
     "output_type": "stream",
     "text": [
      "-0.009060955518945634 0.0113544201135442\n",
      "IntervalIndex([(-0.009060955518945634, -0.004977880392447667],\n",
      "                 (-0.004977880392447667, -0.0008948052659497],\n",
      "                  (-0.0008948052659497, 0.003188269860548267],\n",
      "                 (0.003188269860548267, 0.007271344987046234],\n",
      "                   (0.007271344987046234, 0.0113544201135442]],\n",
      "              dtype='interval[float64, right]')\n"
     ]
    },
    {
     "data": {
      "text/plain": [
       "K\n",
       "-1       1\n",
       " 0      66\n",
       " 1     782\n",
       " 2    2094\n",
       " 3     191\n",
       " 4       7\n",
       "Name: count, dtype: int64"
      ]
     },
     "execution_count": 32,
     "metadata": {},
     "output_type": "execute_result"
    }
   ],
   "source": [
    "# -----------------------------\n",
    "# 2. 制作标签列\n",
    "# -----------------------------\n",
    "bar_df['R'] = (bar_df['C'] - bar_df['C_5']) / bar_df['C_5']\n",
    "min_val, max_val = bar_df['R'].min(), bar_df['R'].max()\n",
    "print(min_val, max_val)\n",
    "\n",
    "bin_count = 5\n",
    "bins = pd.interval_range(start=min_val, end=max_val, periods=bin_count)\n",
    "print(bins)\n",
    "\n",
    "bar_df['K'] = pd.cut(bar_df['R'], bins=bins, labels=range(bin_count), include_lowest=True).cat.codes\n",
    "bar_df['K'].value_counts().sort_index()"
   ]
  },
  {
   "cell_type": "code",
   "execution_count": 33,
   "id": "12212c04-f426-4e24-85db-03a9f96b4cd1",
   "metadata": {},
   "outputs": [],
   "source": [
    "# -----------------------------\n",
    "# 3. 自定义 Dataset 类\n",
    "# -----------------------------\n",
    "class DataFrameDataset(Dataset):\n",
    "    def __init__(self, dataframe: pd.DataFrame, feature_cols, label_col, device='cpu'):\n",
    "        self.device = device\n",
    "        self.features = torch.tensor(dataframe[feature_cols].values, dtype=torch.float32).to(device)\n",
    "        if label_col is not None:\n",
    "            self.labels = torch.tensor(dataframe[label_col].values, dtype=torch.long).to(device)\n",
    "        else:\n",
    "            self.labels = None\n",
    "\n",
    "    def __len__(self):\n",
    "        return len(self.features)\n",
    "\n",
    "    def __getitem__(self, idx):\n",
    "        if self.labels is not None:\n",
    "            return self.features[idx], self.labels[idx]\n",
    "        else:\n",
    "            return self.features[idx]"
   ]
  },
  {
   "cell_type": "code",
   "execution_count": 34,
   "id": "26b82206-894c-4127-a640-c9b7c88de75e",
   "metadata": {},
   "outputs": [
    {
     "name": "stdout",
     "output_type": "stream",
     "text": [
      "['O_9', 'H_9', 'L_9', 'C_9', 'V_9', 'AP_9', 'AV_9', 'BP_9', 'BV_9', 'O_8', 'H_8', 'L_8', 'C_8', 'V_8', 'AP_8', 'AV_8', 'BP_8', 'BV_8', 'O_7', 'H_7', 'L_7', 'C_7', 'V_7', 'AP_7', 'AV_7', 'BP_7', 'BV_7', 'O_6', 'H_6', 'L_6', 'C_6', 'V_6', 'AP_6', 'AV_6', 'BP_6', 'BV_6', 'O_5', 'H_5', 'L_5', 'C_5', 'V_5', 'AP_5', 'AV_5', 'BP_5', 'BV_5', 'O_4', 'H_4', 'L_4', 'C_4', 'V_4', 'AP_4', 'AV_4', 'BP_4', 'BV_4', 'O_3', 'H_3', 'L_3', 'C_3', 'V_3', 'AP_3', 'AV_3', 'BP_3', 'BV_3', 'O_2', 'H_2', 'L_2', 'C_2', 'V_2', 'AP_2', 'AV_2', 'BP_2', 'BV_2', 'O_1', 'H_1', 'L_1', 'C_1', 'V_1', 'AP_1', 'AV_1', 'BP_1', 'BV_1', 'O', 'H', 'L', 'C', 'V', 'AP', 'AV', 'BP', 'BV']\n"
     ]
    },
    {
     "data": {
      "text/plain": [
       "3140"
      ]
     },
     "execution_count": 34,
     "metadata": {},
     "output_type": "execute_result"
    }
   ],
   "source": [
    "FEA_COLS = bar_df.columns.to_list()[:-2]\n",
    "print(FEA_COLS)\n",
    "\n",
    "dataset = DataFrameDataset(\n",
    "    dataframe=bar_df[bar_df['K'] >= 0],\n",
    "    feature_cols=FEA_COLS,\n",
    "    label_col='K',\n",
    "    device='cuda' if torch.cuda.is_available() else 'cpu'\n",
    ")\n",
    "len(dataset)\n"
   ]
  },
  {
   "cell_type": "code",
   "execution_count": 35,
   "id": "88684261-e14a-432a-ae10-969a5b375262",
   "metadata": {},
   "outputs": [
    {
     "data": {
      "text/plain": [
       "device(type='cpu')"
      ]
     },
     "execution_count": 35,
     "metadata": {},
     "output_type": "execute_result"
    }
   ],
   "source": [
    "device = torch.device(\"cuda\" if torch.cuda.is_available() else \"cpu\")\n",
    "device"
   ]
  },
  {
   "cell_type": "code",
   "execution_count": 36,
   "id": "e19e98f1-742f-48bd-bf94-ff86f5ac050e",
   "metadata": {},
   "outputs": [
    {
     "data": {
      "text/plain": [
       "(tensor([  1272.0000,   1274.0000,   1271.0000,   1273.0000,   2017.0000,\n",
       "           1273.3580,  60302.0000,   1272.2410,  37211.0000,   1273.0000,\n",
       "           1274.0000,   1272.0000,   1274.0000,   2116.0000,   1273.9310,\n",
       "          56694.0000,   1272.8330,  57743.0000,   1273.0000,   1276.0000,\n",
       "           1273.0000,   1275.0000,   3327.0000,   1274.9189,  51697.0000,\n",
       "           1273.4810,  65016.0000,   1276.0000,   1276.0000,   1274.0000,\n",
       "           1275.0000,   2732.0000,   1275.9180,  42182.0000,   1274.1510,\n",
       "          56885.0000,   1274.0000,   1276.0000,   1274.0000,   1276.0000,\n",
       "           1764.0000,   1275.9100,  55445.0000,   1274.7820,  59781.0000,\n",
       "           1275.0000,   1276.0000,   1274.0000,   1275.0000,   1332.0000,\n",
       "           1275.9860,  89067.0000,   1274.9301,  57241.0000,   1275.0000,\n",
       "           1276.0000,   1275.0000,   1275.0000,    495.0000,   1276.0000,\n",
       "         123868.0000,   1275.0000, 130325.0000,   1275.0000,   1277.0000,\n",
       "           1275.0000,   1277.0000,   3095.0000,   1276.8750, 108772.0000,\n",
       "           1275.8710, 102387.0000,   1277.0000,   1278.0000,   1276.0000,\n",
       "           1277.0000,   4963.0000,   1277.3669,  52560.0000,   1276.1710,\n",
       "          63689.0000,   1278.0000,   1278.0000,   1276.0000,   1276.0000,\n",
       "            681.0000,   1278.0000,    218.0000,   1276.0000,    152.0000]),\n",
       " tensor(2))"
      ]
     },
     "execution_count": 36,
     "metadata": {},
     "output_type": "execute_result"
    }
   ],
   "source": [
    "dataset[0]"
   ]
  },
  {
   "cell_type": "code",
   "execution_count": 37,
   "id": "6e7fd3e8-2858-41e9-b790-1d140894573f",
   "metadata": {},
   "outputs": [
    {
     "data": {
      "text/plain": [
       "torch.Size([90])"
      ]
     },
     "execution_count": 37,
     "metadata": {},
     "output_type": "execute_result"
    }
   ],
   "source": [
    "dataset[0][0].shape"
   ]
  },
  {
   "cell_type": "code",
   "execution_count": 38,
   "id": "435ecffb-b54f-48cb-b827-aa84ce81d304",
   "metadata": {},
   "outputs": [
    {
     "name": "stdout",
     "output_type": "stream",
     "text": [
      "2512 628\n",
      "2512 628\n"
     ]
    }
   ],
   "source": [
    "# 划分训练集和测试集\n",
    "train_size = int(0.8 * len(dataset))\n",
    "test_size = len(dataset) - train_size\n",
    "print(train_size, test_size)\n",
    "\n",
    "train_dataset, test_dataset = random_split(dataset, [train_size, test_size])\n",
    "print(len(train_dataset), len(test_dataset))\n",
    "\n",
    "# 创建 DataLoader\n",
    "train_loader = DataLoader(train_dataset, batch_size=64, shuffle=True)\n",
    "test_loader = DataLoader(test_dataset, batch_size=64, shuffle=True)"
   ]
  },
  {
   "cell_type": "code",
   "execution_count": 39,
   "id": "d7f5f573-b0e3-4b45-87d7-a8ed9baec791",
   "metadata": {},
   "outputs": [],
   "source": [
    "# -----------------------------\n",
    "# 4. 定义 Transformer MLP 分类模型\n",
    "# -----------------------------\n",
    "class TransformerMLPClassifier(nn.Module):\n",
    "    def __init__(self, input_dim, num_classes, d_model=128, nhead=4, num_layers=2, dim_feedforward=256, dropout=0.3):\n",
    "        super().__init__()\n",
    "        # 投影输入到 Transformer 维度\n",
    "        self.input_proj = nn.Linear(input_dim, d_model)\n",
    "\n",
    "        # Positional Encoding（简单实现）\n",
    "        self.pos_enc = nn.Parameter(torch.zeros(1, 1, d_model))\n",
    "\n",
    "        # Transformer Encoder\n",
    "        encoder_layer = nn.TransformerEncoderLayer(\n",
    "            d_model=d_model,\n",
    "            nhead=nhead,\n",
    "            dim_feedforward=dim_feedforward,\n",
    "            dropout=dropout,\n",
    "            activation='relu'\n",
    "        )\n",
    "        self.transformer_encoder = nn.TransformerEncoder(encoder_layer, num_layers=num_layers)\n",
    "\n",
    "        # 分类头\n",
    "        self.classifier = nn.Sequential(\n",
    "            nn.Linear(d_model, d_model // 2),\n",
    "            nn.ReLU(),\n",
    "            nn.Dropout(dropout),\n",
    "            nn.Linear(d_model // 2, num_classes)\n",
    "        )\n",
    "\n",
    "    def forward(self, x):\n",
    "        # x shape: (batch_size, input_dim)\n",
    "        x = self.input_proj(x)  # -> (batch_size, d_model)\n",
    "        x = x.unsqueeze(1)      # -> (batch_size, 1, d_model)\n",
    "        x = x + self.pos_enc    # 加位置编码\n",
    "        x = self.transformer_encoder(x)  # -> (batch_size, 1, d_model)\n",
    "        x = x.squeeze(1)        # -> (batch_size, d_model)\n",
    "        logits = self.classifier(x)     # -> (batch_size, num_classes)\n",
    "        return logits\n"
   ]
  },
  {
   "cell_type": "code",
   "execution_count": 40,
   "id": "4f9208f7-54c0-4b53-b1d9-84f519d6dc47",
   "metadata": {},
   "outputs": [],
   "source": [
    "# -----------------------------\n",
    "# 5. 初始化模型、损失函数和优化器\n",
    "# -----------------------------\n",
    "device = torch.device(\"cuda\" if torch.cuda.is_available() else \"cpu\")\n",
    "\n",
    "inmput_dim = len(FEA_COLS)\n",
    "num_classes = bin_count\n",
    "\n",
    "model = TransformerMLPClassifier(input_dim=inmput_dim, num_classes=num_classes)\n",
    "model.to(device)\n",
    "\n",
    "criterion = nn.CrossEntropyLoss()\n",
    "optimizer = optim.Adam(model.parameters(), lr=3e-4)\n",
    "scheduler = optim.lr_scheduler.ReduceLROnPlateau(optimizer, 'min', patience=2)\n"
   ]
  },
  {
   "cell_type": "code",
   "execution_count": 41,
   "id": "f10732a1-23c8-4151-8490-f1e5b4e998dc",
   "metadata": {},
   "outputs": [],
   "source": [
    "# -----------------------------\n",
    "# 6. 训练函数\n",
    "# -----------------------------\n",
    "def train_model(model, train_loader, criterion, optimizer, device, epochs=20):\n",
    "    model.train()\n",
    "    for epoch in range(epochs):\n",
    "        total_loss = 0\n",
    "        all_preds = []\n",
    "        all_labels = []\n",
    "\n",
    "        for inputs, labels in train_loader:\n",
    "            inputs, labels = inputs.to(device), labels.to(device)\n",
    "\n",
    "            optimizer.zero_grad()\n",
    "            outputs = model(inputs)\n",
    "            loss = criterion(outputs, labels)\n",
    "            loss.backward()\n",
    "            optimizer.step()\n",
    "\n",
    "            total_loss += loss.item()\n",
    "            preds = torch.argmax(outputs, dim=1)\n",
    "            all_preds.extend(preds.cpu().numpy())\n",
    "            all_labels.extend(labels.cpu().numpy())\n",
    "\n",
    "        acc = accuracy_score(all_labels, all_preds)\n",
    "        print(f\"Epoch {epoch+1}/{epochs}, Loss: {total_loss:.4f}, Accuracy: {acc*100:.2f}%\")\n",
    "        scheduler.step(total_loss)\n"
   ]
  },
  {
   "cell_type": "code",
   "execution_count": 42,
   "id": "19bbcdc6-6024-4552-bc4b-363bbe7ddda8",
   "metadata": {
    "scrolled": true
   },
   "outputs": [
    {
     "name": "stdout",
     "output_type": "stream",
     "text": [
      "Epoch 1/30, Loss: 41.4194, Accuracy: 63.22%\n",
      "Epoch 2/30, Loss: 36.5530, Accuracy: 67.08%\n",
      "Epoch 3/30, Loss: 35.7870, Accuracy: 67.28%\n",
      "Epoch 4/30, Loss: 36.2385, Accuracy: 67.00%\n",
      "Epoch 5/30, Loss: 35.7909, Accuracy: 67.28%\n",
      "Epoch 6/30, Loss: 36.0362, Accuracy: 67.24%\n",
      "Epoch 7/30, Loss: 35.5597, Accuracy: 67.20%\n",
      "Epoch 8/30, Loss: 35.6263, Accuracy: 67.28%\n",
      "Epoch 9/30, Loss: 35.6536, Accuracy: 67.20%\n",
      "Epoch 10/30, Loss: 35.3387, Accuracy: 67.12%\n",
      "Epoch 11/30, Loss: 35.8570, Accuracy: 67.20%\n",
      "Epoch 12/30, Loss: 35.5782, Accuracy: 67.24%\n",
      "Epoch 13/30, Loss: 35.2230, Accuracy: 67.24%\n",
      "Epoch 14/30, Loss: 35.4550, Accuracy: 67.24%\n",
      "Epoch 15/30, Loss: 35.2798, Accuracy: 67.16%\n",
      "Epoch 16/30, Loss: 35.2658, Accuracy: 67.28%\n",
      "Epoch 17/30, Loss: 35.2949, Accuracy: 67.16%\n",
      "Epoch 18/30, Loss: 35.4229, Accuracy: 67.24%\n",
      "Epoch 19/30, Loss: 35.8071, Accuracy: 67.24%\n",
      "Epoch 20/30, Loss: 35.4612, Accuracy: 67.24%\n",
      "Epoch 21/30, Loss: 35.3565, Accuracy: 67.24%\n",
      "Epoch 22/30, Loss: 34.9627, Accuracy: 67.20%\n",
      "Epoch 23/30, Loss: 35.1844, Accuracy: 67.24%\n",
      "Epoch 24/30, Loss: 35.2541, Accuracy: 67.24%\n",
      "Epoch 25/30, Loss: 35.3589, Accuracy: 67.16%\n",
      "Epoch 26/30, Loss: 34.9179, Accuracy: 67.32%\n",
      "Epoch 27/30, Loss: 35.7176, Accuracy: 67.28%\n",
      "Epoch 28/30, Loss: 34.9778, Accuracy: 67.28%\n",
      "Epoch 29/30, Loss: 35.2216, Accuracy: 67.28%\n",
      "Epoch 30/30, Loss: 35.4482, Accuracy: 67.20%\n"
     ]
    }
   ],
   "source": [
    "# -----------------------------\n",
    "# 7. 开始训练\n",
    "# -----------------------------\n",
    "train_model(model, train_loader, criterion, optimizer, device, epochs=30)"
   ]
  },
  {
   "cell_type": "code",
   "execution_count": 27,
   "id": "10e8d3f7-1b96-4c10-8b0c-aa4df3c93e27",
   "metadata": {},
   "outputs": [],
   "source": [
    "# -----------------------------\n",
    "# 8. 验证函数\n",
    "# -----------------------------\n",
    "def evaluate_model(model, test_loader, device='cpu'):\n",
    "    model.eval()\n",
    "    all_preds = []\n",
    "    all_labels = []\n",
    "\n",
    "    with torch.no_grad():\n",
    "        for inputs, labels in test_loader:\n",
    "            inputs, labels = inputs.to(device), labels.to(device)\n",
    "            outputs = model(inputs)\n",
    "            preds = torch.argmax(outputs, dim=1)\n",
    "            all_preds.extend(preds.cpu().numpy())\n",
    "            all_labels.extend(labels.cpu().numpy())\n",
    "\n",
    "    acc = accuracy_score(all_labels, all_preds)\n",
    "    print(f\"\\nValidation Accuracy: {acc*100:.2f}%\")\n"
   ]
  },
  {
   "cell_type": "code",
   "execution_count": 28,
   "id": "1a5c0a5f-a086-47bd-9301-1b1ad9e448e7",
   "metadata": {},
   "outputs": [
    {
     "name": "stdout",
     "output_type": "stream",
     "text": [
      "\n",
      "Validation Accuracy: 52.23%\n"
     ]
    }
   ],
   "source": [
    "evaluate_model(model, test_loader)"
   ]
  },
  {
   "cell_type": "code",
   "execution_count": 43,
   "id": "575bf481-56c6-4925-a841-7912464ad1b5",
   "metadata": {},
   "outputs": [
    {
     "data": {
      "text/plain": [
       "array([[[-9.7138441e-01, -8.2046250e-03, -4.1831445e-02],\n",
       "        [-8.3449727e-01,  5.9086430e-01,  1.5920448e-01],\n",
       "        [-1.8103427e+00,  4.2159006e-01,  6.8547958e-01],\n",
       "        [ 1.5280780e+00,  7.0662692e-02, -6.8673782e-02],\n",
       "        [-4.8375028e-01, -1.4277188e+00,  3.2848552e-01]],\n",
       "\n",
       "       [[ 1.7822380e+00,  4.3391126e-01, -6.9245410e-01],\n",
       "        [ 1.7672516e-01, -2.5685616e+00, -5.5315411e-01],\n",
       "        [ 2.6226959e-01,  3.0881274e-01, -4.5001021e-01],\n",
       "        [-8.6859959e-01,  4.0157357e-01, -7.8219491e-01],\n",
       "        [-1.9691814e+00, -6.3047439e-01, -1.8294540e-01]],\n",
       "\n",
       "       [[-2.7137694e-01,  1.9064783e+00, -9.6114504e-01],\n",
       "        [ 1.1163582e+00, -8.3831050e-02, -1.8813393e+00],\n",
       "        [ 1.8819986e-02, -6.2149698e-01,  1.2566860e+00],\n",
       "        [ 1.9507569e+00,  2.5069902e-02,  1.1206604e-01],\n",
       "        [-1.1334939e-01, -1.5709992e-01,  8.3822805e-01]],\n",
       "\n",
       "       [[-4.3285406e-01, -8.1039345e-01,  8.6012238e-01],\n",
       "        [-5.1928300e-01, -2.5286639e-01,  1.8393505e-01],\n",
       "        [ 8.6889893e-01,  7.7334791e-01,  1.6651384e+00],\n",
       "        [ 7.2873765e-01, -7.9392499e-01, -9.1293567e-01],\n",
       "        [ 1.1010981e+00, -7.1899980e-01, -2.7801909e-03]],\n",
       "\n",
       "       [[ 1.2548026e+00,  7.4950743e-01,  8.9964491e-01],\n",
       "        [-2.8196448e-01,  6.6037369e-01,  1.6346607e-01],\n",
       "        [ 1.2485049e+00, -3.1785792e-01, -1.0236180e+00],\n",
       "        [-1.1375649e+00, -1.9194794e+00, -8.7084728e-01],\n",
       "        [-1.6364354e-01,  2.7813859e+00,  7.4888654e-02]],\n",
       "\n",
       "       [[-1.1756655e+00,  7.2715616e-01, -1.2088352e+00],\n",
       "        [ 1.3882412e+00,  2.5429994e-01, -1.8266115e+00],\n",
       "        [-3.4753382e-01,  7.4076498e-01,  7.6120234e-01],\n",
       "        [ 3.2891271e-01, -1.1720474e+00,  8.7344891e-01],\n",
       "        [ 1.2675819e-01, -7.3255128e-01,  1.5901079e+00]],\n",
       "\n",
       "       [[ 2.3627841e+00,  1.9097722e-01, -5.3799593e-01],\n",
       "        [ 8.9812976e-01, -5.6756175e-01,  1.1901948e-01],\n",
       "        [-4.2321408e-01, -3.4304669e-01,  6.6150755e-01],\n",
       "        [ 4.4457132e-01, -4.9866611e-01,  6.4190251e-01],\n",
       "        [ 5.7517022e-01,  1.2647250e+00, -1.2238296e-01]],\n",
       "\n",
       "       [[-1.3333654e+00,  1.1698449e+00,  4.9790406e-01],\n",
       "        [-6.4840186e-01, -6.5070307e-01, -8.7674350e-01],\n",
       "        [ 2.6657704e-01, -2.9062963e-01,  2.9990137e-01],\n",
       "        [ 1.3214231e+00,  4.3030286e-01,  8.6683381e-01],\n",
       "        [-6.9921792e-01,  6.9620973e-01, -6.2915772e-01]],\n",
       "\n",
       "       [[ 8.6931700e-01,  1.4667902e+00,  1.4581054e-01],\n",
       "        [-1.8215680e-01, -1.2735076e+00, -1.5910724e+00],\n",
       "        [ 1.6688319e+00, -2.5233598e+00, -7.6604325e-01],\n",
       "        [-7.7639438e-02,  9.0437031e-01,  7.1102464e-01],\n",
       "        [ 4.2709365e-02,  5.4234941e-02, -3.8802609e-01]],\n",
       "\n",
       "       [[-2.7735385e-01,  6.6419268e-01,  2.8013054e-01],\n",
       "        [ 1.5672489e-01,  7.6032102e-01,  5.8889717e-01],\n",
       "        [-1.1523631e+00,  1.2576734e+00,  9.2778194e-01],\n",
       "        [-3.5144675e-01,  5.7240415e-02,  7.0824188e-01],\n",
       "        [-2.1330740e+00,  4.1101607e-03, -2.5002591e-02]]], dtype=float32)"
      ]
     },
     "execution_count": 43,
     "metadata": {},
     "output_type": "execute_result"
    }
   ],
   "source": [
    "X = np.random.randn(10, 5, 3).astype(np.float32)\n",
    "X"
   ]
  },
  {
   "cell_type": "code",
   "execution_count": null,
   "id": "ed2b5bab-6910-498c-93b5-0457547b26b1",
   "metadata": {},
   "outputs": [],
   "source": []
  }
 ],
 "metadata": {
  "kernelspec": {
   "display_name": "Python3.11 (ctp)",
   "language": "python",
   "name": "ctp-py311"
  },
  "language_info": {
   "codemirror_mode": {
    "name": "ipython",
    "version": 3
   },
   "file_extension": ".py",
   "mimetype": "text/x-python",
   "name": "python",
   "nbconvert_exporter": "python",
   "pygments_lexer": "ipython3",
   "version": "3.11.4"
  }
 },
 "nbformat": 4,
 "nbformat_minor": 5
}
