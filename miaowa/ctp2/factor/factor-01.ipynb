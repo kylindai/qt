{
 "cells": [
  {
   "cell_type": "code",
   "execution_count": null,
   "id": "16a2388a",
   "metadata": {},
   "outputs": [],
   "source": [
    "import numpy as np\n",
    "import pandas as pd\n",
    "import sqlalchemy\n",
    "import matplotlib as plt\n",
    "import matplotlib.pyplot as plt\n",
    "\n",
    "from comm.factor_util import FactorUtil"
   ]
  },
  {
   "cell_type": "code",
   "execution_count": null,
   "id": "27df8720",
   "metadata": {},
   "outputs": [],
   "source": [
    "#tick_df = FactorUtil.read_tick_from_sql('FG2409', '20240101', '00:00:00', 100)\n",
    "#tick_df.head()"
   ]
  },
  {
   "cell_type": "code",
   "execution_count": null,
   "id": "52dc691e",
   "metadata": {},
   "outputs": [],
   "source": [
    "# bar_df = FactorUtil.read_bar_from_sql('FG2409_MIN_1', '20240101', '00:00:00', 100)\n",
    "# bar_df.head()"
   ]
  },
  {
   "cell_type": "code",
   "execution_count": null,
   "id": "b7a0036a",
   "metadata": {},
   "outputs": [],
   "source": [
    "# window function\n",
    "# bar_df.count()"
   ]
  },
  {
   "cell_type": "code",
   "execution_count": null,
   "id": "fdd9849f",
   "metadata": {},
   "outputs": [],
   "source": [
    "bar_df_1 = FactorUtil.get_bar_df('FG2409_MIN_1', '20240101', '00:00:00', 100)\n",
    "bar_df_1.head()"
   ]
  },
  {
   "cell_type": "code",
   "execution_count": null,
   "id": "8a6f76ba",
   "metadata": {},
   "outputs": [],
   "source": [
    "bar_df_2 = FactorUtil.get_window_bar_df('FG2409_MIN_1', '20240101', '00:00:00', 100, 5)\n",
    "bar_df_2[['O_4', 'H_4', 'O_3', 'H_3', 'O_2', 'H_2', 'O_1', 'H_1', 'O', 'H']].head()"
   ]
  },
  {
   "cell_type": "code",
   "execution_count": null,
   "id": "3f7be44c",
   "metadata": {},
   "outputs": [],
   "source": []
  }
 ],
 "metadata": {
  "kernelspec": {
   "display_name": "Python 3 (ipykernel)",
   "language": "python",
   "name": "python3"
  },
  "language_info": {
   "codemirror_mode": {
    "name": "ipython",
    "version": 3
   },
   "file_extension": ".py",
   "mimetype": "text/x-python",
   "name": "python",
   "nbconvert_exporter": "python",
   "pygments_lexer": "ipython3",
   "version": "3.9.10"
  }
 },
 "nbformat": 4,
 "nbformat_minor": 5
}
