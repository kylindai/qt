{
 "cells": [
  {
   "cell_type": "code",
   "execution_count": 1,
   "id": "e50e9d0b",
   "metadata": {},
   "outputs": [
    {
     "ename": "ImportError",
     "evalue": "attempted relative import with no known parent package",
     "output_type": "error",
     "traceback": [
      "\u001b[31m---------------------------------------------------------------------------\u001b[39m",
      "\u001b[31mImportError\u001b[39m                               Traceback (most recent call last)",
      "\u001b[36mCell\u001b[39m\u001b[36m \u001b[39m\u001b[32mIn[1]\u001b[39m\u001b[32m, line 7\u001b[39m\n\u001b[32m      4\u001b[39m \u001b[38;5;28;01mimport\u001b[39;00m\u001b[38;5;250m \u001b[39m\u001b[34;01mmatplotlib\u001b[39;00m\u001b[38;5;250m \u001b[39m\u001b[38;5;28;01mas\u001b[39;00m\u001b[38;5;250m \u001b[39m\u001b[34;01mplt\u001b[39;00m\n\u001b[32m      5\u001b[39m \u001b[38;5;28;01mimport\u001b[39;00m\u001b[38;5;250m \u001b[39m\u001b[34;01mmatplotlib\u001b[39;00m\u001b[34;01m.\u001b[39;00m\u001b[34;01mpyplot\u001b[39;00m\u001b[38;5;250m \u001b[39m\u001b[38;5;28;01mas\u001b[39;00m\u001b[38;5;250m \u001b[39m\u001b[34;01mplt\u001b[39;00m\n\u001b[32m----> \u001b[39m\u001b[32m7\u001b[39m \u001b[38;5;28;01mfrom\u001b[39;00m\u001b[38;5;250m \u001b[39m\u001b[34;01m.\u001b[39;00m\u001b[34;01m.\u001b[39;00m\u001b[34;01mcomm\u001b[39;00m\u001b[34;01m.\u001b[39;00m\u001b[34;01mfactor_utils\u001b[39;00m\u001b[38;5;250m \u001b[39m\u001b[38;5;28;01mimport\u001b[39;00m FactorUtil\n",
      "\u001b[31mImportError\u001b[39m: attempted relative import with no known parent package"
     ]
    }
   ],
   "source": [
    "import numpy as np\n",
    "import pandas as pd\n",
    "import sqlalchemy\n",
    "import matplotlib as plt\n",
    "import matplotlib.pyplot as plt\n",
    "\n",
    "from ..comm.factor_utils import FactorUtil"
   ]
  },
  {
   "cell_type": "code",
   "execution_count": null,
   "id": "a34c94bd",
   "metadata": {},
   "outputs": [],
   "source": [
    "#tick_df = FactorUtil.read_tick_from_sql('FG2409', '20240101', '00:00:00', 100)\n",
    "#tick_df.head()"
   ]
  },
  {
   "cell_type": "code",
   "execution_count": null,
   "id": "b1623d41",
   "metadata": {},
   "outputs": [],
   "source": [
    "# bar_df = FactorUtil.read_bar_from_sql('FG2409_MIN_1', '20240101', '00:00:00', 100)\n",
    "# bar_df.head()"
   ]
  },
  {
   "cell_type": "code",
   "execution_count": null,
   "id": "3abe8e9d",
   "metadata": {},
   "outputs": [],
   "source": [
    "# window function\n",
    "# bar_df.count()"
   ]
  },
  {
   "cell_type": "code",
   "execution_count": null,
   "id": "1f4dd3b0",
   "metadata": {},
   "outputs": [],
   "source": [
    "bar_df_1 = FactorUtil.get_bar_df('FG2409_MIN_1', '20240401', '00:00:00', 100)\n",
    "bar_df_1.head()"
   ]
  },
  {
   "cell_type": "code",
   "execution_count": null,
   "id": "6f04caa2",
   "metadata": {},
   "outputs": [],
   "source": [
    "bar_df_2 = FactorUtil.get_window_bar_df('FG2405_MIN_1', '20240401', '00:00:00', 100, 5)\n",
    "bar_df_2[['O_4', 'H_4', 'O_3', 'H_3', 'O_2', 'H_2', 'O_1', 'H_1', 'O', 'H']].head()"
   ]
  },
  {
   "cell_type": "code",
   "execution_count": null,
   "id": "86b4cbfc",
   "metadata": {},
   "outputs": [],
   "source": [
    "import talib\n",
    "\n",
    "o_sma = talib.MA(bar_df_2.O, timeperiod=2)\n",
    "o_sma"
   ]
  },
  {
   "cell_type": "code",
   "execution_count": null,
   "id": "75b8cb5c",
   "metadata": {},
   "outputs": [],
   "source": []
  }
 ],
 "metadata": {
  "kernelspec": {
   "display_name": "Python 3 (ipykernel)",
   "language": "python",
   "name": "python3"
  },
  "language_info": {
   "codemirror_mode": {
    "name": "ipython",
    "version": 3
   },
   "file_extension": ".py",
   "mimetype": "text/x-python",
   "name": "python",
   "nbconvert_exporter": "python",
   "pygments_lexer": "ipython3",
   "version": "3.11.9"
  }
 },
 "nbformat": 4,
 "nbformat_minor": 5
}
