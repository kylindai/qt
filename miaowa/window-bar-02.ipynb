{
 "cells": [
  {
   "cell_type": "code",
   "execution_count": 1,
   "id": "a9b5d792-85d9-40c9-937a-ece075d1d873",
   "metadata": {},
   "outputs": [
    {
     "name": "stdout",
     "output_type": "stream",
     "text": [
      "scipy 1.15.2\n",
      "numpy 1.26.4\n",
      "pandas 2.2.3\n",
      "matplotlib 3.10.1\n"
     ]
    }
   ],
   "source": [
    "import scipy\n",
    "import numpy as np\n",
    "import pandas as pd\n",
    "\n",
    "import matplotlib\n",
    "import matplotlib.pyplot as plt\n",
    "\n",
    "for m in [scipy, np, pd, matplotlib]:\n",
    "    print(m.__name__, m.__version__)\n",
    "\n",
    "from scipy.signal import savgol_filter\n",
    "from scipy.signal import argrelextrema\n",
    "from scipy.signal import find_peaks\n",
    "\n",
    "from funcs.factor_utils import FactorUtil"
   ]
  },
  {
   "cell_type": "code",
   "execution_count": 2,
   "id": "6326732b-55a4-4e45-9595-388e20ba06ec",
   "metadata": {},
   "outputs": [
    {
     "data": {
      "text/html": [
       "<div>\n",
       "<style scoped>\n",
       "    .dataframe tbody tr th:only-of-type {\n",
       "        vertical-align: middle;\n",
       "    }\n",
       "\n",
       "    .dataframe tbody tr th {\n",
       "        vertical-align: top;\n",
       "    }\n",
       "\n",
       "    .dataframe thead th {\n",
       "        text-align: right;\n",
       "    }\n",
       "</style>\n",
       "<table border=\"1\" class=\"dataframe\">\n",
       "  <thead>\n",
       "    <tr style=\"text-align: right;\">\n",
       "      <th></th>\n",
       "      <th>O</th>\n",
       "      <th>H</th>\n",
       "      <th>L</th>\n",
       "      <th>C</th>\n",
       "      <th>V</th>\n",
       "      <th>AP</th>\n",
       "      <th>AV</th>\n",
       "      <th>BP</th>\n",
       "      <th>BV</th>\n",
       "    </tr>\n",
       "    <tr>\n",
       "      <th>ts</th>\n",
       "      <th></th>\n",
       "      <th></th>\n",
       "      <th></th>\n",
       "      <th></th>\n",
       "      <th></th>\n",
       "      <th></th>\n",
       "      <th></th>\n",
       "      <th></th>\n",
       "      <th></th>\n",
       "    </tr>\n",
       "  </thead>\n",
       "  <tbody>\n",
       "    <tr>\n",
       "      <th>2024-08-13 09:00:00</th>\n",
       "      <td>1277.0</td>\n",
       "      <td>1278.0</td>\n",
       "      <td>1276.0</td>\n",
       "      <td>1276.0</td>\n",
       "      <td>691</td>\n",
       "      <td>1278.000</td>\n",
       "      <td>1082</td>\n",
       "      <td>1276.000</td>\n",
       "      <td>899</td>\n",
       "    </tr>\n",
       "    <tr>\n",
       "      <th>2024-08-13 09:02:00</th>\n",
       "      <td>1277.0</td>\n",
       "      <td>1282.0</td>\n",
       "      <td>1276.0</td>\n",
       "      <td>1278.0</td>\n",
       "      <td>7240</td>\n",
       "      <td>1278.636</td>\n",
       "      <td>65355</td>\n",
       "      <td>1277.547</td>\n",
       "      <td>48771</td>\n",
       "    </tr>\n",
       "    <tr>\n",
       "      <th>2024-08-13 09:04:00</th>\n",
       "      <td>1277.0</td>\n",
       "      <td>1282.0</td>\n",
       "      <td>1277.0</td>\n",
       "      <td>1280.0</td>\n",
       "      <td>5372</td>\n",
       "      <td>1280.486</td>\n",
       "      <td>75326</td>\n",
       "      <td>1279.519</td>\n",
       "      <td>80045</td>\n",
       "    </tr>\n",
       "    <tr>\n",
       "      <th>2024-08-13 09:06:00</th>\n",
       "      <td>1280.0</td>\n",
       "      <td>1282.0</td>\n",
       "      <td>1280.0</td>\n",
       "      <td>1282.0</td>\n",
       "      <td>3819</td>\n",
       "      <td>1281.535</td>\n",
       "      <td>130820</td>\n",
       "      <td>1280.587</td>\n",
       "      <td>136308</td>\n",
       "    </tr>\n",
       "    <tr>\n",
       "      <th>2024-08-13 09:08:00</th>\n",
       "      <td>1281.0</td>\n",
       "      <td>1285.0</td>\n",
       "      <td>1281.0</td>\n",
       "      <td>1284.0</td>\n",
       "      <td>8303</td>\n",
       "      <td>1282.603</td>\n",
       "      <td>179700</td>\n",
       "      <td>1281.889</td>\n",
       "      <td>149747</td>\n",
       "    </tr>\n",
       "  </tbody>\n",
       "</table>\n",
       "</div>"
      ],
      "text/plain": [
       "                          O       H       L       C     V        AP      AV  \\\n",
       "ts                                                                            \n",
       "2024-08-13 09:00:00  1277.0  1278.0  1276.0  1276.0   691  1278.000    1082   \n",
       "2024-08-13 09:02:00  1277.0  1282.0  1276.0  1278.0  7240  1278.636   65355   \n",
       "2024-08-13 09:04:00  1277.0  1282.0  1277.0  1280.0  5372  1280.486   75326   \n",
       "2024-08-13 09:06:00  1280.0  1282.0  1280.0  1282.0  3819  1281.535  130820   \n",
       "2024-08-13 09:08:00  1281.0  1285.0  1281.0  1284.0  8303  1282.603  179700   \n",
       "\n",
       "                           BP      BV  \n",
       "ts                                     \n",
       "2024-08-13 09:00:00  1276.000     899  \n",
       "2024-08-13 09:02:00  1277.547   48771  \n",
       "2024-08-13 09:04:00  1279.519   80045  \n",
       "2024-08-13 09:06:00  1280.587  136308  \n",
       "2024-08-13 09:08:00  1281.889  149747  "
      ]
     },
     "execution_count": 2,
     "metadata": {},
     "output_type": "execute_result"
    }
   ],
   "source": [
    "bar_df_1 = FactorUtil.get_bar_df('FG2409_MIN_2', '20240813', '00:00:00', 300)\n",
    "bar_df_1.head()"
   ]
  },
  {
   "cell_type": "code",
   "execution_count": 3,
   "id": "1f3d16e9-3293-4909-abf6-a5d5f371abc0",
   "metadata": {},
   "outputs": [
    {
     "name": "stdout",
     "output_type": "stream",
     "text": [
      "20240812 22:42:00\n"
     ]
    },
    {
     "data": {
      "text/plain": [
       "Index(['O_9', 'H_9', 'L_9', 'C_9', 'V_9', 'AP_9', 'AV_9', 'BP_9', 'BV_9',\n",
       "       'O_8', 'H_8', 'L_8', 'C_8', 'V_8', 'AP_8', 'AV_8', 'BP_8', 'BV_8',\n",
       "       'O_7', 'H_7', 'L_7', 'C_7', 'V_7', 'AP_7', 'AV_7', 'BP_7', 'BV_7',\n",
       "       'O_6', 'H_6', 'L_6', 'C_6', 'V_6', 'AP_6', 'AV_6', 'BP_6', 'BV_6',\n",
       "       'O_5', 'H_5', 'L_5', 'C_5', 'V_5', 'AP_5', 'AV_5', 'BP_5', 'BV_5',\n",
       "       'O_4', 'H_4', 'L_4', 'C_4', 'V_4', 'AP_4', 'AV_4', 'BP_4', 'BV_4',\n",
       "       'O_3', 'H_3', 'L_3', 'C_3', 'V_3', 'AP_3', 'AV_3', 'BP_3', 'BV_3',\n",
       "       'O_2', 'H_2', 'L_2', 'C_2', 'V_2', 'AP_2', 'AV_2', 'BP_2', 'BV_2',\n",
       "       'O_1', 'H_1', 'L_1', 'C_1', 'V_1', 'AP_1', 'AV_1', 'BP_1', 'BV_1', 'O',\n",
       "       'H', 'L', 'C', 'V', 'AP', 'AV', 'BP', 'BV'],\n",
       "      dtype='object')"
      ]
     },
     "execution_count": 3,
     "metadata": {},
     "output_type": "execute_result"
    }
   ],
   "source": [
    "bar_df_3 = FactorUtil.get_window_bar_df('FG2409_MIN_2', '20240813')\n",
    "bar_df_3.columns"
   ]
  },
  {
   "cell_type": "code",
   "execution_count": 4,
   "id": "d74f57cc-f8f5-4bd2-83f7-f02df78518ba",
   "metadata": {},
   "outputs": [],
   "source": [
    "# 收益率 R\n",
    "bar_df_3['R'] = (bar_df_3['C'] - bar_df_3['C_5']) / bar_df_3['C_5']\n",
    "# 收益值 R1\n",
    "bar_df_3['R1'] = (bar_df_3['C'] - bar_df_3['C_5'])"
   ]
  },
  {
   "cell_type": "code",
   "execution_count": 6,
   "id": "1455e027-8c56-4b11-be39-0018191cd9f4",
   "metadata": {},
   "outputs": [
    {
     "data": {
      "text/html": [
       "<div>\n",
       "<style scoped>\n",
       "    .dataframe tbody tr th:only-of-type {\n",
       "        vertical-align: middle;\n",
       "    }\n",
       "\n",
       "    .dataframe tbody tr th {\n",
       "        vertical-align: top;\n",
       "    }\n",
       "\n",
       "    .dataframe thead th {\n",
       "        text-align: right;\n",
       "    }\n",
       "</style>\n",
       "<table border=\"1\" class=\"dataframe\">\n",
       "  <thead>\n",
       "    <tr style=\"text-align: right;\">\n",
       "      <th></th>\n",
       "      <th>C_9</th>\n",
       "      <th>C_7</th>\n",
       "      <th>C_5</th>\n",
       "      <th>C_3</th>\n",
       "      <th>C_1</th>\n",
       "      <th>C</th>\n",
       "      <th>R</th>\n",
       "      <th>R1</th>\n",
       "    </tr>\n",
       "    <tr>\n",
       "      <th>ts</th>\n",
       "      <th></th>\n",
       "      <th></th>\n",
       "      <th></th>\n",
       "      <th></th>\n",
       "      <th></th>\n",
       "      <th></th>\n",
       "      <th></th>\n",
       "      <th></th>\n",
       "    </tr>\n",
       "  </thead>\n",
       "  <tbody>\n",
       "    <tr>\n",
       "      <th>2024-08-13 09:00:00</th>\n",
       "      <td>1272.0</td>\n",
       "      <td>1269.0</td>\n",
       "      <td>1273.0</td>\n",
       "      <td>1276.0</td>\n",
       "      <td>1277.0</td>\n",
       "      <td>1276.0</td>\n",
       "      <td>0.002357</td>\n",
       "      <td>3.0</td>\n",
       "    </tr>\n",
       "    <tr>\n",
       "      <th>2024-08-13 09:02:00</th>\n",
       "      <td>1271.0</td>\n",
       "      <td>1272.0</td>\n",
       "      <td>1275.0</td>\n",
       "      <td>1275.0</td>\n",
       "      <td>1276.0</td>\n",
       "      <td>1278.0</td>\n",
       "      <td>0.002353</td>\n",
       "      <td>3.0</td>\n",
       "    </tr>\n",
       "    <tr>\n",
       "      <th>2024-08-13 09:04:00</th>\n",
       "      <td>1269.0</td>\n",
       "      <td>1273.0</td>\n",
       "      <td>1276.0</td>\n",
       "      <td>1277.0</td>\n",
       "      <td>1278.0</td>\n",
       "      <td>1280.0</td>\n",
       "      <td>0.003135</td>\n",
       "      <td>4.0</td>\n",
       "    </tr>\n",
       "    <tr>\n",
       "      <th>2024-08-13 09:06:00</th>\n",
       "      <td>1272.0</td>\n",
       "      <td>1275.0</td>\n",
       "      <td>1275.0</td>\n",
       "      <td>1276.0</td>\n",
       "      <td>1280.0</td>\n",
       "      <td>1282.0</td>\n",
       "      <td>0.005490</td>\n",
       "      <td>7.0</td>\n",
       "    </tr>\n",
       "    <tr>\n",
       "      <th>2024-08-13 09:08:00</th>\n",
       "      <td>1273.0</td>\n",
       "      <td>1276.0</td>\n",
       "      <td>1277.0</td>\n",
       "      <td>1278.0</td>\n",
       "      <td>1282.0</td>\n",
       "      <td>1284.0</td>\n",
       "      <td>0.005482</td>\n",
       "      <td>7.0</td>\n",
       "    </tr>\n",
       "  </tbody>\n",
       "</table>\n",
       "</div>"
      ],
      "text/plain": [
       "                        C_9     C_7     C_5     C_3     C_1       C         R  \\\n",
       "ts                                                                              \n",
       "2024-08-13 09:00:00  1272.0  1269.0  1273.0  1276.0  1277.0  1276.0  0.002357   \n",
       "2024-08-13 09:02:00  1271.0  1272.0  1275.0  1275.0  1276.0  1278.0  0.002353   \n",
       "2024-08-13 09:04:00  1269.0  1273.0  1276.0  1277.0  1278.0  1280.0  0.003135   \n",
       "2024-08-13 09:06:00  1272.0  1275.0  1275.0  1276.0  1280.0  1282.0  0.005490   \n",
       "2024-08-13 09:08:00  1273.0  1276.0  1277.0  1278.0  1282.0  1284.0  0.005482   \n",
       "\n",
       "                      R1  \n",
       "ts                        \n",
       "2024-08-13 09:00:00  3.0  \n",
       "2024-08-13 09:02:00  3.0  \n",
       "2024-08-13 09:04:00  4.0  \n",
       "2024-08-13 09:06:00  7.0  \n",
       "2024-08-13 09:08:00  7.0  "
      ]
     },
     "execution_count": 6,
     "metadata": {},
     "output_type": "execute_result"
    }
   ],
   "source": [
    "bar_df_3[['C_9', 'C_7', 'C_5', 'C_3', 'C_1', 'C', 'R', 'R1']].head()"
   ]
  },
  {
   "cell_type": "code",
   "execution_count": 7,
   "id": "46fb8285-0d52-467c-ac48-88d525765b24",
   "metadata": {},
   "outputs": [
    {
     "data": {
      "text/plain": [
       "(-0.012924071082390954, 0.012976480129764802)"
      ]
     },
     "execution_count": 7,
     "metadata": {},
     "output_type": "execute_result"
    }
   ],
   "source": [
    "min_val, max_val = bar_df_3['R'].min(), bar_df_3['R'].max()\n",
    "min_val, max_val"
   ]
  },
  {
   "cell_type": "code",
   "execution_count": 8,
   "id": "060a5065-f26c-4fd7-b09f-bf2cb33df47a",
   "metadata": {},
   "outputs": [
    {
     "data": {
      "text/plain": [
       "(-16.0, 16.0)"
      ]
     },
     "execution_count": 8,
     "metadata": {},
     "output_type": "execute_result"
    }
   ],
   "source": [
    "min_val_1, max_val_1 = bar_df_3['R1'].min(), bar_df_3['R1'].max()\n",
    "min_val_1, max_val_1"
   ]
  },
  {
   "cell_type": "code",
   "execution_count": 9,
   "id": "473694b8-834a-4486-9c7d-c45e44f0ef0a",
   "metadata": {},
   "outputs": [
    {
     "data": {
      "text/plain": [
       "count    1584.000000\n",
       "mean       -0.383838\n",
       "std         3.628050\n",
       "min       -16.000000\n",
       "25%        -2.000000\n",
       "50%         0.000000\n",
       "75%         2.000000\n",
       "max        16.000000\n",
       "Name: R1, dtype: float64"
      ]
     },
     "execution_count": 9,
     "metadata": {},
     "output_type": "execute_result"
    }
   ],
   "source": [
    "bar_df_3['R1'].describe()"
   ]
  },
  {
   "cell_type": "code",
   "execution_count": 10,
   "id": "95052b44-35d2-4d34-a49c-84eccc1df748",
   "metadata": {},
   "outputs": [
    {
     "data": {
      "text/plain": [
       "count    1584.000000\n",
       "mean       -0.000312\n",
       "std         0.002951\n",
       "min        -0.012924\n",
       "25%        -0.001648\n",
       "50%         0.000000\n",
       "75%         0.001609\n",
       "max         0.012976\n",
       "Name: R, dtype: float64"
      ]
     },
     "execution_count": 10,
     "metadata": {},
     "output_type": "execute_result"
    }
   ],
   "source": [
    "bar_df_3['R'].describe()"
   ]
  },
  {
   "cell_type": "code",
   "execution_count": 11,
   "id": "22b16181-d691-4f09-bfba-ad9ff0973242",
   "metadata": {},
   "outputs": [
    {
     "data": {
      "text/plain": [
       "IntervalIndex([ (-0.012924071082390954, -0.010334015961175377],\n",
       "               (-0.010334015961175377, -0.0077439608399598025],\n",
       "               (-0.0077439608399598025, -0.005153905718744227],\n",
       "                (-0.005153905718744227, -0.002563850597528651],\n",
       "                (-0.002563850597528651, 2.620452368692558e-05],\n",
       "                (2.620452368692558e-05, 0.0026162596449025004],\n",
       "                 (0.0026162596449025004, 0.005206314766118075],\n",
       "                  (0.005206314766118075, 0.007796369887333652],\n",
       "                  (0.007796369887333652, 0.010386425008549229],\n",
       "                  (0.010386425008549229, 0.012976480129764802]],\n",
       "              dtype='interval[float64, right]')"
      ]
     },
     "execution_count": 11,
     "metadata": {},
     "output_type": "execute_result"
    }
   ],
   "source": [
    "# 根据值生成桶边界\n",
    "bins = pd.interval_range(start=min_val, end=max_val, periods=10)\n",
    "bins"
   ]
  },
  {
   "cell_type": "code",
   "execution_count": 12,
   "id": "d2fe59da-9c70-4fa8-8861-5f191c09b97e",
   "metadata": {},
   "outputs": [
    {
     "data": {
      "text/plain": [
       "IntervalIndex([                           (-16.0, -12.8],\n",
       "                                           (-12.8, -9.6],\n",
       "                              (-9.6, -6.399999999999999],\n",
       "               (-6.399999999999999, -3.1999999999999993],\n",
       "                              (-3.1999999999999993, 0.0],\n",
       "                                (0.0, 3.200000000000003],\n",
       "                  (3.200000000000003, 6.400000000000002],\n",
       "                  (6.400000000000002, 9.600000000000001],\n",
       "                               (9.600000000000001, 12.8],\n",
       "                                            (12.8, 16.0]],\n",
       "              dtype='interval[float64, right]')"
      ]
     },
     "execution_count": 12,
     "metadata": {},
     "output_type": "execute_result"
    }
   ],
   "source": [
    "bins_1 = pd.interval_range(start=min_val_1, end=max_val_1, periods=10)\n",
    "bins_1"
   ]
  },
  {
   "cell_type": "code",
   "execution_count": 13,
   "id": "c861774b-eb5c-46bc-a660-2fdff3bb4821",
   "metadata": {},
   "outputs": [
    {
     "data": {
      "text/plain": [
       "K\n",
       "(-0.012924071082390954, -0.010334015961175377]       3\n",
       "(-0.010334015961175377, -0.0077439608399598025]     23\n",
       "(-0.0077439608399598025, -0.005153905718744227]     55\n",
       "(-0.005153905718744227, -0.002563850597528651]     175\n",
       "(-0.002563850597528651, 2.620452368692558e-05]     705\n",
       "(2.620452368692558e-05, 0.0026162596449025004]     452\n",
       "(0.0026162596449025004, 0.005206314766118075]      126\n",
       "(0.005206314766118075, 0.007796369887333652]        35\n",
       "(0.007796369887333652, 0.010386425008549229]         3\n",
       "(0.010386425008549229, 0.012976480129764802]         6\n",
       "Name: count, dtype: int64"
      ]
     },
     "execution_count": 13,
     "metadata": {},
     "output_type": "execute_result"
    }
   ],
   "source": [
    "# 分桶\n",
    "# bar_df_3['K'] = pd.cut(bar_df_3['R'], bins=bins, labels=range(10), include_lowest=True).cat.codes\n",
    "bar_df_3['K'] = pd.cut(bar_df_3['R'], bins=bins, labels=range(10), include_lowest=True)\n",
    "# 值分布\n",
    "bar_df_3['K'].value_counts().sort_index()"
   ]
  },
  {
   "cell_type": "code",
   "execution_count": 14,
   "id": "95e7d59f-17a2-4d61-a7c1-ee68cb139686",
   "metadata": {},
   "outputs": [
    {
     "data": {
      "text/plain": [
       "K1\n",
       "(-16.0, -12.8]                                 3\n",
       "(-12.8, -9.6]                                 22\n",
       "(-9.6, -6.399999999999999]                    56\n",
       "(-6.399999999999999, -3.1999999999999993]    168\n",
       "(-3.1999999999999993, 0.0]                   712\n",
       "(0.0, 3.200000000000003]                     452\n",
       "(3.200000000000003, 6.400000000000002]       126\n",
       "(6.400000000000002, 9.600000000000001]        34\n",
       "(9.600000000000001, 12.8]                      4\n",
       "(12.8, 16.0]                                   6\n",
       "Name: count, dtype: int64"
      ]
     },
     "execution_count": 14,
     "metadata": {},
     "output_type": "execute_result"
    }
   ],
   "source": [
    "# 分桶\n",
    "# bar_df_3['K'] = pd.cut(bar_df_3['R'], bins=bins_1, labels=range(10), include_lowest=True).cat.codes\n",
    "bar_df_3['K1'] = pd.cut(bar_df_3['R1'], bins=bins_1, labels=range(10), include_lowest=True)\n",
    "# 值分布\n",
    "bar_df_3['K1'].value_counts().sort_index()"
   ]
  },
  {
   "cell_type": "code",
   "execution_count": null,
   "id": "ec39d1fb-cc1e-4fc5-92a9-ff0fbe364462",
   "metadata": {},
   "outputs": [],
   "source": []
  }
 ],
 "metadata": {
  "kernelspec": {
   "display_name": "Python3.11 (ctp)",
   "language": "python",
   "name": "ctp-py311"
  },
  "language_info": {
   "codemirror_mode": {
    "name": "ipython",
    "version": 3
   },
   "file_extension": ".py",
   "mimetype": "text/x-python",
   "name": "python",
   "nbconvert_exporter": "python",
   "pygments_lexer": "ipython3",
   "version": "3.11.4"
  }
 },
 "nbformat": 4,
 "nbformat_minor": 5
}
