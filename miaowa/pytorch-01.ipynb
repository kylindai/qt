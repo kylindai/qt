{
 "cells": [
  {
   "cell_type": "code",
   "execution_count": 1,
   "id": "ffc362b0-f14b-44e1-8427-26bf53b5c5c0",
   "metadata": {},
   "outputs": [
    {
     "name": "stdout",
     "output_type": "stream",
     "text": [
      "numpy 1.26.4\n",
      "pandas 2.2.3\n",
      "torch 2.2.2\n"
     ]
    }
   ],
   "source": [
    "import numpy as np\n",
    "import pandas as pd\n",
    "import torch\n",
    "\n",
    "for m in [np, pd, torch]:\n",
    "    print(m.__name__, m.__version__)\n"
   ]
  },
  {
   "cell_type": "code",
   "execution_count": 2,
   "id": "2c4eab08-a687-405f-810f-6a98da62aab0",
   "metadata": {},
   "outputs": [],
   "source": [
    "from torch import nn, optim\n",
    "from torch.utils.data import DataLoader, Dataset, random_split\n",
    "from sklearn.preprocessing import LabelEncoder\n",
    "\n",
    "from funcs.factor_utils import FactorUtil"
   ]
  },
  {
   "cell_type": "code",
   "execution_count": 6,
   "id": "378e7b51-9a23-4703-97e5-e804c92d149d",
   "metadata": {},
   "outputs": [
    {
     "name": "stdout",
     "output_type": "stream",
     "text": [
      "20240812 22:51:00\n"
     ]
    },
    {
     "data": {
      "text/plain": [
       "Index(['O_9', 'H_9', 'L_9', 'C_9', 'V_9', 'AP_9', 'AV_9', 'BP_9', 'BV_9',\n",
       "       'O_8', 'H_8', 'L_8', 'C_8', 'V_8', 'AP_8', 'AV_8', 'BP_8', 'BV_8',\n",
       "       'O_7', 'H_7', 'L_7', 'C_7', 'V_7', 'AP_7', 'AV_7', 'BP_7', 'BV_7',\n",
       "       'O_6', 'H_6', 'L_6', 'C_6', 'V_6', 'AP_6', 'AV_6', 'BP_6', 'BV_6',\n",
       "       'O_5', 'H_5', 'L_5', 'C_5', 'V_5', 'AP_5', 'AV_5', 'BP_5', 'BV_5',\n",
       "       'O_4', 'H_4', 'L_4', 'C_4', 'V_4', 'AP_4', 'AV_4', 'BP_4', 'BV_4',\n",
       "       'O_3', 'H_3', 'L_3', 'C_3', 'V_3', 'AP_3', 'AV_3', 'BP_3', 'BV_3',\n",
       "       'O_2', 'H_2', 'L_2', 'C_2', 'V_2', 'AP_2', 'AV_2', 'BP_2', 'BV_2',\n",
       "       'O_1', 'H_1', 'L_1', 'C_1', 'V_1', 'AP_1', 'AV_1', 'BP_1', 'BV_1', 'O',\n",
       "       'H', 'L', 'C', 'V', 'AP', 'AV', 'BP', 'BV'],\n",
       "      dtype='object')"
      ]
     },
     "execution_count": 6,
     "metadata": {},
     "output_type": "execute_result"
    }
   ],
   "source": [
    "# -----------------------------\n",
    "# 1. 读取数据集\n",
    "# -----------------------------\n",
    "bar_df = FactorUtil.get_window_bar_df('FG2409_MIN_1', '20240813')\n",
    "bar_df.columns"
   ]
  },
  {
   "cell_type": "code",
   "execution_count": 7,
   "id": "39b3136b-18ab-4167-b0b6-acca161e1163",
   "metadata": {},
   "outputs": [
    {
     "data": {
      "text/plain": [
       "(-0.009060955518945634, 0.0113544201135442)"
      ]
     },
     "execution_count": 7,
     "metadata": {},
     "output_type": "execute_result"
    }
   ],
   "source": [
    "bar_df['R'] = (bar_df['C'] - bar_df['C_5']) / bar_df['C_5']\n",
    "min_val, max_val = bar_df['R'].min(), bar_df['R'].max()\n",
    "min_val, max_val"
   ]
  },
  {
   "cell_type": "code",
   "execution_count": 8,
   "id": "13c0c693-fc1d-4104-9c3f-b1aa8072e22f",
   "metadata": {},
   "outputs": [
    {
     "data": {
      "text/plain": [
       "IntervalIndex([  (-0.009060955518945634, -0.00701941795569665],\n",
       "                 (-0.00701941795569665, -0.004977880392447667],\n",
       "               (-0.004977880392447667, -0.0029363428291986834],\n",
       "                 (-0.0029363428291986834, -0.0008948052659497],\n",
       "                  (-0.0008948052659497, 0.0011467322972992834],\n",
       "                 (0.0011467322972992834, 0.003188269860548267],\n",
       "                   (0.003188269860548267, 0.00522980742379725],\n",
       "                   (0.00522980742379725, 0.007271344987046234],\n",
       "                  (0.007271344987046234, 0.009312882550295219],\n",
       "                    (0.009312882550295219, 0.0113544201135442]],\n",
       "              dtype='interval[float64, right]')"
      ]
     },
     "execution_count": 8,
     "metadata": {},
     "output_type": "execute_result"
    }
   ],
   "source": [
    "bins = pd.interval_range(start=min_val, end=max_val, periods=10)\n",
    "bins"
   ]
  },
  {
   "cell_type": "code",
   "execution_count": 9,
   "id": "ad986b0e-b0e4-4632-9f04-b5dbf1867dfb",
   "metadata": {},
   "outputs": [
    {
     "data": {
      "text/plain": [
       "K\n",
       "-1       1\n",
       " 0      20\n",
       " 1      46\n",
       " 2     217\n",
       " 3     565\n",
       " 4    1579\n",
       " 5     515\n",
       " 6     161\n",
       " 7      30\n",
       " 8       5\n",
       " 9       2\n",
       "Name: count, dtype: int64"
      ]
     },
     "execution_count": 9,
     "metadata": {},
     "output_type": "execute_result"
    }
   ],
   "source": [
    "# -----------------------------\n",
    "# 2. 制作标签列\n",
    "# -----------------------------\n",
    "bar_df['K'] = pd.cut(bar_df['R'], bins=bins, labels=range(10), include_lowest=True).cat.codes\n",
    "bar_df['K'].value_counts().sort_index()"
   ]
  },
  {
   "cell_type": "code",
   "execution_count": 10,
   "id": "1d49b302-2572-4ef4-a90d-43555ba9f5d6",
   "metadata": {},
   "outputs": [
    {
     "data": {
      "text/plain": [
       "numpy.int8"
      ]
     },
     "execution_count": 10,
     "metadata": {},
     "output_type": "execute_result"
    }
   ],
   "source": [
    "type(bar_df['K'].iloc[0])"
   ]
  },
  {
   "cell_type": "code",
   "execution_count": 11,
   "id": "0b8359ad-49ff-44a5-a1a8-c2fd8be0b83b",
   "metadata": {},
   "outputs": [
    {
     "data": {
      "text/plain": [
       "array([-1,  0,  1,  2,  3,  4,  5,  6,  7,  8,  9], dtype=int8)"
      ]
     },
     "execution_count": 11,
     "metadata": {},
     "output_type": "execute_result"
    }
   ],
   "source": [
    "# 转换标签为数字（必须）\n",
    "le = LabelEncoder()\n",
    "encoded_labels = le.fit_transform(bar_df['K'])\n",
    "le.classes_"
   ]
  },
  {
   "cell_type": "code",
   "execution_count": 51,
   "id": "2abbfc22-fd7c-4a48-b1ef-c71c6195e833",
   "metadata": {},
   "outputs": [],
   "source": [
    "# -----------------------------\n",
    "# 2. 自定义 Dataset 类\n",
    "# -----------------------------\n",
    "class DataFrameDataset(Dataset):\n",
    "    def __init__(self, dataframe: pd.DataFrame, feature_cols, label_col, device='cpu'):\n",
    "        \"\"\"\n",
    "        构造一个 PyTorch Dataset，用于训练模型\n",
    "        \n",
    "        参数:\n",
    "            dataframe (pd.DataFrame): 包含特征和标签的 DataFrame\n",
    "            feature_cols (list): 用作输入特征的列名列表\n",
    "            label_col (str or None): 标签列名（如果是无监督任务可设为 None）\n",
    "            device (str): 'cuda' 或 'cpu'\n",
    "        \"\"\"\n",
    "        self.device = device\n",
    "\n",
    "        # 提取特征张量\n",
    "        self.features = torch.tensor(dataframe[feature_cols].values, dtype=torch.float32).to(device)\n",
    "\n",
    "        # 提取标签张量\n",
    "        if label_col is not None:\n",
    "            self.labels = torch.tensor(dataframe[label_col].values, dtype=torch.long).to(device)\n",
    "        else:\n",
    "            self.labels = None\n",
    "\n",
    "    def __len__(self):\n",
    "        return len(self.features)\n",
    "\n",
    "    def __getitem__(self, idx):\n",
    "        if self.labels is not None:\n",
    "            return self.features[idx], self.labels[idx]\n",
    "        else:\n",
    "            return self.features[idx]"
   ]
  },
  {
   "cell_type": "code",
   "execution_count": 52,
   "id": "4fc2f910-3acc-4b17-b079-e3d7da9ee446",
   "metadata": {},
   "outputs": [
    {
     "data": {
      "text/plain": [
       "3140"
      ]
     },
     "execution_count": 52,
     "metadata": {},
     "output_type": "execute_result"
    }
   ],
   "source": [
    "FEA_COLS = ['O_9', 'H_9', 'L_9', 'C_9', 'V_9', 'AP_9', 'AV_9', 'BP_9', 'BV_9',\n",
    "            'O_8', 'H_8', 'L_8', 'C_8', 'V_8', 'AP_8', 'AV_8', 'BP_8', 'BV_8',\n",
    "            'O_7', 'H_7', 'L_7', 'C_7', 'V_7', 'AP_7', 'AV_7', 'BP_7', 'BV_7',\n",
    "            'O_6', 'H_6', 'L_6', 'C_6', 'V_6', 'AP_6', 'AV_6', 'BP_6', 'BV_6',\n",
    "            'O_5', 'H_5', 'L_5', 'C_5', 'V_5', 'AP_5', 'AV_5', 'BP_5', 'BV_5',\n",
    "            'O_4', 'H_4', 'L_4', 'C_4', 'V_4', 'AP_4', 'AV_4', 'BP_4', 'BV_4',\n",
    "            'O_3', 'H_3', 'L_3', 'C_3', 'V_3', 'AP_3', 'AV_3', 'BP_3', 'BV_3',\n",
    "            'O_2', 'H_2', 'L_2', 'C_2', 'V_2', 'AP_2', 'AV_2', 'BP_2', 'BV_2',\n",
    "            'O_1', 'H_1', 'L_1', 'C_1', 'V_1', 'AP_1', 'AV_1', 'BP_1', 'BV_1', \n",
    "            'O', 'H', 'L', 'C', 'V', 'AP', 'AV', 'BP', 'BV']\n",
    "\n",
    "dataset = DataFrameDataset(\n",
    "    dataframe=bar_df[bar_df['K'] >= 0],\n",
    "    feature_cols=FEA_COLS,\n",
    "    label_col='K',\n",
    "    device='cuda' if torch.cuda.is_available() else 'cpu'\n",
    ")\n",
    "len(dataset)"
   ]
  },
  {
   "cell_type": "code",
   "execution_count": 53,
   "id": "2c8a1af9-087c-4e63-8a08-273f761fce4b",
   "metadata": {},
   "outputs": [
    {
     "data": {
      "text/plain": [
       "device(type='cpu')"
      ]
     },
     "execution_count": 53,
     "metadata": {},
     "output_type": "execute_result"
    }
   ],
   "source": [
    "device = torch.device(\"cuda\" if torch.cuda.is_available() else \"cpu\")\n",
    "device"
   ]
  },
  {
   "cell_type": "code",
   "execution_count": 54,
   "id": "14f820ab-62b2-4c98-ab4e-f31151c03719",
   "metadata": {},
   "outputs": [
    {
     "data": {
      "text/plain": [
       "(tensor([  1272.0000,   1274.0000,   1271.0000,   1273.0000,   2017.0000,\n",
       "           1273.3580,  60302.0000,   1272.2410,  37211.0000,   1273.0000,\n",
       "           1274.0000,   1272.0000,   1274.0000,   2116.0000,   1273.9310,\n",
       "          56694.0000,   1272.8330,  57743.0000,   1273.0000,   1276.0000,\n",
       "           1273.0000,   1275.0000,   3327.0000,   1274.9189,  51697.0000,\n",
       "           1273.4810,  65016.0000,   1276.0000,   1276.0000,   1274.0000,\n",
       "           1275.0000,   2732.0000,   1275.9180,  42182.0000,   1274.1510,\n",
       "          56885.0000,   1274.0000,   1276.0000,   1274.0000,   1276.0000,\n",
       "           1764.0000,   1275.9100,  55445.0000,   1274.7820,  59781.0000,\n",
       "           1275.0000,   1276.0000,   1274.0000,   1275.0000,   1332.0000,\n",
       "           1275.9860,  89067.0000,   1274.9301,  57241.0000,   1275.0000,\n",
       "           1276.0000,   1275.0000,   1275.0000,    495.0000,   1276.0000,\n",
       "         123868.0000,   1275.0000, 130325.0000,   1275.0000,   1277.0000,\n",
       "           1275.0000,   1277.0000,   3095.0000,   1276.8750, 108772.0000,\n",
       "           1275.8710, 102387.0000,   1277.0000,   1278.0000,   1276.0000,\n",
       "           1277.0000,   4963.0000,   1277.3669,  52560.0000,   1276.1710,\n",
       "          63689.0000,   1278.0000,   1278.0000,   1276.0000,   1276.0000,\n",
       "            681.0000,   1278.0000,    218.0000,   1276.0000,    152.0000]),\n",
       " tensor(4))"
      ]
     },
     "execution_count": 54,
     "metadata": {},
     "output_type": "execute_result"
    }
   ],
   "source": [
    "dataset[0]"
   ]
  },
  {
   "cell_type": "code",
   "execution_count": 55,
   "id": "402f2b56-f457-4c85-a64e-c990148e357e",
   "metadata": {},
   "outputs": [
    {
     "data": {
      "text/plain": [
       "(3140, 2, 90)"
      ]
     },
     "execution_count": 55,
     "metadata": {},
     "output_type": "execute_result"
    }
   ],
   "source": [
    "len(dataset), len(dataset[0]), len(dataset[0][0])"
   ]
  },
  {
   "cell_type": "code",
   "execution_count": 56,
   "id": "0b0285c1-3238-42a9-ae10-8a134f9e221e",
   "metadata": {},
   "outputs": [
    {
     "name": "stdout",
     "output_type": "stream",
     "text": [
      "2512 628\n",
      "2512 628\n"
     ]
    }
   ],
   "source": [
    "# 划分训练集和测试集\n",
    "train_size = int(0.8 * len(dataset))\n",
    "test_size = len(dataset) - train_size\n",
    "print(train_size, test_size)\n",
    "\n",
    "train_dataset, test_dataset = random_split(dataset, [train_size, test_size])\n",
    "print(len(train_dataset), len(test_dataset))\n",
    "\n",
    "# 创建 DataLoader\n",
    "train_dataloader = DataLoader(train_dataset, batch_size=64, shuffle=True)\n",
    "test_dataloader = DataLoader(test_dataset, batch_size=64, shuffle=True)"
   ]
  },
  {
   "cell_type": "code",
   "execution_count": 57,
   "id": "5f2d4bb0-576b-4ac2-8d76-38d243231725",
   "metadata": {},
   "outputs": [
    {
     "name": "stdout",
     "output_type": "stream",
     "text": [
      "feature batch shape: torch.Size([64, 90])\n",
      "labels batch shape: torch.Size([64])\n"
     ]
    }
   ],
   "source": [
    "train_features, train_labels = next(iter(train_dataloader))\n",
    "print(f\"feature batch shape: {train_features.size()}\")\n",
    "print(f\"labels batch shape: {train_labels.size()}\")"
   ]
  },
  {
   "cell_type": "code",
   "execution_count": 58,
   "id": "c0bd15e0-fcee-466e-8224-29eb714eb7a4",
   "metadata": {},
   "outputs": [
    {
     "data": {
      "text/plain": [
       "tensor([[ 1171.0000,  1171.0000,  1170.0000,  ..., 10456.0000,  1166.5050,\n",
       "          5410.0000],\n",
       "        [ 1221.0000,  1222.0000,  1220.0000,  ...,  5099.0000,  1220.9180,\n",
       "          8777.0000],\n",
       "        [ 1229.0000,  1230.0000,  1228.0000,  ...,  5886.0000,  1225.0150,\n",
       "         28191.0000],\n",
       "        ...,\n",
       "        [ 1214.0000,  1214.0000,  1214.0000,  ...,  9462.0000,  1214.8270,\n",
       "          9728.0000],\n",
       "        [ 1245.0000,  1245.0000,  1243.0000,  ..., 39123.0000,  1242.9460,\n",
       "         38292.0000],\n",
       "        [ 1171.0000,  1171.0000,  1170.0000,  ..., 10891.0000,  1168.0250,\n",
       "          8730.0000]])"
      ]
     },
     "execution_count": 58,
     "metadata": {},
     "output_type": "execute_result"
    }
   ],
   "source": [
    "x = nn.Flatten()(train_features)\n",
    "x"
   ]
  },
  {
   "cell_type": "code",
   "execution_count": 59,
   "id": "fa434638-1a47-4061-8599-80cd3dbddf9b",
   "metadata": {},
   "outputs": [],
   "source": [
    "# -----------------------------\n",
    "# 3. 定义神经网络模型\n",
    "# -----------------------------\n",
    "class NeuralNetwork(nn.Module):\n",
    "    def __init__(self, input_dim, num_classes):\n",
    "        super().__init__()\n",
    "        self.model = nn.Sequential(\n",
    "            nn.Linear(input_dim, 128),\n",
    "            nn.ReLU(),\n",
    "            nn.Dropout(0.3),\n",
    "            nn.Linear(128, 64),\n",
    "            nn.ReLU(),\n",
    "            nn.Linear(64, num_classes)\n",
    "        )\n",
    "\n",
    "    def forward(self, x):\n",
    "        logits = self.model(x)\n",
    "        return logits\n"
   ]
  },
  {
   "cell_type": "code",
   "execution_count": 60,
   "id": "d5c111c1-0002-4652-aa41-08dde9b8d24b",
   "metadata": {},
   "outputs": [
    {
     "data": {
      "text/plain": [
       "NeuralNetwork(\n",
       "  (model): Sequential(\n",
       "    (0): Linear(in_features=90, out_features=128, bias=True)\n",
       "    (1): ReLU()\n",
       "    (2): Dropout(p=0.3, inplace=False)\n",
       "    (3): Linear(in_features=128, out_features=64, bias=True)\n",
       "    (4): ReLU()\n",
       "    (5): Linear(in_features=64, out_features=10, bias=True)\n",
       "  )\n",
       ")"
      ]
     },
     "execution_count": 60,
     "metadata": {},
     "output_type": "execute_result"
    }
   ],
   "source": [
    "model = NeuralNetwork(input_dim=90, num_classes=10)\n",
    "\n",
    "device = torch.device(\"cuda\" if torch.cuda.is_available() else \"cpu\")\n",
    "model.to(device)\n"
   ]
  },
  {
   "cell_type": "code",
   "execution_count": 61,
   "id": "9c9f9632-b8c9-49e0-91f9-74f807daf846",
   "metadata": {},
   "outputs": [],
   "source": [
    "# -----------------------------\n",
    "# 4. 设置损失函数和优化器\n",
    "# -----------------------------\n",
    "criterion = nn.CrossEntropyLoss()\n",
    "optimizer = optim.Adam(model.parameters(), lr=0.001)\n"
   ]
  },
  {
   "cell_type": "code",
   "execution_count": 62,
   "id": "63b056a7-4c65-4f12-879a-7ad50fe699a0",
   "metadata": {},
   "outputs": [],
   "source": [
    "# -----------------------------\n",
    "# 5. 训练模型\n",
    "# -----------------------------\n",
    "def train_model(model, train_loader, criterion, optimizer, epochs=20):\n",
    "    model.train()\n",
    "    for epoch in range(epochs):\n",
    "        total_loss = 0\n",
    "        correct = 0\n",
    "        total = 0\n",
    "\n",
    "        for inputs, labels in train_loader:\n",
    "            inputs, labels = inputs.to(device), labels.to(device)\n",
    "\n",
    "            optimizer.zero_grad()\n",
    "            outputs = model(inputs)\n",
    "            loss = criterion(outputs, labels)\n",
    "            loss.backward()\n",
    "            optimizer.step()\n",
    "\n",
    "            total_loss += loss.item()\n",
    "            _, predicted = torch.max(outputs.data, 1)\n",
    "            correct += (predicted == labels).sum().item()\n",
    "            total += labels.size(0)\n",
    "\n",
    "        accuracy = 100. * correct / total\n",
    "        print(f\"Epoch {epoch+1}/{epochs}, Loss: {total_loss:.4f}, Accuracy: {accuracy:.2f}%\")\n",
    "\n"
   ]
  },
  {
   "cell_type": "code",
   "execution_count": 63,
   "id": "bc6ae97c-3ca2-4f31-af14-80c28e094312",
   "metadata": {},
   "outputs": [
    {
     "name": "stdout",
     "output_type": "stream",
     "text": [
      "Epoch 1/20, Loss: 25062.3834, Accuracy: 31.37%\n",
      "Epoch 2/20, Loss: 7253.6832, Accuracy: 30.49%\n",
      "Epoch 3/20, Loss: 3632.8298, Accuracy: 29.82%\n",
      "Epoch 4/20, Loss: 1569.8861, Accuracy: 21.18%\n",
      "Epoch 5/20, Loss: 621.4439, Accuracy: 26.79%\n",
      "Epoch 6/20, Loss: 335.5015, Accuracy: 42.83%\n",
      "Epoch 7/20, Loss: 248.8836, Accuracy: 47.17%\n",
      "Epoch 8/20, Loss: 182.5912, Accuracy: 47.81%\n",
      "Epoch 9/20, Loss: 140.1641, Accuracy: 49.56%\n",
      "Epoch 10/20, Loss: 129.1226, Accuracy: 49.16%\n",
      "Epoch 11/20, Loss: 108.6476, Accuracy: 49.44%\n",
      "Epoch 12/20, Loss: 119.7519, Accuracy: 49.24%\n",
      "Epoch 13/20, Loss: 90.7290, Accuracy: 49.96%\n",
      "Epoch 14/20, Loss: 92.0454, Accuracy: 49.92%\n",
      "Epoch 15/20, Loss: 86.2290, Accuracy: 49.96%\n",
      "Epoch 16/20, Loss: 84.0033, Accuracy: 49.72%\n",
      "Epoch 17/20, Loss: 83.3054, Accuracy: 50.04%\n",
      "Epoch 18/20, Loss: 83.1913, Accuracy: 50.24%\n",
      "Epoch 19/20, Loss: 76.9574, Accuracy: 50.16%\n",
      "Epoch 20/20, Loss: 83.4599, Accuracy: 49.96%\n"
     ]
    }
   ],
   "source": [
    "train_model(model, train_dataloader, criterion, optimizer, epochs=20)\n"
   ]
  },
  {
   "cell_type": "code",
   "execution_count": 65,
   "id": "1e95c34b-c7e3-441f-a5f9-ba79e89b3622",
   "metadata": {},
   "outputs": [],
   "source": [
    "# -----------------------------\n",
    "# 6. 测试模型（可选）\n",
    "# -----------------------------\n",
    "def evaluate_model(model, test_loader):\n",
    "    model.eval()\n",
    "    correct = 0\n",
    "    total = 0\n",
    "    with torch.no_grad():\n",
    "        for inputs, labels in test_loader:\n",
    "            inputs, labels = inputs.to(device), labels.to(device)\n",
    "            outputs = model(inputs)\n",
    "            _, predicted = torch.max(outputs.data, 1)\n",
    "            correct += (predicted == labels).sum().item()\n",
    "            total += labels.size(0)\n",
    "    accuracy = 100. * correct / total\n",
    "    print(f\"Test Accuracy: {accuracy:.2f}%\")\n",
    "\n"
   ]
  },
  {
   "cell_type": "code",
   "execution_count": 66,
   "id": "ba44177c-f616-4fc6-b430-91469e2fc219",
   "metadata": {},
   "outputs": [
    {
     "name": "stdout",
     "output_type": "stream",
     "text": [
      "Test Accuracy: 50.32%\n"
     ]
    }
   ],
   "source": [
    "evaluate_model(model, test_dataloader)"
   ]
  },
  {
   "cell_type": "code",
   "execution_count": null,
   "id": "08b912b9-26c9-4205-840c-7663d48d0316",
   "metadata": {},
   "outputs": [],
   "source": []
  }
 ],
 "metadata": {
  "kernelspec": {
   "display_name": "Python3.11 (ctp)",
   "language": "python",
   "name": "ctp-py311"
  },
  "language_info": {
   "codemirror_mode": {
    "name": "ipython",
    "version": 3
   },
   "file_extension": ".py",
   "mimetype": "text/x-python",
   "name": "python",
   "nbconvert_exporter": "python",
   "pygments_lexer": "ipython3",
   "version": "3.11.4"
  }
 },
 "nbformat": 4,
 "nbformat_minor": 5
}
