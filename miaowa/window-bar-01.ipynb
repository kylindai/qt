{
 "cells": [
  {
   "cell_type": "code",
   "execution_count": 1,
   "id": "658d331b-0299-407e-ac11-345ce735beb9",
   "metadata": {},
   "outputs": [
    {
     "name": "stdout",
     "output_type": "stream",
     "text": [
      "scipy 1.15.2\n",
      "numpy 1.26.4\n",
      "pandas 2.2.3\n",
      "matplotlib 3.10.1\n"
     ]
    }
   ],
   "source": [
    "import scipy\n",
    "import numpy as np\n",
    "import pandas as pd\n",
    "\n",
    "import matplotlib\n",
    "import matplotlib.pyplot as plt\n",
    "\n",
    "for m in [scipy, np, pd, matplotlib]:\n",
    "    print(m.__name__, m.__version__)\n",
    "\n",
    "from scipy.signal import savgol_filter\n",
    "from scipy.signal import argrelextrema\n",
    "from scipy.signal import find_peaks\n",
    "\n",
    "from funcs.factor_utils import FactorUtil"
   ]
  },
  {
   "cell_type": "code",
   "execution_count": 2,
   "id": "a126b53e-2d14-4a4a-9371-7a7c083a0ab2",
   "metadata": {},
   "outputs": [
    {
     "data": {
      "text/html": [
       "<div>\n",
       "<style scoped>\n",
       "    .dataframe tbody tr th:only-of-type {\n",
       "        vertical-align: middle;\n",
       "    }\n",
       "\n",
       "    .dataframe tbody tr th {\n",
       "        vertical-align: top;\n",
       "    }\n",
       "\n",
       "    .dataframe thead th {\n",
       "        text-align: right;\n",
       "    }\n",
       "</style>\n",
       "<table border=\"1\" class=\"dataframe\">\n",
       "  <thead>\n",
       "    <tr style=\"text-align: right;\">\n",
       "      <th></th>\n",
       "      <th>O</th>\n",
       "      <th>H</th>\n",
       "      <th>L</th>\n",
       "      <th>C</th>\n",
       "      <th>V</th>\n",
       "      <th>AP</th>\n",
       "      <th>AV</th>\n",
       "      <th>BP</th>\n",
       "      <th>BV</th>\n",
       "    </tr>\n",
       "    <tr>\n",
       "      <th>ts</th>\n",
       "      <th></th>\n",
       "      <th></th>\n",
       "      <th></th>\n",
       "      <th></th>\n",
       "      <th></th>\n",
       "      <th></th>\n",
       "      <th></th>\n",
       "      <th></th>\n",
       "      <th></th>\n",
       "    </tr>\n",
       "  </thead>\n",
       "  <tbody>\n",
       "    <tr>\n",
       "      <th>2024-08-13 09:00:00</th>\n",
       "      <td>1278.0</td>\n",
       "      <td>1278.0</td>\n",
       "      <td>1276.0</td>\n",
       "      <td>1276.0</td>\n",
       "      <td>681</td>\n",
       "      <td>1278.000</td>\n",
       "      <td>218</td>\n",
       "      <td>1276.000</td>\n",
       "      <td>152</td>\n",
       "    </tr>\n",
       "    <tr>\n",
       "      <th>2024-08-13 09:01:00</th>\n",
       "      <td>1277.0</td>\n",
       "      <td>1282.0</td>\n",
       "      <td>1276.0</td>\n",
       "      <td>1278.0</td>\n",
       "      <td>5557</td>\n",
       "      <td>1279.737</td>\n",
       "      <td>21421</td>\n",
       "      <td>1278.345</td>\n",
       "      <td>17282</td>\n",
       "    </tr>\n",
       "    <tr>\n",
       "      <th>2024-08-13 09:02:00</th>\n",
       "      <td>1278.0</td>\n",
       "      <td>1279.0</td>\n",
       "      <td>1276.0</td>\n",
       "      <td>1278.0</td>\n",
       "      <td>1634</td>\n",
       "      <td>1278.102</td>\n",
       "      <td>43934</td>\n",
       "      <td>1277.119</td>\n",
       "      <td>31489</td>\n",
       "    </tr>\n",
       "    <tr>\n",
       "      <th>2024-08-13 09:03:00</th>\n",
       "      <td>1277.0</td>\n",
       "      <td>1282.0</td>\n",
       "      <td>1277.0</td>\n",
       "      <td>1281.0</td>\n",
       "      <td>3749</td>\n",
       "      <td>1280.911</td>\n",
       "      <td>33442</td>\n",
       "      <td>1279.997</td>\n",
       "      <td>33766</td>\n",
       "    </tr>\n",
       "    <tr>\n",
       "      <th>2024-08-13 09:04:00</th>\n",
       "      <td>1281.0</td>\n",
       "      <td>1281.0</td>\n",
       "      <td>1279.0</td>\n",
       "      <td>1280.0</td>\n",
       "      <td>1619</td>\n",
       "      <td>1280.149</td>\n",
       "      <td>41884</td>\n",
       "      <td>1279.158</td>\n",
       "      <td>46279</td>\n",
       "    </tr>\n",
       "  </tbody>\n",
       "</table>\n",
       "</div>"
      ],
      "text/plain": [
       "                          O       H       L       C     V        AP     AV  \\\n",
       "ts                                                                           \n",
       "2024-08-13 09:00:00  1278.0  1278.0  1276.0  1276.0   681  1278.000    218   \n",
       "2024-08-13 09:01:00  1277.0  1282.0  1276.0  1278.0  5557  1279.737  21421   \n",
       "2024-08-13 09:02:00  1278.0  1279.0  1276.0  1278.0  1634  1278.102  43934   \n",
       "2024-08-13 09:03:00  1277.0  1282.0  1277.0  1281.0  3749  1280.911  33442   \n",
       "2024-08-13 09:04:00  1281.0  1281.0  1279.0  1280.0  1619  1280.149  41884   \n",
       "\n",
       "                           BP     BV  \n",
       "ts                                    \n",
       "2024-08-13 09:00:00  1276.000    152  \n",
       "2024-08-13 09:01:00  1278.345  17282  \n",
       "2024-08-13 09:02:00  1277.119  31489  \n",
       "2024-08-13 09:03:00  1279.997  33766  \n",
       "2024-08-13 09:04:00  1279.158  46279  "
      ]
     },
     "execution_count": 2,
     "metadata": {},
     "output_type": "execute_result"
    }
   ],
   "source": [
    "bar_df_1 = FactorUtil.get_bar_df('FG2409_MIN_1', '20240813', '00:00:00', 300)\n",
    "bar_df_1.head()"
   ]
  },
  {
   "cell_type": "code",
   "execution_count": 4,
   "id": "08dd0683-41d8-4f04-97fc-f91b86376894",
   "metadata": {},
   "outputs": [
    {
     "data": {
      "text/html": [
       "<div>\n",
       "<style scoped>\n",
       "    .dataframe tbody tr th:only-of-type {\n",
       "        vertical-align: middle;\n",
       "    }\n",
       "\n",
       "    .dataframe tbody tr th {\n",
       "        vertical-align: top;\n",
       "    }\n",
       "\n",
       "    .dataframe thead th {\n",
       "        text-align: right;\n",
       "    }\n",
       "</style>\n",
       "<table border=\"1\" class=\"dataframe\">\n",
       "  <thead>\n",
       "    <tr style=\"text-align: right;\">\n",
       "      <th></th>\n",
       "      <th>O_3</th>\n",
       "      <th>H_3</th>\n",
       "      <th>L_3</th>\n",
       "      <th>C_3</th>\n",
       "      <th>V_3</th>\n",
       "      <th>O</th>\n",
       "      <th>H</th>\n",
       "      <th>L</th>\n",
       "      <th>C</th>\n",
       "      <th>V</th>\n",
       "      <th>AP</th>\n",
       "      <th>AV</th>\n",
       "      <th>BP</th>\n",
       "      <th>BV</th>\n",
       "    </tr>\n",
       "    <tr>\n",
       "      <th>ts</th>\n",
       "      <th></th>\n",
       "      <th></th>\n",
       "      <th></th>\n",
       "      <th></th>\n",
       "      <th></th>\n",
       "      <th></th>\n",
       "      <th></th>\n",
       "      <th></th>\n",
       "      <th></th>\n",
       "      <th></th>\n",
       "      <th></th>\n",
       "      <th></th>\n",
       "      <th></th>\n",
       "      <th></th>\n",
       "    </tr>\n",
       "  </thead>\n",
       "  <tbody>\n",
       "    <tr>\n",
       "      <th>2024-08-13 09:00:00</th>\n",
       "      <td>NaN</td>\n",
       "      <td>NaN</td>\n",
       "      <td>NaN</td>\n",
       "      <td>NaN</td>\n",
       "      <td>NaN</td>\n",
       "      <td>1278.0</td>\n",
       "      <td>1278.0</td>\n",
       "      <td>1276.0</td>\n",
       "      <td>1276.0</td>\n",
       "      <td>681</td>\n",
       "      <td>1278.000</td>\n",
       "      <td>218</td>\n",
       "      <td>1276.000</td>\n",
       "      <td>152</td>\n",
       "    </tr>\n",
       "    <tr>\n",
       "      <th>2024-08-13 09:01:00</th>\n",
       "      <td>NaN</td>\n",
       "      <td>NaN</td>\n",
       "      <td>NaN</td>\n",
       "      <td>NaN</td>\n",
       "      <td>NaN</td>\n",
       "      <td>1277.0</td>\n",
       "      <td>1282.0</td>\n",
       "      <td>1276.0</td>\n",
       "      <td>1278.0</td>\n",
       "      <td>5557</td>\n",
       "      <td>1279.737</td>\n",
       "      <td>21421</td>\n",
       "      <td>1278.345</td>\n",
       "      <td>17282</td>\n",
       "    </tr>\n",
       "    <tr>\n",
       "      <th>2024-08-13 09:02:00</th>\n",
       "      <td>NaN</td>\n",
       "      <td>NaN</td>\n",
       "      <td>NaN</td>\n",
       "      <td>NaN</td>\n",
       "      <td>NaN</td>\n",
       "      <td>1278.0</td>\n",
       "      <td>1279.0</td>\n",
       "      <td>1276.0</td>\n",
       "      <td>1278.0</td>\n",
       "      <td>1634</td>\n",
       "      <td>1278.102</td>\n",
       "      <td>43934</td>\n",
       "      <td>1277.119</td>\n",
       "      <td>31489</td>\n",
       "    </tr>\n",
       "    <tr>\n",
       "      <th>2024-08-13 09:03:00</th>\n",
       "      <td>1278.0</td>\n",
       "      <td>1278.0</td>\n",
       "      <td>1276.0</td>\n",
       "      <td>1276.0</td>\n",
       "      <td>681.0</td>\n",
       "      <td>1277.0</td>\n",
       "      <td>1282.0</td>\n",
       "      <td>1277.0</td>\n",
       "      <td>1281.0</td>\n",
       "      <td>3749</td>\n",
       "      <td>1280.911</td>\n",
       "      <td>33442</td>\n",
       "      <td>1279.997</td>\n",
       "      <td>33766</td>\n",
       "    </tr>\n",
       "    <tr>\n",
       "      <th>2024-08-13 09:04:00</th>\n",
       "      <td>1277.0</td>\n",
       "      <td>1282.0</td>\n",
       "      <td>1276.0</td>\n",
       "      <td>1278.0</td>\n",
       "      <td>5557.0</td>\n",
       "      <td>1281.0</td>\n",
       "      <td>1281.0</td>\n",
       "      <td>1279.0</td>\n",
       "      <td>1280.0</td>\n",
       "      <td>1619</td>\n",
       "      <td>1280.149</td>\n",
       "      <td>41884</td>\n",
       "      <td>1279.158</td>\n",
       "      <td>46279</td>\n",
       "    </tr>\n",
       "  </tbody>\n",
       "</table>\n",
       "</div>"
      ],
      "text/plain": [
       "                        O_3     H_3     L_3     C_3     V_3       O       H  \\\n",
       "ts                                                                            \n",
       "2024-08-13 09:00:00     NaN     NaN     NaN     NaN     NaN  1278.0  1278.0   \n",
       "2024-08-13 09:01:00     NaN     NaN     NaN     NaN     NaN  1277.0  1282.0   \n",
       "2024-08-13 09:02:00     NaN     NaN     NaN     NaN     NaN  1278.0  1279.0   \n",
       "2024-08-13 09:03:00  1278.0  1278.0  1276.0  1276.0   681.0  1277.0  1282.0   \n",
       "2024-08-13 09:04:00  1277.0  1282.0  1276.0  1278.0  5557.0  1281.0  1281.0   \n",
       "\n",
       "                          L       C     V        AP     AV        BP     BV  \n",
       "ts                                                                           \n",
       "2024-08-13 09:00:00  1276.0  1276.0   681  1278.000    218  1276.000    152  \n",
       "2024-08-13 09:01:00  1276.0  1278.0  5557  1279.737  21421  1278.345  17282  \n",
       "2024-08-13 09:02:00  1276.0  1278.0  1634  1278.102  43934  1277.119  31489  \n",
       "2024-08-13 09:03:00  1277.0  1281.0  3749  1280.911  33442  1279.997  33766  \n",
       "2024-08-13 09:04:00  1279.0  1280.0  1619  1280.149  41884  1279.158  46279  "
      ]
     },
     "execution_count": 4,
     "metadata": {},
     "output_type": "execute_result"
    }
   ],
   "source": [
    "bar_df_2 = FactorUtil.concat_shift_df(bar_df_1, 3, ['O', 'H', 'L', 'C', 'V'])\n",
    "bar_df_2.head()"
   ]
  },
  {
   "cell_type": "code",
   "execution_count": 6,
   "id": "79d0fe5d-45fa-4221-9f10-cc7dc215087c",
   "metadata": {},
   "outputs": [
    {
     "name": "stdout",
     "output_type": "stream",
     "text": [
      "20240812 22:51:00\n"
     ]
    },
    {
     "data": {
      "text/plain": [
       "Index(['O_9', 'H_9', 'L_9', 'C_9', 'V_9', 'AP_9', 'AV_9', 'BP_9', 'BV_9',\n",
       "       'O_8', 'H_8', 'L_8', 'C_8', 'V_8', 'AP_8', 'AV_8', 'BP_8', 'BV_8',\n",
       "       'O_7', 'H_7', 'L_7', 'C_7', 'V_7', 'AP_7', 'AV_7', 'BP_7', 'BV_7',\n",
       "       'O_6', 'H_6', 'L_6', 'C_6', 'V_6', 'AP_6', 'AV_6', 'BP_6', 'BV_6',\n",
       "       'O_5', 'H_5', 'L_5', 'C_5', 'V_5', 'AP_5', 'AV_5', 'BP_5', 'BV_5',\n",
       "       'O_4', 'H_4', 'L_4', 'C_4', 'V_4', 'AP_4', 'AV_4', 'BP_4', 'BV_4',\n",
       "       'O_3', 'H_3', 'L_3', 'C_3', 'V_3', 'AP_3', 'AV_3', 'BP_3', 'BV_3',\n",
       "       'O_2', 'H_2', 'L_2', 'C_2', 'V_2', 'AP_2', 'AV_2', 'BP_2', 'BV_2',\n",
       "       'O_1', 'H_1', 'L_1', 'C_1', 'V_1', 'AP_1', 'AV_1', 'BP_1', 'BV_1', 'O',\n",
       "       'H', 'L', 'C', 'V', 'AP', 'AV', 'BP', 'BV'],\n",
       "      dtype='object')"
      ]
     },
     "execution_count": 6,
     "metadata": {},
     "output_type": "execute_result"
    }
   ],
   "source": [
    "bar_df_3 = FactorUtil.get_window_bar_df('FG2409_MIN_1', '20240813')\n",
    "bar_df_3.columns"
   ]
  },
  {
   "cell_type": "code",
   "execution_count": 8,
   "id": "3e58b1b0-01ec-4aa0-8f2f-d838841e239a",
   "metadata": {},
   "outputs": [
    {
     "data": {
      "text/plain": [
       "(3141, 90)"
      ]
     },
     "execution_count": 8,
     "metadata": {},
     "output_type": "execute_result"
    }
   ],
   "source": [
    "bar_df_3.shape"
   ]
  },
  {
   "cell_type": "code",
   "execution_count": 9,
   "id": "4057f1e0-aaf9-4f4d-9b26-5ea313f71a67",
   "metadata": {},
   "outputs": [
    {
     "name": "stdout",
     "output_type": "stream",
     "text": [
      "20240812 22:46:00\n"
     ]
    },
    {
     "data": {
      "text/plain": [
       "Index(['O_14', 'H_14', 'L_14', 'C_14', 'V_14', 'AP_14', 'AV_14', 'BP_14',\n",
       "       'BV_14', 'O_13',\n",
       "       ...\n",
       "       'BV_1', 'O', 'H', 'L', 'C', 'V', 'AP', 'AV', 'BP', 'BV'],\n",
       "      dtype='object', length=135)"
      ]
     },
     "execution_count": 9,
     "metadata": {},
     "output_type": "execute_result"
    }
   ],
   "source": [
    "bar_df_4 = FactorUtil.get_window_bar_df('FG2409_MIN_1', '20240813', window_period=15)\n",
    "bar_df_4.columns"
   ]
  },
  {
   "cell_type": "code",
   "execution_count": 10,
   "id": "d72fdfd0-aa38-4671-a1b7-4157f2596383",
   "metadata": {},
   "outputs": [
    {
     "data": {
      "text/plain": [
       "(3141, 135)"
      ]
     },
     "execution_count": 10,
     "metadata": {},
     "output_type": "execute_result"
    }
   ],
   "source": [
    "bar_df_4.shape"
   ]
  },
  {
   "cell_type": "code",
   "execution_count": 11,
   "id": "d9c63e05-610e-4cff-b6a0-72638c843746",
   "metadata": {},
   "outputs": [],
   "source": [
    "bar_df_4.to_csv('./data/FG2409_MIN_1_W15.csv', index=True)"
   ]
  },
  {
   "cell_type": "code",
   "execution_count": 12,
   "id": "fc57271d-8467-409d-a0e2-04aa8b0d780c",
   "metadata": {},
   "outputs": [
    {
     "data": {
      "text/html": [
       "<div>\n",
       "<style scoped>\n",
       "    .dataframe tbody tr th:only-of-type {\n",
       "        vertical-align: middle;\n",
       "    }\n",
       "\n",
       "    .dataframe tbody tr th {\n",
       "        vertical-align: top;\n",
       "    }\n",
       "\n",
       "    .dataframe thead th {\n",
       "        text-align: right;\n",
       "    }\n",
       "</style>\n",
       "<table border=\"1\" class=\"dataframe\">\n",
       "  <thead>\n",
       "    <tr style=\"text-align: right;\">\n",
       "      <th></th>\n",
       "      <th>O_9</th>\n",
       "      <th>H_9</th>\n",
       "      <th>L_9</th>\n",
       "      <th>C_9</th>\n",
       "      <th>V_9</th>\n",
       "      <th>AP_9</th>\n",
       "      <th>AV_9</th>\n",
       "      <th>BP_9</th>\n",
       "      <th>BV_9</th>\n",
       "      <th>O_8</th>\n",
       "      <th>...</th>\n",
       "      <th>BV_1</th>\n",
       "      <th>O</th>\n",
       "      <th>H</th>\n",
       "      <th>L</th>\n",
       "      <th>C</th>\n",
       "      <th>V</th>\n",
       "      <th>AP</th>\n",
       "      <th>AV</th>\n",
       "      <th>BP</th>\n",
       "      <th>BV</th>\n",
       "    </tr>\n",
       "    <tr>\n",
       "      <th>ts</th>\n",
       "      <th></th>\n",
       "      <th></th>\n",
       "      <th></th>\n",
       "      <th></th>\n",
       "      <th></th>\n",
       "      <th></th>\n",
       "      <th></th>\n",
       "      <th></th>\n",
       "      <th></th>\n",
       "      <th></th>\n",
       "      <th></th>\n",
       "      <th></th>\n",
       "      <th></th>\n",
       "      <th></th>\n",
       "      <th></th>\n",
       "      <th></th>\n",
       "      <th></th>\n",
       "      <th></th>\n",
       "      <th></th>\n",
       "      <th></th>\n",
       "      <th></th>\n",
       "    </tr>\n",
       "  </thead>\n",
       "  <tbody>\n",
       "    <tr>\n",
       "      <th>2024-08-13 09:00:00</th>\n",
       "      <td>1272.0</td>\n",
       "      <td>1274.0</td>\n",
       "      <td>1271.0</td>\n",
       "      <td>1273.0</td>\n",
       "      <td>2017.0</td>\n",
       "      <td>1273.358</td>\n",
       "      <td>60302.0</td>\n",
       "      <td>1272.241</td>\n",
       "      <td>37211.0</td>\n",
       "      <td>1273.0</td>\n",
       "      <td>...</td>\n",
       "      <td>63689.0</td>\n",
       "      <td>1278.0</td>\n",
       "      <td>1278.0</td>\n",
       "      <td>1276.0</td>\n",
       "      <td>1276.0</td>\n",
       "      <td>681</td>\n",
       "      <td>1278.000</td>\n",
       "      <td>218</td>\n",
       "      <td>1276.000</td>\n",
       "      <td>152</td>\n",
       "    </tr>\n",
       "    <tr>\n",
       "      <th>2024-08-13 09:01:00</th>\n",
       "      <td>1273.0</td>\n",
       "      <td>1274.0</td>\n",
       "      <td>1272.0</td>\n",
       "      <td>1274.0</td>\n",
       "      <td>2116.0</td>\n",
       "      <td>1273.931</td>\n",
       "      <td>56694.0</td>\n",
       "      <td>1272.833</td>\n",
       "      <td>57743.0</td>\n",
       "      <td>1273.0</td>\n",
       "      <td>...</td>\n",
       "      <td>152.0</td>\n",
       "      <td>1277.0</td>\n",
       "      <td>1282.0</td>\n",
       "      <td>1276.0</td>\n",
       "      <td>1278.0</td>\n",
       "      <td>5557</td>\n",
       "      <td>1279.737</td>\n",
       "      <td>21421</td>\n",
       "      <td>1278.345</td>\n",
       "      <td>17282</td>\n",
       "    </tr>\n",
       "    <tr>\n",
       "      <th>2024-08-13 09:02:00</th>\n",
       "      <td>1273.0</td>\n",
       "      <td>1276.0</td>\n",
       "      <td>1273.0</td>\n",
       "      <td>1275.0</td>\n",
       "      <td>3327.0</td>\n",
       "      <td>1274.919</td>\n",
       "      <td>51697.0</td>\n",
       "      <td>1273.481</td>\n",
       "      <td>65016.0</td>\n",
       "      <td>1276.0</td>\n",
       "      <td>...</td>\n",
       "      <td>17282.0</td>\n",
       "      <td>1278.0</td>\n",
       "      <td>1279.0</td>\n",
       "      <td>1276.0</td>\n",
       "      <td>1278.0</td>\n",
       "      <td>1634</td>\n",
       "      <td>1278.102</td>\n",
       "      <td>43934</td>\n",
       "      <td>1277.119</td>\n",
       "      <td>31489</td>\n",
       "    </tr>\n",
       "    <tr>\n",
       "      <th>2024-08-13 09:03:00</th>\n",
       "      <td>1276.0</td>\n",
       "      <td>1276.0</td>\n",
       "      <td>1274.0</td>\n",
       "      <td>1275.0</td>\n",
       "      <td>2732.0</td>\n",
       "      <td>1275.918</td>\n",
       "      <td>42182.0</td>\n",
       "      <td>1274.151</td>\n",
       "      <td>56885.0</td>\n",
       "      <td>1274.0</td>\n",
       "      <td>...</td>\n",
       "      <td>31489.0</td>\n",
       "      <td>1277.0</td>\n",
       "      <td>1282.0</td>\n",
       "      <td>1277.0</td>\n",
       "      <td>1281.0</td>\n",
       "      <td>3749</td>\n",
       "      <td>1280.911</td>\n",
       "      <td>33442</td>\n",
       "      <td>1279.997</td>\n",
       "      <td>33766</td>\n",
       "    </tr>\n",
       "    <tr>\n",
       "      <th>2024-08-13 09:04:00</th>\n",
       "      <td>1274.0</td>\n",
       "      <td>1276.0</td>\n",
       "      <td>1274.0</td>\n",
       "      <td>1276.0</td>\n",
       "      <td>1764.0</td>\n",
       "      <td>1275.910</td>\n",
       "      <td>55445.0</td>\n",
       "      <td>1274.782</td>\n",
       "      <td>59781.0</td>\n",
       "      <td>1275.0</td>\n",
       "      <td>...</td>\n",
       "      <td>33766.0</td>\n",
       "      <td>1281.0</td>\n",
       "      <td>1281.0</td>\n",
       "      <td>1279.0</td>\n",
       "      <td>1280.0</td>\n",
       "      <td>1619</td>\n",
       "      <td>1280.149</td>\n",
       "      <td>41884</td>\n",
       "      <td>1279.158</td>\n",
       "      <td>46279</td>\n",
       "    </tr>\n",
       "  </tbody>\n",
       "</table>\n",
       "<p>5 rows × 90 columns</p>\n",
       "</div>"
      ],
      "text/plain": [
       "                        O_9     H_9     L_9     C_9     V_9      AP_9  \\\n",
       "ts                                                                      \n",
       "2024-08-13 09:00:00  1272.0  1274.0  1271.0  1273.0  2017.0  1273.358   \n",
       "2024-08-13 09:01:00  1273.0  1274.0  1272.0  1274.0  2116.0  1273.931   \n",
       "2024-08-13 09:02:00  1273.0  1276.0  1273.0  1275.0  3327.0  1274.919   \n",
       "2024-08-13 09:03:00  1276.0  1276.0  1274.0  1275.0  2732.0  1275.918   \n",
       "2024-08-13 09:04:00  1274.0  1276.0  1274.0  1276.0  1764.0  1275.910   \n",
       "\n",
       "                        AV_9      BP_9     BV_9     O_8  ...     BV_1       O  \\\n",
       "ts                                                       ...                    \n",
       "2024-08-13 09:00:00  60302.0  1272.241  37211.0  1273.0  ...  63689.0  1278.0   \n",
       "2024-08-13 09:01:00  56694.0  1272.833  57743.0  1273.0  ...    152.0  1277.0   \n",
       "2024-08-13 09:02:00  51697.0  1273.481  65016.0  1276.0  ...  17282.0  1278.0   \n",
       "2024-08-13 09:03:00  42182.0  1274.151  56885.0  1274.0  ...  31489.0  1277.0   \n",
       "2024-08-13 09:04:00  55445.0  1274.782  59781.0  1275.0  ...  33766.0  1281.0   \n",
       "\n",
       "                          H       L       C     V        AP     AV        BP  \\\n",
       "ts                                                                             \n",
       "2024-08-13 09:00:00  1278.0  1276.0  1276.0   681  1278.000    218  1276.000   \n",
       "2024-08-13 09:01:00  1282.0  1276.0  1278.0  5557  1279.737  21421  1278.345   \n",
       "2024-08-13 09:02:00  1279.0  1276.0  1278.0  1634  1278.102  43934  1277.119   \n",
       "2024-08-13 09:03:00  1282.0  1277.0  1281.0  3749  1280.911  33442  1279.997   \n",
       "2024-08-13 09:04:00  1281.0  1279.0  1280.0  1619  1280.149  41884  1279.158   \n",
       "\n",
       "                        BV  \n",
       "ts                          \n",
       "2024-08-13 09:00:00    152  \n",
       "2024-08-13 09:01:00  17282  \n",
       "2024-08-13 09:02:00  31489  \n",
       "2024-08-13 09:03:00  33766  \n",
       "2024-08-13 09:04:00  46279  \n",
       "\n",
       "[5 rows x 90 columns]"
      ]
     },
     "execution_count": 12,
     "metadata": {},
     "output_type": "execute_result"
    }
   ],
   "source": [
    "bar_df_3.head()"
   ]
  },
  {
   "cell_type": "code",
   "execution_count": 36,
   "id": "76b0391a-a096-4020-9e5a-47ee651f409e",
   "metadata": {},
   "outputs": [],
   "source": [
    "# 收益率 R\n",
    "bar_df_3['R'] = (bar_df_3['C'] - bar_df_3['C_5']) / bar_df_3['C_5']\n",
    "# 收益值 R1\n",
    "bar_df_3['R1'] = (bar_df_3['C'] - bar_df_3['C_5'])"
   ]
  },
  {
   "cell_type": "code",
   "execution_count": 15,
   "id": "cb4a4b4f-5005-4192-9839-eae690c3748b",
   "metadata": {},
   "outputs": [
    {
     "data": {
      "text/plain": [
       "Index(['O_9', 'H_9', 'L_9', 'C_9', 'V_9', 'AP_9', 'AV_9', 'BP_9', 'BV_9',\n",
       "       'O_8', 'H_8', 'L_8', 'C_8', 'V_8', 'AP_8', 'AV_8', 'BP_8', 'BV_8',\n",
       "       'O_7', 'H_7', 'L_7', 'C_7', 'V_7', 'AP_7', 'AV_7', 'BP_7', 'BV_7',\n",
       "       'O_6', 'H_6', 'L_6', 'C_6', 'V_6', 'AP_6', 'AV_6', 'BP_6', 'BV_6',\n",
       "       'O_5', 'H_5', 'L_5', 'C_5', 'V_5', 'AP_5', 'AV_5', 'BP_5', 'BV_5',\n",
       "       'O_4', 'H_4', 'L_4', 'C_4', 'V_4', 'AP_4', 'AV_4', 'BP_4', 'BV_4',\n",
       "       'O_3', 'H_3', 'L_3', 'C_3', 'V_3', 'AP_3', 'AV_3', 'BP_3', 'BV_3',\n",
       "       'O_2', 'H_2', 'L_2', 'C_2', 'V_2', 'AP_2', 'AV_2', 'BP_2', 'BV_2',\n",
       "       'O_1', 'H_1', 'L_1', 'C_1', 'V_1', 'AP_1', 'AV_1', 'BP_1', 'BV_1', 'O',\n",
       "       'H', 'L', 'C', 'V', 'AP', 'AV', 'BP', 'BV', 'R', 'K'],\n",
       "      dtype='object')"
      ]
     },
     "execution_count": 15,
     "metadata": {},
     "output_type": "execute_result"
    }
   ],
   "source": [
    "bar_df_3.columns"
   ]
  },
  {
   "cell_type": "code",
   "execution_count": 37,
   "id": "03f91995-aedf-448c-9065-a00e811006d9",
   "metadata": {},
   "outputs": [
    {
     "data": {
      "text/html": [
       "<div>\n",
       "<style scoped>\n",
       "    .dataframe tbody tr th:only-of-type {\n",
       "        vertical-align: middle;\n",
       "    }\n",
       "\n",
       "    .dataframe tbody tr th {\n",
       "        vertical-align: top;\n",
       "    }\n",
       "\n",
       "    .dataframe thead th {\n",
       "        text-align: right;\n",
       "    }\n",
       "</style>\n",
       "<table border=\"1\" class=\"dataframe\">\n",
       "  <thead>\n",
       "    <tr style=\"text-align: right;\">\n",
       "      <th></th>\n",
       "      <th>C_9</th>\n",
       "      <th>C_7</th>\n",
       "      <th>C_5</th>\n",
       "      <th>C_3</th>\n",
       "      <th>C_1</th>\n",
       "      <th>C</th>\n",
       "      <th>R</th>\n",
       "      <th>R1</th>\n",
       "      <th>K</th>\n",
       "    </tr>\n",
       "    <tr>\n",
       "      <th>ts</th>\n",
       "      <th></th>\n",
       "      <th></th>\n",
       "      <th></th>\n",
       "      <th></th>\n",
       "      <th></th>\n",
       "      <th></th>\n",
       "      <th></th>\n",
       "      <th></th>\n",
       "      <th></th>\n",
       "    </tr>\n",
       "  </thead>\n",
       "  <tbody>\n",
       "    <tr>\n",
       "      <th>2024-08-13 09:00:00</th>\n",
       "      <td>1273.0</td>\n",
       "      <td>1275.0</td>\n",
       "      <td>1276.0</td>\n",
       "      <td>1275.0</td>\n",
       "      <td>1277.0</td>\n",
       "      <td>1276.0</td>\n",
       "      <td>0.000000</td>\n",
       "      <td>0.0</td>\n",
       "      <td>(-0.0008948052659497, 0.0011467322972992834]</td>\n",
       "    </tr>\n",
       "    <tr>\n",
       "      <th>2024-08-13 09:01:00</th>\n",
       "      <td>1274.0</td>\n",
       "      <td>1275.0</td>\n",
       "      <td>1275.0</td>\n",
       "      <td>1277.0</td>\n",
       "      <td>1276.0</td>\n",
       "      <td>1278.0</td>\n",
       "      <td>0.002353</td>\n",
       "      <td>3.0</td>\n",
       "      <td>(0.0011467322972992834, 0.003188269860548267]</td>\n",
       "    </tr>\n",
       "    <tr>\n",
       "      <th>2024-08-13 09:02:00</th>\n",
       "      <td>1275.0</td>\n",
       "      <td>1276.0</td>\n",
       "      <td>1275.0</td>\n",
       "      <td>1277.0</td>\n",
       "      <td>1278.0</td>\n",
       "      <td>1278.0</td>\n",
       "      <td>0.002353</td>\n",
       "      <td>3.0</td>\n",
       "      <td>(0.0011467322972992834, 0.003188269860548267]</td>\n",
       "    </tr>\n",
       "    <tr>\n",
       "      <th>2024-08-13 09:03:00</th>\n",
       "      <td>1275.0</td>\n",
       "      <td>1275.0</td>\n",
       "      <td>1277.0</td>\n",
       "      <td>1276.0</td>\n",
       "      <td>1278.0</td>\n",
       "      <td>1281.0</td>\n",
       "      <td>0.003132</td>\n",
       "      <td>4.0</td>\n",
       "      <td>(0.0011467322972992834, 0.003188269860548267]</td>\n",
       "    </tr>\n",
       "    <tr>\n",
       "      <th>2024-08-13 09:04:00</th>\n",
       "      <td>1276.0</td>\n",
       "      <td>1275.0</td>\n",
       "      <td>1277.0</td>\n",
       "      <td>1278.0</td>\n",
       "      <td>1281.0</td>\n",
       "      <td>1280.0</td>\n",
       "      <td>0.002349</td>\n",
       "      <td>3.0</td>\n",
       "      <td>(0.0011467322972992834, 0.003188269860548267]</td>\n",
       "    </tr>\n",
       "  </tbody>\n",
       "</table>\n",
       "</div>"
      ],
      "text/plain": [
       "                        C_9     C_7     C_5     C_3     C_1       C         R  \\\n",
       "ts                                                                              \n",
       "2024-08-13 09:00:00  1273.0  1275.0  1276.0  1275.0  1277.0  1276.0  0.000000   \n",
       "2024-08-13 09:01:00  1274.0  1275.0  1275.0  1277.0  1276.0  1278.0  0.002353   \n",
       "2024-08-13 09:02:00  1275.0  1276.0  1275.0  1277.0  1278.0  1278.0  0.002353   \n",
       "2024-08-13 09:03:00  1275.0  1275.0  1277.0  1276.0  1278.0  1281.0  0.003132   \n",
       "2024-08-13 09:04:00  1276.0  1275.0  1277.0  1278.0  1281.0  1280.0  0.002349   \n",
       "\n",
       "                      R1                                              K  \n",
       "ts                                                                       \n",
       "2024-08-13 09:00:00  0.0   (-0.0008948052659497, 0.0011467322972992834]  \n",
       "2024-08-13 09:01:00  3.0  (0.0011467322972992834, 0.003188269860548267]  \n",
       "2024-08-13 09:02:00  3.0  (0.0011467322972992834, 0.003188269860548267]  \n",
       "2024-08-13 09:03:00  4.0  (0.0011467322972992834, 0.003188269860548267]  \n",
       "2024-08-13 09:04:00  3.0  (0.0011467322972992834, 0.003188269860548267]  "
      ]
     },
     "execution_count": 37,
     "metadata": {},
     "output_type": "execute_result"
    }
   ],
   "source": [
    "bar_df_3[['C_9', 'C_7', 'C_5', 'C_3', 'C_1', 'C', 'R', 'R1', 'K']].head()"
   ]
  },
  {
   "cell_type": "code",
   "execution_count": 38,
   "id": "8a1b5f16-b5c0-40b2-a296-3ab642f33a69",
   "metadata": {},
   "outputs": [
    {
     "data": {
      "text/plain": [
       "(-0.009060955518945634, 0.0113544201135442)"
      ]
     },
     "execution_count": 38,
     "metadata": {},
     "output_type": "execute_result"
    }
   ],
   "source": [
    "min_val, max_val = bar_df_3['R'].min(), bar_df_3['R'].max()\n",
    "min_val, max_val"
   ]
  },
  {
   "cell_type": "code",
   "execution_count": 39,
   "id": "c647af20-31ef-4bcc-8cde-48349ec1cbae",
   "metadata": {},
   "outputs": [
    {
     "data": {
      "text/plain": [
       "(-11.0, 14.0)"
      ]
     },
     "execution_count": 39,
     "metadata": {},
     "output_type": "execute_result"
    }
   ],
   "source": [
    "min_val_1, max_val_1 = bar_df_3['R1'].min(), bar_df_3['R1'].max()\n",
    "min_val_1, max_val_1"
   ]
  },
  {
   "cell_type": "code",
   "execution_count": 40,
   "id": "17309d25-d88d-4237-b3f4-5144db5276bd",
   "metadata": {},
   "outputs": [
    {
     "data": {
      "text/plain": [
       "count    3141.000000\n",
       "mean       -0.197389\n",
       "std         2.670768\n",
       "min       -11.000000\n",
       "25%        -2.000000\n",
       "50%         0.000000\n",
       "75%         1.000000\n",
       "max        14.000000\n",
       "Name: R1, dtype: float64"
      ]
     },
     "execution_count": 40,
     "metadata": {},
     "output_type": "execute_result"
    }
   ],
   "source": [
    "bar_df_3['R1'].describe()"
   ]
  },
  {
   "cell_type": "code",
   "execution_count": 41,
   "id": "806bdcb0-1be1-438c-9754-9b3c78348ec6",
   "metadata": {},
   "outputs": [
    {
     "data": {
      "text/plain": [
       "count    3141.000000\n",
       "mean       -0.000160\n",
       "std         0.002174\n",
       "min        -0.009061\n",
       "25%        -0.001604\n",
       "50%         0.000000\n",
       "75%         0.000838\n",
       "max         0.011354\n",
       "Name: R, dtype: float64"
      ]
     },
     "execution_count": 41,
     "metadata": {},
     "output_type": "execute_result"
    }
   ],
   "source": [
    "bar_df_3['R'].describe()"
   ]
  },
  {
   "cell_type": "code",
   "execution_count": 31,
   "id": "7bdc5688-6447-4dd4-97cc-60fd4b441fce",
   "metadata": {},
   "outputs": [
    {
     "data": {
      "text/plain": [
       "IntervalIndex([  (-0.009060955518945634, -0.00701941795569665],\n",
       "                 (-0.00701941795569665, -0.004977880392447667],\n",
       "               (-0.004977880392447667, -0.0029363428291986834],\n",
       "                 (-0.0029363428291986834, -0.0008948052659497],\n",
       "                  (-0.0008948052659497, 0.0011467322972992834],\n",
       "                 (0.0011467322972992834, 0.003188269860548267],\n",
       "                   (0.003188269860548267, 0.00522980742379725],\n",
       "                   (0.00522980742379725, 0.007271344987046234],\n",
       "                  (0.007271344987046234, 0.009312882550295219],\n",
       "                    (0.009312882550295219, 0.0113544201135442]],\n",
       "              dtype='interval[float64, right]')"
      ]
     },
     "execution_count": 31,
     "metadata": {},
     "output_type": "execute_result"
    }
   ],
   "source": [
    "# 根据值生成桶边界\n",
    "bins = pd.interval_range(start=min_val, end=max_val, periods=10)\n",
    "bins"
   ]
  },
  {
   "cell_type": "code",
   "execution_count": 42,
   "id": "8eff3ea0-8a38-4a8e-8795-db71b46aa06b",
   "metadata": {},
   "outputs": [
    {
     "data": {
      "text/plain": [
       "IntervalIndex([(-11.0, -8.5],  (-8.5, -6.0],  (-6.0, -3.5],  (-3.5, -1.0],\n",
       "                 (-1.0, 1.5],    (1.5, 4.0],    (4.0, 6.5],    (6.5, 9.0],\n",
       "                 (9.0, 11.5],  (11.5, 14.0]],\n",
       "              dtype='interval[float64, right]')"
      ]
     },
     "execution_count": 42,
     "metadata": {},
     "output_type": "execute_result"
    }
   ],
   "source": [
    "bins_1 = pd.interval_range(start=min_val_1, end=max_val_1, periods=10)\n",
    "bins_1"
   ]
  },
  {
   "cell_type": "code",
   "execution_count": 34,
   "id": "b9d0d4ca-adde-4f3b-a549-2bdd0950f4b1",
   "metadata": {},
   "outputs": [
    {
     "data": {
      "text/plain": [
       "K\n",
       "(-0.009060955518945634, -0.00701941795569665]        20\n",
       "(-0.00701941795569665, -0.004977880392447667]        46\n",
       "(-0.004977880392447667, -0.0029363428291986834]     217\n",
       "(-0.0029363428291986834, -0.0008948052659497]       565\n",
       "(-0.0008948052659497, 0.0011467322972992834]       1579\n",
       "(0.0011467322972992834, 0.003188269860548267]       515\n",
       "(0.003188269860548267, 0.00522980742379725]         161\n",
       "(0.00522980742379725, 0.007271344987046234]          30\n",
       "(0.007271344987046234, 0.009312882550295219]          5\n",
       "(0.009312882550295219, 0.0113544201135442]            2\n",
       "Name: count, dtype: int64"
      ]
     },
     "execution_count": 34,
     "metadata": {},
     "output_type": "execute_result"
    }
   ],
   "source": [
    "# 分桶\n",
    "# bar_df_3['K'] = pd.cut(bar_df_3['R'], bins=bins, labels=range(10), include_lowest=True).cat.codes\n",
    "bar_df_3['K'] = pd.cut(bar_df_3['R'], bins=bins, labels=range(10), include_lowest=True)\n",
    "# 值分布\n",
    "bar_df_3['K'].value_counts().sort_index()"
   ]
  },
  {
   "cell_type": "code",
   "execution_count": 44,
   "id": "1ed83288-7bcf-4eb8-8a61-2eb1feda6cc4",
   "metadata": {},
   "outputs": [
    {
     "data": {
      "text/plain": [
       "K1\n",
       "(-11.0, -8.5]      16\n",
       "(-8.5, -6.0]       74\n",
       "(-6.0, -3.5]      189\n",
       "(-3.5, -1.0]     1115\n",
       "(-1.0, 1.5]      1029\n",
       "(1.5, 4.0]        594\n",
       "(4.0, 6.5]         82\n",
       "(6.5, 9.0]         32\n",
       "(9.0, 11.5]         3\n",
       "(11.5, 14.0]        2\n",
       "Name: count, dtype: int64"
      ]
     },
     "execution_count": 44,
     "metadata": {},
     "output_type": "execute_result"
    }
   ],
   "source": [
    "# 分桶\n",
    "# bar_df_3['K'] = pd.cut(bar_df_3['R'], bins=bins_1, labels=range(10), include_lowest=True).cat.codes\n",
    "bar_df_3['K1'] = pd.cut(bar_df_3['R1'], bins=bins_1, labels=range(10), include_lowest=True)\n",
    "# 值分布\n",
    "bar_df_3['K1'].value_counts().sort_index()"
   ]
  },
  {
   "cell_type": "code",
   "execution_count": null,
   "id": "55f220b3-686c-42d2-9b48-2278ad814ea4",
   "metadata": {},
   "outputs": [],
   "source": []
  }
 ],
 "metadata": {
  "kernelspec": {
   "display_name": "Python3.11 (ctp)",
   "language": "python",
   "name": "ctp-py311"
  },
  "language_info": {
   "codemirror_mode": {
    "name": "ipython",
    "version": 3
   },
   "file_extension": ".py",
   "mimetype": "text/x-python",
   "name": "python",
   "nbconvert_exporter": "python",
   "pygments_lexer": "ipython3",
   "version": "3.11.4"
  }
 },
 "nbformat": 4,
 "nbformat_minor": 5
}
