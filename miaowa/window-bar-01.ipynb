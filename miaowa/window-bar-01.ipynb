{
 "cells": [
  {
   "cell_type": "code",
   "execution_count": 1,
   "id": "658d331b-0299-407e-ac11-345ce735beb9",
   "metadata": {},
   "outputs": [
    {
     "name": "stdout",
     "output_type": "stream",
     "text": [
      "scipy 1.15.2\n",
      "numpy 1.26.4\n",
      "pandas 2.2.3\n",
      "matplotlib 3.10.1\n"
     ]
    }
   ],
   "source": [
    "import scipy\n",
    "import numpy as np\n",
    "import pandas as pd\n",
    "\n",
    "import matplotlib\n",
    "import matplotlib.pyplot as plt\n",
    "\n",
    "for m in [scipy, np, pd, matplotlib]:\n",
    "    print(m.__name__, m.__version__)\n",
    "\n",
    "from scipy.signal import savgol_filter\n",
    "from scipy.signal import argrelextrema\n",
    "from scipy.signal import find_peaks\n",
    "\n",
    "from funcs.factor_utils import FactorUtil"
   ]
  },
  {
   "cell_type": "code",
   "execution_count": 2,
   "id": "a126b53e-2d14-4a4a-9371-7a7c083a0ab2",
   "metadata": {},
   "outputs": [
    {
     "data": {
      "text/html": [
       "<div>\n",
       "<style scoped>\n",
       "    .dataframe tbody tr th:only-of-type {\n",
       "        vertical-align: middle;\n",
       "    }\n",
       "\n",
       "    .dataframe tbody tr th {\n",
       "        vertical-align: top;\n",
       "    }\n",
       "\n",
       "    .dataframe thead th {\n",
       "        text-align: right;\n",
       "    }\n",
       "</style>\n",
       "<table border=\"1\" class=\"dataframe\">\n",
       "  <thead>\n",
       "    <tr style=\"text-align: right;\">\n",
       "      <th></th>\n",
       "      <th>O</th>\n",
       "      <th>H</th>\n",
       "      <th>L</th>\n",
       "      <th>C</th>\n",
       "      <th>V</th>\n",
       "      <th>AP</th>\n",
       "      <th>AV</th>\n",
       "      <th>BP</th>\n",
       "      <th>BV</th>\n",
       "    </tr>\n",
       "    <tr>\n",
       "      <th>ts</th>\n",
       "      <th></th>\n",
       "      <th></th>\n",
       "      <th></th>\n",
       "      <th></th>\n",
       "      <th></th>\n",
       "      <th></th>\n",
       "      <th></th>\n",
       "      <th></th>\n",
       "      <th></th>\n",
       "    </tr>\n",
       "  </thead>\n",
       "  <tbody>\n",
       "    <tr>\n",
       "      <th>2024-08-13 09:00:00</th>\n",
       "      <td>1278.0</td>\n",
       "      <td>1278.0</td>\n",
       "      <td>1276.0</td>\n",
       "      <td>1276.0</td>\n",
       "      <td>681</td>\n",
       "      <td>1278.000</td>\n",
       "      <td>218</td>\n",
       "      <td>1276.000</td>\n",
       "      <td>152</td>\n",
       "    </tr>\n",
       "    <tr>\n",
       "      <th>2024-08-13 09:01:00</th>\n",
       "      <td>1277.0</td>\n",
       "      <td>1282.0</td>\n",
       "      <td>1276.0</td>\n",
       "      <td>1278.0</td>\n",
       "      <td>5557</td>\n",
       "      <td>1279.737</td>\n",
       "      <td>21421</td>\n",
       "      <td>1278.345</td>\n",
       "      <td>17282</td>\n",
       "    </tr>\n",
       "    <tr>\n",
       "      <th>2024-08-13 09:02:00</th>\n",
       "      <td>1278.0</td>\n",
       "      <td>1279.0</td>\n",
       "      <td>1276.0</td>\n",
       "      <td>1278.0</td>\n",
       "      <td>1634</td>\n",
       "      <td>1278.102</td>\n",
       "      <td>43934</td>\n",
       "      <td>1277.119</td>\n",
       "      <td>31489</td>\n",
       "    </tr>\n",
       "    <tr>\n",
       "      <th>2024-08-13 09:03:00</th>\n",
       "      <td>1277.0</td>\n",
       "      <td>1282.0</td>\n",
       "      <td>1277.0</td>\n",
       "      <td>1281.0</td>\n",
       "      <td>3749</td>\n",
       "      <td>1280.911</td>\n",
       "      <td>33442</td>\n",
       "      <td>1279.997</td>\n",
       "      <td>33766</td>\n",
       "    </tr>\n",
       "    <tr>\n",
       "      <th>2024-08-13 09:04:00</th>\n",
       "      <td>1281.0</td>\n",
       "      <td>1281.0</td>\n",
       "      <td>1279.0</td>\n",
       "      <td>1280.0</td>\n",
       "      <td>1619</td>\n",
       "      <td>1280.149</td>\n",
       "      <td>41884</td>\n",
       "      <td>1279.158</td>\n",
       "      <td>46279</td>\n",
       "    </tr>\n",
       "  </tbody>\n",
       "</table>\n",
       "</div>"
      ],
      "text/plain": [
       "                          O       H       L       C     V        AP     AV  \\\n",
       "ts                                                                           \n",
       "2024-08-13 09:00:00  1278.0  1278.0  1276.0  1276.0   681  1278.000    218   \n",
       "2024-08-13 09:01:00  1277.0  1282.0  1276.0  1278.0  5557  1279.737  21421   \n",
       "2024-08-13 09:02:00  1278.0  1279.0  1276.0  1278.0  1634  1278.102  43934   \n",
       "2024-08-13 09:03:00  1277.0  1282.0  1277.0  1281.0  3749  1280.911  33442   \n",
       "2024-08-13 09:04:00  1281.0  1281.0  1279.0  1280.0  1619  1280.149  41884   \n",
       "\n",
       "                           BP     BV  \n",
       "ts                                    \n",
       "2024-08-13 09:00:00  1276.000    152  \n",
       "2024-08-13 09:01:00  1278.345  17282  \n",
       "2024-08-13 09:02:00  1277.119  31489  \n",
       "2024-08-13 09:03:00  1279.997  33766  \n",
       "2024-08-13 09:04:00  1279.158  46279  "
      ]
     },
     "execution_count": 2,
     "metadata": {},
     "output_type": "execute_result"
    }
   ],
   "source": [
    "bar_df_1 = FactorUtil.get_bar_df('FG2409_MIN_1', '20240813', '00:00:00', 300)\n",
    "bar_df_1.head()"
   ]
  },
  {
   "cell_type": "code",
   "execution_count": 3,
   "id": "08dd0683-41d8-4f04-97fc-f91b86376894",
   "metadata": {},
   "outputs": [
    {
     "data": {
      "text/html": [
       "<div>\n",
       "<style scoped>\n",
       "    .dataframe tbody tr th:only-of-type {\n",
       "        vertical-align: middle;\n",
       "    }\n",
       "\n",
       "    .dataframe tbody tr th {\n",
       "        vertical-align: top;\n",
       "    }\n",
       "\n",
       "    .dataframe thead th {\n",
       "        text-align: right;\n",
       "    }\n",
       "</style>\n",
       "<table border=\"1\" class=\"dataframe\">\n",
       "  <thead>\n",
       "    <tr style=\"text-align: right;\">\n",
       "      <th></th>\n",
       "      <th>O_3</th>\n",
       "      <th>H_3</th>\n",
       "      <th>L_3</th>\n",
       "      <th>C_3</th>\n",
       "      <th>V_3</th>\n",
       "      <th>O</th>\n",
       "      <th>H</th>\n",
       "      <th>L</th>\n",
       "      <th>C</th>\n",
       "      <th>V</th>\n",
       "      <th>AP</th>\n",
       "      <th>AV</th>\n",
       "      <th>BP</th>\n",
       "      <th>BV</th>\n",
       "    </tr>\n",
       "    <tr>\n",
       "      <th>ts</th>\n",
       "      <th></th>\n",
       "      <th></th>\n",
       "      <th></th>\n",
       "      <th></th>\n",
       "      <th></th>\n",
       "      <th></th>\n",
       "      <th></th>\n",
       "      <th></th>\n",
       "      <th></th>\n",
       "      <th></th>\n",
       "      <th></th>\n",
       "      <th></th>\n",
       "      <th></th>\n",
       "      <th></th>\n",
       "    </tr>\n",
       "  </thead>\n",
       "  <tbody>\n",
       "    <tr>\n",
       "      <th>2024-08-13 09:00:00</th>\n",
       "      <td>NaN</td>\n",
       "      <td>NaN</td>\n",
       "      <td>NaN</td>\n",
       "      <td>NaN</td>\n",
       "      <td>NaN</td>\n",
       "      <td>1278.0</td>\n",
       "      <td>1278.0</td>\n",
       "      <td>1276.0</td>\n",
       "      <td>1276.0</td>\n",
       "      <td>681</td>\n",
       "      <td>1278.000</td>\n",
       "      <td>218</td>\n",
       "      <td>1276.000</td>\n",
       "      <td>152</td>\n",
       "    </tr>\n",
       "    <tr>\n",
       "      <th>2024-08-13 09:01:00</th>\n",
       "      <td>NaN</td>\n",
       "      <td>NaN</td>\n",
       "      <td>NaN</td>\n",
       "      <td>NaN</td>\n",
       "      <td>NaN</td>\n",
       "      <td>1277.0</td>\n",
       "      <td>1282.0</td>\n",
       "      <td>1276.0</td>\n",
       "      <td>1278.0</td>\n",
       "      <td>5557</td>\n",
       "      <td>1279.737</td>\n",
       "      <td>21421</td>\n",
       "      <td>1278.345</td>\n",
       "      <td>17282</td>\n",
       "    </tr>\n",
       "    <tr>\n",
       "      <th>2024-08-13 09:02:00</th>\n",
       "      <td>NaN</td>\n",
       "      <td>NaN</td>\n",
       "      <td>NaN</td>\n",
       "      <td>NaN</td>\n",
       "      <td>NaN</td>\n",
       "      <td>1278.0</td>\n",
       "      <td>1279.0</td>\n",
       "      <td>1276.0</td>\n",
       "      <td>1278.0</td>\n",
       "      <td>1634</td>\n",
       "      <td>1278.102</td>\n",
       "      <td>43934</td>\n",
       "      <td>1277.119</td>\n",
       "      <td>31489</td>\n",
       "    </tr>\n",
       "    <tr>\n",
       "      <th>2024-08-13 09:03:00</th>\n",
       "      <td>1278.0</td>\n",
       "      <td>1278.0</td>\n",
       "      <td>1276.0</td>\n",
       "      <td>1276.0</td>\n",
       "      <td>681.0</td>\n",
       "      <td>1277.0</td>\n",
       "      <td>1282.0</td>\n",
       "      <td>1277.0</td>\n",
       "      <td>1281.0</td>\n",
       "      <td>3749</td>\n",
       "      <td>1280.911</td>\n",
       "      <td>33442</td>\n",
       "      <td>1279.997</td>\n",
       "      <td>33766</td>\n",
       "    </tr>\n",
       "    <tr>\n",
       "      <th>2024-08-13 09:04:00</th>\n",
       "      <td>1277.0</td>\n",
       "      <td>1282.0</td>\n",
       "      <td>1276.0</td>\n",
       "      <td>1278.0</td>\n",
       "      <td>5557.0</td>\n",
       "      <td>1281.0</td>\n",
       "      <td>1281.0</td>\n",
       "      <td>1279.0</td>\n",
       "      <td>1280.0</td>\n",
       "      <td>1619</td>\n",
       "      <td>1280.149</td>\n",
       "      <td>41884</td>\n",
       "      <td>1279.158</td>\n",
       "      <td>46279</td>\n",
       "    </tr>\n",
       "  </tbody>\n",
       "</table>\n",
       "</div>"
      ],
      "text/plain": [
       "                        O_3     H_3     L_3     C_3     V_3       O       H  \\\n",
       "ts                                                                            \n",
       "2024-08-13 09:00:00     NaN     NaN     NaN     NaN     NaN  1278.0  1278.0   \n",
       "2024-08-13 09:01:00     NaN     NaN     NaN     NaN     NaN  1277.0  1282.0   \n",
       "2024-08-13 09:02:00     NaN     NaN     NaN     NaN     NaN  1278.0  1279.0   \n",
       "2024-08-13 09:03:00  1278.0  1278.0  1276.0  1276.0   681.0  1277.0  1282.0   \n",
       "2024-08-13 09:04:00  1277.0  1282.0  1276.0  1278.0  5557.0  1281.0  1281.0   \n",
       "\n",
       "                          L       C     V        AP     AV        BP     BV  \n",
       "ts                                                                           \n",
       "2024-08-13 09:00:00  1276.0  1276.0   681  1278.000    218  1276.000    152  \n",
       "2024-08-13 09:01:00  1276.0  1278.0  5557  1279.737  21421  1278.345  17282  \n",
       "2024-08-13 09:02:00  1276.0  1278.0  1634  1278.102  43934  1277.119  31489  \n",
       "2024-08-13 09:03:00  1277.0  1281.0  3749  1280.911  33442  1279.997  33766  \n",
       "2024-08-13 09:04:00  1279.0  1280.0  1619  1280.149  41884  1279.158  46279  "
      ]
     },
     "execution_count": 3,
     "metadata": {},
     "output_type": "execute_result"
    }
   ],
   "source": [
    "bar_df_2 = FactorUtil.concat_shift_df(bar_df_1, 3, ['O', 'H', 'L', 'C', 'V'])\n",
    "bar_df_2.head()"
   ]
  },
  {
   "cell_type": "code",
   "execution_count": 4,
   "id": "79d0fe5d-45fa-4221-9f10-cc7dc215087c",
   "metadata": {},
   "outputs": [
    {
     "name": "stdout",
     "output_type": "stream",
     "text": [
      "20240812 22:51:00\n"
     ]
    },
    {
     "data": {
      "text/plain": [
       "Index(['O_9', 'H_9', 'L_9', 'C_9', 'V_9', 'AP_9', 'AV_9', 'BP_9', 'BV_9',\n",
       "       'O_8', 'H_8', 'L_8', 'C_8', 'V_8', 'AP_8', 'AV_8', 'BP_8', 'BV_8',\n",
       "       'O_7', 'H_7', 'L_7', 'C_7', 'V_7', 'AP_7', 'AV_7', 'BP_7', 'BV_7',\n",
       "       'O_6', 'H_6', 'L_6', 'C_6', 'V_6', 'AP_6', 'AV_6', 'BP_6', 'BV_6',\n",
       "       'O_5', 'H_5', 'L_5', 'C_5', 'V_5', 'AP_5', 'AV_5', 'BP_5', 'BV_5',\n",
       "       'O_4', 'H_4', 'L_4', 'C_4', 'V_4', 'AP_4', 'AV_4', 'BP_4', 'BV_4',\n",
       "       'O_3', 'H_3', 'L_3', 'C_3', 'V_3', 'AP_3', 'AV_3', 'BP_3', 'BV_3',\n",
       "       'O_2', 'H_2', 'L_2', 'C_2', 'V_2', 'AP_2', 'AV_2', 'BP_2', 'BV_2',\n",
       "       'O_1', 'H_1', 'L_1', 'C_1', 'V_1', 'AP_1', 'AV_1', 'BP_1', 'BV_1', 'O',\n",
       "       'H', 'L', 'C', 'V', 'AP', 'AV', 'BP', 'BV'],\n",
       "      dtype='object')"
      ]
     },
     "execution_count": 4,
     "metadata": {},
     "output_type": "execute_result"
    }
   ],
   "source": [
    "bar_df_3 = FactorUtil.get_window_bar_df('FG2409_MIN_1', '20240813')\n",
    "bar_df_3.columns"
   ]
  },
  {
   "cell_type": "code",
   "execution_count": 5,
   "id": "3e58b1b0-01ec-4aa0-8f2f-d838841e239a",
   "metadata": {},
   "outputs": [
    {
     "data": {
      "text/plain": [
       "(3141, 90)"
      ]
     },
     "execution_count": 5,
     "metadata": {},
     "output_type": "execute_result"
    }
   ],
   "source": [
    "bar_df_3.shape"
   ]
  },
  {
   "cell_type": "code",
   "execution_count": 6,
   "id": "4057f1e0-aaf9-4f4d-9b26-5ea313f71a67",
   "metadata": {},
   "outputs": [
    {
     "name": "stdout",
     "output_type": "stream",
     "text": [
      "20240812 22:46:00\n"
     ]
    },
    {
     "data": {
      "text/plain": [
       "Index(['O_14', 'H_14', 'L_14', 'C_14', 'V_14', 'AP_14', 'AV_14', 'BP_14',\n",
       "       'BV_14', 'O_13',\n",
       "       ...\n",
       "       'BV_1', 'O', 'H', 'L', 'C', 'V', 'AP', 'AV', 'BP', 'BV'],\n",
       "      dtype='object', length=135)"
      ]
     },
     "execution_count": 6,
     "metadata": {},
     "output_type": "execute_result"
    }
   ],
   "source": [
    "bar_df_4 = FactorUtil.get_window_bar_df('FG2409_MIN_1', '20240813', window_period=15)\n",
    "bar_df_4.columns"
   ]
  },
  {
   "cell_type": "code",
   "execution_count": 7,
   "id": "d72fdfd0-aa38-4671-a1b7-4157f2596383",
   "metadata": {},
   "outputs": [
    {
     "data": {
      "text/plain": [
       "(3141, 135)"
      ]
     },
     "execution_count": 7,
     "metadata": {},
     "output_type": "execute_result"
    }
   ],
   "source": [
    "bar_df_4.shape"
   ]
  },
  {
   "cell_type": "code",
   "execution_count": 9,
   "id": "d9c63e05-610e-4cff-b6a0-72638c843746",
   "metadata": {},
   "outputs": [],
   "source": [
    "bar_df_4.to_csv('./data/FG2409_MIN_1_W15.csv', index=True)"
   ]
  },
  {
   "cell_type": "code",
   "execution_count": null,
   "id": "fc57271d-8467-409d-a0e2-04aa8b0d780c",
   "metadata": {},
   "outputs": [],
   "source": []
  }
 ],
 "metadata": {
  "kernelspec": {
   "display_name": "Python3.11 (ctp)",
   "language": "python",
   "name": "ctp-py311"
  },
  "language_info": {
   "codemirror_mode": {
    "name": "ipython",
    "version": 3
   },
   "file_extension": ".py",
   "mimetype": "text/x-python",
   "name": "python",
   "nbconvert_exporter": "python",
   "pygments_lexer": "ipython3",
   "version": "3.11.9"
  }
 },
 "nbformat": 4,
 "nbformat_minor": 5
}
