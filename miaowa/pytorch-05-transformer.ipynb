{
 "cells": [
  {
   "cell_type": "code",
   "execution_count": 1,
   "id": "1fb188b3-993c-48ec-9a3e-220453aebd4a",
   "metadata": {},
   "outputs": [
    {
     "name": "stdout",
     "output_type": "stream",
     "text": [
      "numpy 1.26.4\n",
      "pandas 2.2.3\n",
      "torch 2.2.2\n"
     ]
    }
   ],
   "source": [
    "import numpy as np\n",
    "import pandas as pd\n",
    "import torch\n",
    "\n",
    "for m in [np, pd, torch]:\n",
    "    print(m.__name__, m.__version__)\n",
    "\n",
    "from torch import nn, optim\n",
    "from torch.utils.data import DataLoader, Dataset, random_split\n",
    "from sklearn.preprocessing import LabelEncoder\n",
    "from sklearn.metrics import accuracy_score\n",
    "from sklearn.model_selection import train_test_split\n",
    "\n",
    "from funcs.factor_utils import FactorUtil\n",
    "\n",
    "import warnings\n",
    "warnings.filterwarnings('ignore')"
   ]
  },
  {
   "cell_type": "code",
   "execution_count": 2,
   "id": "fa25783d-9bb9-4e97-bb8b-c97fd08930dc",
   "metadata": {},
   "outputs": [
    {
     "data": {
      "text/plain": [
       "Index(['O', 'H', 'L', 'C', 'V', 'AP', 'AV', 'BP', 'BV'], dtype='object')"
      ]
     },
     "execution_count": 2,
     "metadata": {},
     "output_type": "execute_result"
    }
   ],
   "source": [
    "# -----------------------------\n",
    "# 1. 读取数据集\n",
    "# -----------------------------\n",
    "bar_df = FactorUtil.get_bar_df('FG2409_MIN_1', '20240813', batch_size=364)\n",
    "bar_df.columns"
   ]
  },
  {
   "cell_type": "code",
   "execution_count": 3,
   "id": "2384d8f9-02e6-43ac-9672-5ef961b8167f",
   "metadata": {},
   "outputs": [
    {
     "data": {
      "text/plain": [
       "(364, 9)"
      ]
     },
     "execution_count": 3,
     "metadata": {},
     "output_type": "execute_result"
    }
   ],
   "source": [
    "bar_df.shape"
   ]
  },
  {
   "cell_type": "code",
   "execution_count": 4,
   "id": "44621053-8deb-4c5e-94c5-35fcc7fc9834",
   "metadata": {},
   "outputs": [
    {
     "data": {
      "text/plain": [
       "1280.0"
      ]
     },
     "execution_count": 4,
     "metadata": {},
     "output_type": "execute_result"
    }
   ],
   "source": [
    "# 0-5行数据集，最后一行第3列\n",
    "bar_df.values[0:5][-1,3]"
   ]
  },
  {
   "cell_type": "code",
   "execution_count": 5,
   "id": "7dc8e049-40ce-45c9-b808-8ac888b603c0",
   "metadata": {},
   "outputs": [
    {
     "data": {
      "text/plain": [
       "1280.0"
      ]
     },
     "execution_count": 5,
     "metadata": {},
     "output_type": "execute_result"
    }
   ],
   "source": [
    "# 第5行第3列\n",
    "bar_df.values[4][3]"
   ]
  },
  {
   "cell_type": "code",
   "execution_count": 6,
   "id": "15a46bf2-2be3-4056-814a-5cc113d844d6",
   "metadata": {},
   "outputs": [],
   "source": [
    "seq_len = 5\n",
    "returns = []\n",
    "\n",
    "for i in range(seq_len, len(bar_df) - 1):\n",
    "    c_start = bar_df.iloc[i - seq_len]['C']      # 第一个时间步的 C\n",
    "    c_end = bar_df.iloc[i + 1]['C']              # 第六个时间步的 C\n",
    "    returns.append((c_end - c_start) / c_start)  # \n"
   ]
  },
  {
   "cell_type": "code",
   "execution_count": 7,
   "id": "ff8402a2-086f-42df-ac9b-e87c4ec06e1c",
   "metadata": {},
   "outputs": [
    {
     "data": {
      "text/plain": [
       "358"
      ]
     },
     "execution_count": 7,
     "metadata": {},
     "output_type": "execute_result"
    }
   ],
   "source": [
    "# 总行数\n",
    "len(returns)"
   ]
  },
  {
   "cell_type": "code",
   "execution_count": 8,
   "id": "ccc2a95a-e26b-4ad2-9cf4-93e54ebde92e",
   "metadata": {},
   "outputs": [],
   "source": [
    "df_returns = bar_df.iloc[seq_len:-1].copy()\n",
    "df_returns['return'] = returns"
   ]
  },
  {
   "cell_type": "code",
   "execution_count": 9,
   "id": "4355b4b2-c642-4363-a246-f5b9ce94cce4",
   "metadata": {},
   "outputs": [],
   "source": [
    "# 分桶\n",
    "bins = [-np.inf, -0.003, -0.001, 0.001, 0.003, np.inf]\n",
    "df_returns['label'] = pd.cut(df_returns['return'], bins=bins, labels=[0, 1, 2, 3, 4]).astype(int)"
   ]
  },
  {
   "cell_type": "code",
   "execution_count": 10,
   "id": "b2ab8922-cdbc-493d-99e7-99c50d9907ec",
   "metadata": {},
   "outputs": [
    {
     "name": "stdout",
     "output_type": "stream",
     "text": [
      "label\n",
      "0     75\n",
      "1     66\n",
      "2    131\n",
      "3     53\n",
      "4     33\n",
      "Name: count, dtype: int64\n"
     ]
    }
   ],
   "source": [
    "print(df_returns['label'].value_counts().sort_index())"
   ]
  },
  {
   "cell_type": "code",
   "execution_count": 11,
   "id": "7006dd9d-ac5e-47fd-965e-c61f1ad3d466",
   "metadata": {},
   "outputs": [
    {
     "data": {
      "text/html": [
       "<div>\n",
       "<style scoped>\n",
       "    .dataframe tbody tr th:only-of-type {\n",
       "        vertical-align: middle;\n",
       "    }\n",
       "\n",
       "    .dataframe tbody tr th {\n",
       "        vertical-align: top;\n",
       "    }\n",
       "\n",
       "    .dataframe thead th {\n",
       "        text-align: right;\n",
       "    }\n",
       "</style>\n",
       "<table border=\"1\" class=\"dataframe\">\n",
       "  <thead>\n",
       "    <tr style=\"text-align: right;\">\n",
       "      <th></th>\n",
       "      <th>O</th>\n",
       "      <th>H</th>\n",
       "      <th>L</th>\n",
       "      <th>C</th>\n",
       "      <th>V</th>\n",
       "      <th>AP</th>\n",
       "      <th>AV</th>\n",
       "      <th>BP</th>\n",
       "      <th>BV</th>\n",
       "      <th>return</th>\n",
       "      <th>label</th>\n",
       "    </tr>\n",
       "    <tr>\n",
       "      <th>ts</th>\n",
       "      <th></th>\n",
       "      <th></th>\n",
       "      <th></th>\n",
       "      <th></th>\n",
       "      <th></th>\n",
       "      <th></th>\n",
       "      <th></th>\n",
       "      <th></th>\n",
       "      <th></th>\n",
       "      <th></th>\n",
       "      <th></th>\n",
       "    </tr>\n",
       "  </thead>\n",
       "  <tbody>\n",
       "    <tr>\n",
       "      <th>2024-08-13 09:05:00</th>\n",
       "      <td>1280.0</td>\n",
       "      <td>1282.0</td>\n",
       "      <td>1280.0</td>\n",
       "      <td>1282.0</td>\n",
       "      <td>1451</td>\n",
       "      <td>1281.261</td>\n",
       "      <td>61719</td>\n",
       "      <td>1280.326</td>\n",
       "      <td>56268</td>\n",
       "      <td>0.004702</td>\n",
       "      <td>4</td>\n",
       "    </tr>\n",
       "    <tr>\n",
       "      <th>2024-08-13 09:06:00</th>\n",
       "      <td>1282.0</td>\n",
       "      <td>1282.0</td>\n",
       "      <td>1280.0</td>\n",
       "      <td>1282.0</td>\n",
       "      <td>2363</td>\n",
       "      <td>1281.779</td>\n",
       "      <td>69101</td>\n",
       "      <td>1280.770</td>\n",
       "      <td>80040</td>\n",
       "      <td>0.003130</td>\n",
       "      <td>4</td>\n",
       "    </tr>\n",
       "    <tr>\n",
       "      <th>2024-08-13 09:07:00</th>\n",
       "      <td>1281.0</td>\n",
       "      <td>1283.0</td>\n",
       "      <td>1281.0</td>\n",
       "      <td>1282.0</td>\n",
       "      <td>2462</td>\n",
       "      <td>1282.058</td>\n",
       "      <td>134440</td>\n",
       "      <td>1281.035</td>\n",
       "      <td>87557</td>\n",
       "      <td>0.004695</td>\n",
       "      <td>4</td>\n",
       "    </tr>\n",
       "    <tr>\n",
       "      <th>2024-08-13 09:08:00</th>\n",
       "      <td>1282.0</td>\n",
       "      <td>1285.0</td>\n",
       "      <td>1282.0</td>\n",
       "      <td>1284.0</td>\n",
       "      <td>5782</td>\n",
       "      <td>1284.238</td>\n",
       "      <td>45260</td>\n",
       "      <td>1283.091</td>\n",
       "      <td>62190</td>\n",
       "      <td>0.001561</td>\n",
       "      <td>3</td>\n",
       "    </tr>\n",
       "    <tr>\n",
       "      <th>2024-08-13 09:09:00</th>\n",
       "      <td>1284.0</td>\n",
       "      <td>1284.0</td>\n",
       "      <td>1283.0</td>\n",
       "      <td>1283.0</td>\n",
       "      <td>1575</td>\n",
       "      <td>1284.026</td>\n",
       "      <td>55508</td>\n",
       "      <td>1283.003</td>\n",
       "      <td>124716</td>\n",
       "      <td>0.002344</td>\n",
       "      <td>3</td>\n",
       "    </tr>\n",
       "  </tbody>\n",
       "</table>\n",
       "</div>"
      ],
      "text/plain": [
       "                          O       H       L       C     V        AP      AV  \\\n",
       "ts                                                                            \n",
       "2024-08-13 09:05:00  1280.0  1282.0  1280.0  1282.0  1451  1281.261   61719   \n",
       "2024-08-13 09:06:00  1282.0  1282.0  1280.0  1282.0  2363  1281.779   69101   \n",
       "2024-08-13 09:07:00  1281.0  1283.0  1281.0  1282.0  2462  1282.058  134440   \n",
       "2024-08-13 09:08:00  1282.0  1285.0  1282.0  1284.0  5782  1284.238   45260   \n",
       "2024-08-13 09:09:00  1284.0  1284.0  1283.0  1283.0  1575  1284.026   55508   \n",
       "\n",
       "                           BP      BV    return  label  \n",
       "ts                                                      \n",
       "2024-08-13 09:05:00  1280.326   56268  0.004702      4  \n",
       "2024-08-13 09:06:00  1280.770   80040  0.003130      4  \n",
       "2024-08-13 09:07:00  1281.035   87557  0.004695      4  \n",
       "2024-08-13 09:08:00  1283.091   62190  0.001561      3  \n",
       "2024-08-13 09:09:00  1283.003  124716  0.002344      3  "
      ]
     },
     "execution_count": 11,
     "metadata": {},
     "output_type": "execute_result"
    }
   ],
   "source": [
    "df_returns.head()"
   ]
  },
  {
   "cell_type": "code",
   "execution_count": 12,
   "id": "e93aa099-4b9e-41c4-be59-bb38bffc5e18",
   "metadata": {},
   "outputs": [
    {
     "data": {
      "text/plain": [
       "count    358.000000\n",
       "mean      -0.000562\n",
       "std        0.002703\n",
       "min       -0.007223\n",
       "25%       -0.002370\n",
       "50%       -0.000779\n",
       "75%        0.000797\n",
       "max        0.008554\n",
       "Name: return, dtype: float64"
      ]
     },
     "execution_count": 12,
     "metadata": {},
     "output_type": "execute_result"
    }
   ],
   "source": [
    "df_returns['return'].describe()"
   ]
  },
  {
   "cell_type": "code",
   "execution_count": 69,
   "id": "2712c59f-dca9-4e3e-9865-7165ceca31f3",
   "metadata": {},
   "outputs": [],
   "source": [
    "class TimeSeriesDataset(Dataset):\n",
    "    def __init__(self, df, feature_cols, seq_len=5):\n",
    "        self.df = df\n",
    "        \n",
    "        self.feature_cols = feature_cols\n",
    "        self.seq_len = seq_len\n",
    "        \n",
    "        self.features = df[feature_cols].values\n",
    "        self.labels = self._create_labels()\n",
    "\n",
    "    def __len__(self):\n",
    "        # 总长度 - 时间步长 - 1 (去掉首尾)\n",
    "        return len(self.features) - self.seq_len - 1\n",
    "\n",
    "    def __getitem__(self, idx):\n",
    "        # 特征列 当前索引到当前索引+时间步长 的矩阵\n",
    "        X = self.features[idx: idx + self.seq_len]\n",
    "        # 标签列 当前索引的标签 (为特征列第一行/下一个时间步长快第一行)\n",
    "        y = self.labels[idx]\n",
    "        return torch.tensor(X, dtype=torch.float), torch.tensor(y, dtype=torch.long)\n",
    "\n",
    "    def _create_labels(self):\n",
    "        labels = []\n",
    "        for i in range(len(self.features) - self.seq_len - 1):\n",
    "            # 第一行\n",
    "            c_start = self.features[i][0]\n",
    "            # 第六行\n",
    "            c_end = self.features[i + self.seq_len + 1][0]\n",
    "            c_delta = (c_end - c_start) / c_start\n",
    "            labels.append(self._get_label(c_delta))\n",
    "        return labels\n",
    "\n",
    "    def _get_label(self, delta):\n",
    "        if delta < -0.003:\n",
    "            return 0\n",
    "        if delta >= -0.003 and delta < -0.001:\n",
    "            return 1\n",
    "        if delta >= -0.001 and delta <= 0.001:\n",
    "            return 2\n",
    "        if delta > 0.001 and delta <= 0.003:\n",
    "            return 3\n",
    "        if delta > 0.003:\n",
    "            return 4"
   ]
  },
  {
   "cell_type": "code",
   "execution_count": 70,
   "id": "ee5c0380-e680-48cd-8d1a-27949bc0222c",
   "metadata": {},
   "outputs": [],
   "source": [
    "feature_cols = bar_df.columns.to_list()"
   ]
  },
  {
   "cell_type": "code",
   "execution_count": 71,
   "id": "de0c2047-c711-45b1-a790-a19ccf887d94",
   "metadata": {
    "scrolled": true
   },
   "outputs": [
    {
     "name": "stdout",
     "output_type": "stream",
     "text": [
      "Batch 1: ------------------------------\n",
      "X shape: torch.Size([5, 5, 9])\n",
      "y shape: torch.Size([5])\n",
      "Sample X:\n",
      " tensor([[[  1280.0000,   1282.0000,   1280.0000,   1282.0000,   1451.0000,\n",
      "            1281.2610,  61719.0000,   1280.3260,  56268.0000],\n",
      "         [  1282.0000,   1282.0000,   1280.0000,   1282.0000,   2363.0000,\n",
      "            1281.7791,  69101.0000,   1280.7700,  80040.0000],\n",
      "         [  1281.0000,   1283.0000,   1281.0000,   1282.0000,   2462.0000,\n",
      "            1282.0580, 134440.0000,   1281.0350,  87557.0000],\n",
      "         [  1282.0000,   1285.0000,   1282.0000,   1284.0000,   5782.0000,\n",
      "            1284.2380,  45260.0000,   1283.0909,  62190.0000],\n",
      "         [  1284.0000,   1284.0000,   1283.0000,   1283.0000,   1575.0000,\n",
      "            1284.0260,  55508.0000,   1283.0031, 124716.0000]],\n",
      "\n",
      "        [[  1282.0000,   1282.0000,   1280.0000,   1282.0000,   2363.0000,\n",
      "            1281.7791,  69101.0000,   1280.7700,  80040.0000],\n",
      "         [  1281.0000,   1283.0000,   1281.0000,   1282.0000,   2462.0000,\n",
      "            1282.0580, 134440.0000,   1281.0350,  87557.0000],\n",
      "         [  1282.0000,   1285.0000,   1282.0000,   1284.0000,   5782.0000,\n",
      "            1284.2380,  45260.0000,   1283.0909,  62190.0000],\n",
      "         [  1284.0000,   1284.0000,   1283.0000,   1283.0000,   1575.0000,\n",
      "            1284.0260,  55508.0000,   1283.0031, 124716.0000],\n",
      "         [  1283.0000,   1284.0000,   1282.0000,   1283.0000,   3855.0000,\n",
      "            1283.1071,  78977.0000,   1282.1650,  88897.0000]],\n",
      "\n",
      "        [[  1281.0000,   1283.0000,   1281.0000,   1282.0000,   2462.0000,\n",
      "            1282.0580, 134440.0000,   1281.0350,  87557.0000],\n",
      "         [  1282.0000,   1285.0000,   1282.0000,   1284.0000,   5782.0000,\n",
      "            1284.2380,  45260.0000,   1283.0909,  62190.0000],\n",
      "         [  1284.0000,   1284.0000,   1283.0000,   1283.0000,   1575.0000,\n",
      "            1284.0260,  55508.0000,   1283.0031, 124716.0000],\n",
      "         [  1283.0000,   1284.0000,   1282.0000,   1283.0000,   3855.0000,\n",
      "            1283.1071,  78977.0000,   1282.1650,  88897.0000],\n",
      "         [  1283.0000,   1286.0000,   1283.0000,   1284.0000,   3299.0000,\n",
      "            1284.9070,  59476.0000,   1283.7120,  89454.0000]],\n",
      "\n",
      "        [[  1282.0000,   1285.0000,   1282.0000,   1284.0000,   5782.0000,\n",
      "            1284.2380,  45260.0000,   1283.0909,  62190.0000],\n",
      "         [  1284.0000,   1284.0000,   1283.0000,   1283.0000,   1575.0000,\n",
      "            1284.0260,  55508.0000,   1283.0031, 124716.0000],\n",
      "         [  1283.0000,   1284.0000,   1282.0000,   1283.0000,   3855.0000,\n",
      "            1283.1071,  78977.0000,   1282.1650,  88897.0000],\n",
      "         [  1283.0000,   1286.0000,   1283.0000,   1284.0000,   3299.0000,\n",
      "            1284.9070,  59476.0000,   1283.7120,  89454.0000],\n",
      "         [  1285.0000,   1285.0000,   1284.0000,   1285.0000,   1135.0000,\n",
      "            1285.0000,  69691.0000,   1284.0000,  80590.0000]],\n",
      "\n",
      "        [[  1284.0000,   1284.0000,   1283.0000,   1283.0000,   1575.0000,\n",
      "            1284.0260,  55508.0000,   1283.0031, 124716.0000],\n",
      "         [  1283.0000,   1284.0000,   1282.0000,   1283.0000,   3855.0000,\n",
      "            1283.1071,  78977.0000,   1282.1650,  88897.0000],\n",
      "         [  1283.0000,   1286.0000,   1283.0000,   1284.0000,   3299.0000,\n",
      "            1284.9070,  59476.0000,   1283.7120,  89454.0000],\n",
      "         [  1285.0000,   1285.0000,   1284.0000,   1285.0000,   1135.0000,\n",
      "            1285.0000,  69691.0000,   1284.0000,  80590.0000],\n",
      "         [  1285.0000,   1286.0000,   1284.0000,   1285.0000,   1824.0000,\n",
      "            1285.9390,  65735.0000,   1284.9370,  94667.0000]]])\n",
      "Sample y: tensor([3, 3, 4, 4, 2])\n"
     ]
    }
   ],
   "source": [
    "# 检查数据集\n",
    "dataset = TimeSeriesDataset(df_returns, feature_cols)\n",
    "dataloader = DataLoader(dataset, batch_size=5, shuffle=False)\n",
    "\n",
    "for i, (x_batch, y_batch) in enumerate(dataloader):\n",
    "    print(f\"Batch {i+1}:\", \"-\" * 30)\n",
    "    print(\"X shape:\", x_batch.shape)\n",
    "    print(\"y shape:\", y_batch.shape)\n",
    "    print(\"Sample X:\\n\", x_batch)\n",
    "    print(\"Sample y:\", y_batch)\n",
    "    if i >= 0:\n",
    "        break"
   ]
  },
  {
   "cell_type": "code",
   "execution_count": 72,
   "id": "05700a6c-17a5-4116-8c0d-a439c9be8c0d",
   "metadata": {},
   "outputs": [
    {
     "data": {
      "text/plain": [
       "352"
      ]
     },
     "execution_count": 72,
     "metadata": {},
     "output_type": "execute_result"
    }
   ],
   "source": [
    "len(dataset)"
   ]
  },
  {
   "cell_type": "code",
   "execution_count": 73,
   "id": "8532c171-d82e-4716-b00e-2745adaa7d64",
   "metadata": {},
   "outputs": [],
   "source": [
    "# -----------------------------\n",
    "# 2. 拆分数据集\n",
    "# -----------------------------\n",
    "train_dataset, val_dataset = train_test_split(dataset, test_size=0.2, random_state=42)\n",
    "# 不打乱顺序\n",
    "train_loader = DataLoader(train_dataset, batch_size=5, shuffle=False)\n",
    "val_loader = DataLoader(val_dataset, batch_size=5, shuffle=False)"
   ]
  },
  {
   "cell_type": "code",
   "execution_count": 74,
   "id": "5b7d2701-09ce-41d2-ae2b-575fdfef44eb",
   "metadata": {},
   "outputs": [
    {
     "data": {
      "text/plain": [
       "(281, 71)"
      ]
     },
     "execution_count": 74,
     "metadata": {},
     "output_type": "execute_result"
    }
   ],
   "source": [
    "len(train_dataset), len(val_dataset)"
   ]
  },
  {
   "cell_type": "code",
   "execution_count": 75,
   "id": "56596470-9420-4867-8681-d31ebbcc78bb",
   "metadata": {},
   "outputs": [
    {
     "data": {
      "text/plain": [
       "(torch.Size([5, 9]), torch.Size([9]))"
      ]
     },
     "execution_count": 75,
     "metadata": {},
     "output_type": "execute_result"
    }
   ],
   "source": [
    "# 第0批次中的特征列形状\n",
    "train_dataset[0][0].shape, train_dataset[0][0][0].shape"
   ]
  },
  {
   "cell_type": "code",
   "execution_count": 76,
   "id": "005c3b8f-db04-4094-a1a9-868d7de6f05f",
   "metadata": {},
   "outputs": [
    {
     "data": {
      "text/plain": [
       "torch.Size([])"
      ]
     },
     "execution_count": 76,
     "metadata": {},
     "output_type": "execute_result"
    }
   ],
   "source": [
    "# 第0批次中的标签列形状 - 为一个标量\n",
    "train_dataset[0][1].shape"
   ]
  },
  {
   "cell_type": "code",
   "execution_count": 81,
   "id": "1aacbc36-5147-47ed-99fb-0d0ee0c798ca",
   "metadata": {},
   "outputs": [],
   "source": [
    "# -----------------------------\n",
    "# 2. 位置编码（Positional Encoding）\n",
    "# -----------------------------\n",
    "class PositionalEncoding(nn.Module):\n",
    "    def __init__(self, d_model, dropout=0.1, max_len=500):\n",
    "        super(PositionalEncoding, self).__init__()\n",
    "        self.dropout = nn.Dropout(p=dropout)\n",
    "\n",
    "        pe = torch.zeros(max_len, d_model)\n",
    "        position = torch.arange(0, max_len, dtype=torch.float).unsqueeze(1)\n",
    "        div_term = torch.exp(torch.arange(0, d_model, 2).float() * (-np.log(10000.0) / d_model))\n",
    "        pe[:, 0::2] = torch.sin(position * div_term)\n",
    "        pe[:, 1::2] = torch.cos(position * div_term)\n",
    "        pe = pe.unsqueeze(0)  # (1, max_len, d_model)\n",
    "        self.register_buffer('pe', pe)\n",
    "\n",
    "    def forward(self, x):\n",
    "        x = x + self.pe[:, :x.size(1)]\n",
    "        return self.dropout(x)\n",
    "\n",
    "# -----------------------------\n",
    "# 3. 模型搭建\n",
    "# -----------------------------\n",
    "class TimeSeriesTransformerClassifier(nn.Module):\n",
    "    def __init__(self, seq_len, input_dim, model_dim, num_heads, num_layers, num_classes, dropout=0.5):\n",
    "        super().__init__()\n",
    "        self.model_dim = model_dim\n",
    "\n",
    "        # 输入映射层\n",
    "        self.input_map = nn.Linear(input_dim, model_dim)\n",
    "\n",
    "        # 位置编码\n",
    "        self.pos_encoder = PositionalEncoding(model_dim, dropout)\n",
    "\n",
    "        # Transformer Encoder\n",
    "        encoder_layer = nn.TransformerEncoderLayer(d_model=model_dim, nhead=num_heads, dim_feedforward=2 * model_dim)\n",
    "        self.transformer_encoder = nn.TransformerEncoder(encoder_layer, num_layers=num_layers)\n",
    "\n",
    "        # 分类头\n",
    "        self.classifier = nn.Sequential(\n",
    "            nn.Linear(model_dim * seq_len, 128),\n",
    "            nn.ReLU(),\n",
    "            nn.Dropout(dropout),\n",
    "            nn.Linear(128, num_classes)\n",
    "        )\n",
    "\n",
    "    def forward(self, src):\n",
    "        # src shape: (batch_size, seq_len, input_dim)\n",
    "        # print(f\"in forward: src.shape = {src.dtype}\")\n",
    "        src = self.input_map(src)  # (batch_size, seq_len, model_dim)\n",
    "        src = src.permute(1, 0, 2)  # (seq_len, batch_size, model_dim)\n",
    "        \n",
    "        src = self.pos_encoder(src)\n",
    "        output = self.transformer_encoder(src)  # (seq_len, batch_size, model_dim)\n",
    "        \n",
    "        output = output.permute(1, 0, 2)  # (batch_size, seq_len, model_dim)\n",
    "        output = output.reshape(output.size(0), -1)  # (batch_size, seq_len * model_dim)\n",
    "        \n",
    "        logits = self.classifier(output)  # (batch_size, num_classes)\n",
    "        \n",
    "        return logits\n"
   ]
  },
  {
   "cell_type": "code",
   "execution_count": 85,
   "id": "b1084c95-0b3b-46db-85f2-b4a6d8a4f3f8",
   "metadata": {},
   "outputs": [],
   "source": [
    "device = torch.device(\"cuda\" if torch.cuda.is_available() else \"cpu\")\n",
    "\n",
    "# -----------------------------\n",
    "# 4. 训练函数\n",
    "# -----------------------------\n",
    "def train_model(model, train_loader, criterion, optimizer, epochs=20):\n",
    "    model.to(device)\n",
    "    best_acc = 0.0\n",
    "\n",
    "    for epoch in range(epochs):\n",
    "        model.train()\n",
    "        total_loss = 0\n",
    "        all_preds, all_labels = [], []\n",
    "\n",
    "        for inputs, labels in train_loader:\n",
    "            # inputs 的维度顺序为 [B,S,M]\n",
    "            # B - batch_size\n",
    "            # S - seq_len\n",
    "            # M - model_dim\n",
    "            inputs, labels = inputs.to(device), labels.to(device)\n",
    "            # print(f\"when train: inputs.shape = {inputs.shape}, labels.shape = {labels.shape}\")\n",
    "\n",
    "            # 需要转换 input 得维度 - 维度重排 [S,B,M]\n",
    "            # inputs = inputs.permute(1, 0, 2)\n",
    "            # print(inputs.shape, labels.shape)\n",
    "            \n",
    "            optimizer.zero_grad()\n",
    "            outputs = model(inputs)\n",
    "            loss = criterion(outputs, labels)\n",
    "            loss.backward()\n",
    "            optimizer.step()\n",
    "\n",
    "            total_loss += loss.item()\n",
    "            preds = torch.argmax(outputs, dim=1)\n",
    "            all_preds.extend(preds.cpu().numpy())\n",
    "            all_labels.extend(labels.cpu().numpy())\n",
    "\n",
    "        acc = accuracy_score(all_labels, all_preds)\n",
    "        print(f\"Epoch {epoch+1}/{epochs}, Loss: {total_loss:.4f}, Accuracy: {acc*100:.2f}%\")\n",
    "\n",
    "# -----------------------------\n",
    "# 4. 验证函数\n",
    "# -----------------------------        \n",
    "def eval_model(model, val_loader):\n",
    "    # 验证\n",
    "    model.eval()\n",
    "    with torch.no_grad():\n",
    "        val_preds, val_labels = [], []\n",
    "        for inputs, labels in val_loader:\n",
    "            inputs, labels = inputs.to(device), labels.to(device)\n",
    "            outputs = model(inputs)\n",
    "            preds = torch.argmax(outputs, dim=1)\n",
    "            val_preds.extend(preds.cpu().numpy())\n",
    "            val_labels.extend(labels.cpu().numpy())\n",
    "        val_acc = accuracy_score(val_labels, val_preds)\n",
    "        print(f\"Validation Accuracy: {val_acc*100:.2f}%\\n\")"
   ]
  },
  {
   "cell_type": "code",
   "execution_count": 86,
   "id": "ab336d7a-588e-41ce-8e35-d248a72e0ccb",
   "metadata": {},
   "outputs": [],
   "source": [
    "seq_len = 5            # 时间序列长度\n",
    "input_dim = 9          # 每个时间步的特征维度\n",
    "num_classes = 5        # 分类数（0,1,2,3,4）\n",
    "\n",
    "# 初始化模型\n",
    "model = TimeSeriesTransformerClassifier(\n",
    "    seq_len=seq_len,\n",
    "    input_dim=input_dim,\n",
    "    model_dim=64,\n",
    "    num_heads=4,\n",
    "    num_layers=2,\n",
    "    num_classes=num_classes\n",
    ")\n",
    "\n",
    "criterion = nn.CrossEntropyLoss()\n",
    "optimizer = optim.Adam(model.parameters(), lr=1e-3)"
   ]
  },
  {
   "cell_type": "code",
   "execution_count": 88,
   "id": "7c05bf45-787a-4dff-8795-5ec24fa6e366",
   "metadata": {
    "scrolled": true
   },
   "outputs": [
    {
     "name": "stdout",
     "output_type": "stream",
     "text": [
      "Epoch 1/20, Loss: 90.5212, Accuracy: 28.83%\n",
      "Epoch 2/20, Loss: 87.1765, Accuracy: 31.32%\n",
      "Epoch 3/20, Loss: 88.6485, Accuracy: 37.37%\n",
      "Epoch 4/20, Loss: 88.6165, Accuracy: 32.38%\n",
      "Epoch 5/20, Loss: 88.4407, Accuracy: 33.45%\n",
      "Epoch 6/20, Loss: 87.1830, Accuracy: 36.30%\n",
      "Epoch 7/20, Loss: 86.5914, Accuracy: 36.30%\n",
      "Epoch 8/20, Loss: 86.2741, Accuracy: 35.59%\n",
      "Epoch 9/20, Loss: 87.3806, Accuracy: 37.37%\n",
      "Epoch 10/20, Loss: 86.4071, Accuracy: 34.52%\n",
      "Epoch 11/20, Loss: 86.5005, Accuracy: 37.01%\n",
      "Epoch 12/20, Loss: 84.2455, Accuracy: 37.72%\n",
      "Epoch 13/20, Loss: 85.7422, Accuracy: 37.37%\n",
      "Epoch 14/20, Loss: 85.1909, Accuracy: 37.72%\n",
      "Epoch 15/20, Loss: 85.0313, Accuracy: 35.94%\n",
      "Epoch 16/20, Loss: 84.8671, Accuracy: 38.08%\n",
      "Epoch 17/20, Loss: 84.7494, Accuracy: 37.37%\n",
      "Epoch 18/20, Loss: 85.1331, Accuracy: 34.16%\n",
      "Epoch 19/20, Loss: 87.5351, Accuracy: 37.01%\n",
      "Epoch 20/20, Loss: 85.0583, Accuracy: 37.37%\n"
     ]
    }
   ],
   "source": [
    "# 开始训练\n",
    "train_model(model, train_loader, criterion, optimizer, epochs=20)"
   ]
  },
  {
   "cell_type": "code",
   "execution_count": null,
   "id": "78874b3c-4d0f-460b-9b9d-b784292bf390",
   "metadata": {},
   "outputs": [],
   "source": []
  }
 ],
 "metadata": {
  "kernelspec": {
   "display_name": "Python3.11 (ctp)",
   "language": "python",
   "name": "ctp-py311"
  },
  "language_info": {
   "codemirror_mode": {
    "name": "ipython",
    "version": 3
   },
   "file_extension": ".py",
   "mimetype": "text/x-python",
   "name": "python",
   "nbconvert_exporter": "python",
   "pygments_lexer": "ipython3",
   "version": "3.11.4"
  }
 },
 "nbformat": 4,
 "nbformat_minor": 5
}
