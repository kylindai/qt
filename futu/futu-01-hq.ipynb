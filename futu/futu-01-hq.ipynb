{
 "cells": [
  {
   "cell_type": "code",
   "execution_count": 1,
   "id": "3e74f355",
   "metadata": {},
   "outputs": [],
   "source": [
    "from futu import *"
   ]
  },
  {
   "cell_type": "code",
   "execution_count": 2,
   "id": "56dd50d2",
   "metadata": {},
   "outputs": [
    {
     "name": "stdout",
     "output_type": "stream",
     "text": [
      "\u001b[0;30m2022-04-10 19:06:02,244 | 21639 | [open_context_base.py] _send_init_connect_sync:311: InitConnect ok: conn_id=1, host=127.0.0.1, port=11111, user_id=2836159\u001b[0m\n",
      "(0,        code          update_time  last_price  open_price  high_price  \\\n",
      "0  HK.00700  2022-04-08 16:08:13       369.6       370.0       372.2   \n",
      "\n",
      "   low_price  prev_close_price    volume      turnover  turnover_rate  ...  \\\n",
      "0      366.0             374.4  19600870  7.229872e+09          0.204  ...   \n",
      "\n",
      "   pre_turnover pre_change_val  pre_change_rate  pre_amplitude  after_price  \\\n",
      "0           N/A            N/A              N/A            N/A          N/A   \n",
      "\n",
      "   after_high_price  after_low_price  after_change_val  after_change_rate  \\\n",
      "0               N/A              N/A               N/A                N/A   \n",
      "\n",
      "   after_amplitude  \n",
      "0              N/A  \n",
      "\n",
      "[1 rows x 133 columns])\n",
      "(0,        code             time_key       open      close       high        low  \\\n",
      "0  HK.00700  2021-10-26 00:00:00  492.57950  487.24120  493.06480  481.02936   \n",
      "1  HK.00700  2021-10-27 00:00:00  476.37048  472.68220  477.14696  468.02332   \n",
      "2  HK.00700  2021-10-28 00:00:00  471.51748  473.84692  479.47640  471.51748   \n",
      "3  HK.00700  2021-10-29 00:00:00  472.48808  466.85860  474.04104  466.85860   \n",
      "\n",
      "   pe_ratio  turnover_rate    volume      turnover  change_rate  last_close  \n",
      "0    25.303        0.00160  15772857  7.680289e+09    -0.594059   490.15300  \n",
      "1    24.547        0.00195  19282829  9.118398e+09    -2.988048   487.24120  \n",
      "2    24.608        0.00142  14087393  6.692673e+09     0.246407   472.68220  \n",
      "3    24.245        0.00171  16938504  7.948323e+09    -1.474805   473.84692  , None)\n",
      "\u001b[0;30m2022-04-10 19:06:02,450 | 21639 | [open_context_base.py] on_disconnect:383: Disconnected: conn_id=1\u001b[0m\n"
     ]
    }
   ],
   "source": [
    "quote_ctx = OpenQuoteContext(host='127.0.0.1', port=11111)\n",
    "print(quote_ctx.get_market_snapshot('HK.00700'))\n",
    "print(quote_ctx.request_history_kline('HK.00700', start='2021-10-26', end='2021-10-29'))\n",
    "\n",
    "quote_ctx.close()\n"
   ]
  },
  {
   "cell_type": "code",
   "execution_count": 3,
   "id": "4b59d08f",
   "metadata": {},
   "outputs": [
    {
     "name": "stdout",
     "output_type": "stream",
     "text": [
      "\u001b[0;30m2022-04-10 19:06:36,057 | 21639 | [open_context_base.py] _send_init_connect_sync:311: InitConnect ok: conn_id=2, host=127.0.0.1, port=11111, user_id=2836159\u001b[0m\n",
      "(-1, 'No right to get this quote')\n",
      "(-1, 'No right to get this quote', None)\n",
      "\u001b[0;30m2022-04-10 19:06:36,244 | 21639 | [open_context_base.py] on_disconnect:383: Disconnected: conn_id=2\u001b[0m\n"
     ]
    }
   ],
   "source": [
    "quote_ctx = OpenQuoteContext(host='127.0.0.1', port=11111)\n",
    "print(quote_ctx.get_market_snapshot('US.NIO'))\n",
    "print(quote_ctx.request_history_kline('US.NIO', start='2021-10-26', end='2021-10-29'))\n",
    "\n",
    "quote_ctx.close()\n"
   ]
  },
  {
   "cell_type": "code",
   "execution_count": null,
   "id": "a867337a",
   "metadata": {},
   "outputs": [],
   "source": []
  }
 ],
 "metadata": {
  "kernelspec": {
   "display_name": "Python 3 (ipykernel)",
   "language": "python",
   "name": "python3"
  },
  "language_info": {
   "codemirror_mode": {
    "name": "ipython",
    "version": 3
   },
   "file_extension": ".py",
   "mimetype": "text/x-python",
   "name": "python",
   "nbconvert_exporter": "python",
   "pygments_lexer": "ipython3",
   "version": "3.9.7"
  }
 },
 "nbformat": 4,
 "nbformat_minor": 5
}
